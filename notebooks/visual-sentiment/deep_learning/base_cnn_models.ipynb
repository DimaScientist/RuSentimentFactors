{
 "cells": [
  {
   "cell_type": "markdown",
   "source": [
    "# Visual Sentiment analysis with CNN"
   ],
   "metadata": {
    "collapsed": false
   }
  },
  {
   "cell_type": "code",
   "execution_count": 1,
   "outputs": [],
   "source": [
    "from pathlib import Path\n",
    "import time\n",
    "\n",
    "import warnings\n",
    "from typing import Any, Dict, Tuple\n",
    "\n",
    "from PIL import Image\n",
    "\n",
    "import pandas as pd\n",
    "import numpy as np\n",
    "\n",
    "from tqdm import tqdm\n",
    "\n",
    "import matplotlib.pyplot as plt\n",
    "\n",
    "import torch\n",
    "from torch import optim\n",
    "from torchvision import transforms, models\n",
    "from torch.nn import functional as F\n",
    "from torch.utils.data import DataLoader, TensorDataset\n",
    "\n",
    "from sklearn.metrics import f1_score\n",
    "from sklearn.preprocessing import LabelEncoder\n",
    "\n",
    "warnings.filterwarnings(\"ignore\")\n",
    "np.random.seed(42)\n",
    "torch.manual_seed(42)\n",
    "torch.cuda.manual_seed_all(42)"
   ],
   "metadata": {
    "collapsed": false,
    "ExecuteTime": {
     "start_time": "2023-04-10T19:23:43.560418Z",
     "end_time": "2023-04-10T19:23:50.995575Z"
    }
   }
  },
  {
   "cell_type": "code",
   "execution_count": 2,
   "outputs": [
    {
     "name": "stdout",
     "output_type": "stream",
     "text": [
      "cuda\n"
     ]
    }
   ],
   "source": [
    "if torch.cuda.is_available():\n",
    "    device = \"cuda\"\n",
    "else:\n",
    "    device = \"cpu\"\n",
    "print(device)"
   ],
   "metadata": {
    "collapsed": false,
    "ExecuteTime": {
     "start_time": "2023-04-10T19:23:50.989577Z",
     "end_time": "2023-04-10T19:23:51.061578Z"
    }
   }
  },
  {
   "cell_type": "markdown",
   "source": [
    "## Data downloading and preprocessing"
   ],
   "metadata": {
    "collapsed": false
   }
  },
  {
   "cell_type": "code",
   "execution_count": 3,
   "outputs": [],
   "source": [
    "NUM_CLASSES = 3\n",
    "\n",
    "BATCH_SIZE = 32\n",
    "NUM_EPOCHS = 10\n",
    "\n",
    "BASE_DIR = Path(\"..\")"
   ],
   "metadata": {
    "collapsed": false,
    "ExecuteTime": {
     "start_time": "2023-04-10T19:23:51.033577Z",
     "end_time": "2023-04-10T19:23:51.077576Z"
    }
   }
  },
  {
   "cell_type": "code",
   "execution_count": 4,
   "outputs": [
    {
     "data": {
      "text/plain": "                                       image_path sentiment\n0   data/preprocess_images/positive/104505632.jpg  positive\n1  data/preprocess_images/positive/1059249846.jpg  positive\n2   data/preprocess_images/positive/108501238.jpg  positive\n3  data/preprocess_images/positive/1089046474.jpg  positive\n4  data/preprocess_images/positive/1096822187.jpg  positive",
      "text/html": "<div>\n<style scoped>\n    .dataframe tbody tr th:only-of-type {\n        vertical-align: middle;\n    }\n\n    .dataframe tbody tr th {\n        vertical-align: top;\n    }\n\n    .dataframe thead th {\n        text-align: right;\n    }\n</style>\n<table border=\"1\" class=\"dataframe\">\n  <thead>\n    <tr style=\"text-align: right;\">\n      <th></th>\n      <th>image_path</th>\n      <th>sentiment</th>\n    </tr>\n  </thead>\n  <tbody>\n    <tr>\n      <th>0</th>\n      <td>data/preprocess_images/positive/104505632.jpg</td>\n      <td>positive</td>\n    </tr>\n    <tr>\n      <th>1</th>\n      <td>data/preprocess_images/positive/1059249846.jpg</td>\n      <td>positive</td>\n    </tr>\n    <tr>\n      <th>2</th>\n      <td>data/preprocess_images/positive/108501238.jpg</td>\n      <td>positive</td>\n    </tr>\n    <tr>\n      <th>3</th>\n      <td>data/preprocess_images/positive/1089046474.jpg</td>\n      <td>positive</td>\n    </tr>\n    <tr>\n      <th>4</th>\n      <td>data/preprocess_images/positive/1096822187.jpg</td>\n      <td>positive</td>\n    </tr>\n  </tbody>\n</table>\n</div>"
     },
     "execution_count": 4,
     "metadata": {},
     "output_type": "execute_result"
    }
   ],
   "source": [
    "image_info_df = pd.read_csv(\"../image_sentiment_data.csv\")\n",
    "image_info_df.head()"
   ],
   "metadata": {
    "collapsed": false,
    "ExecuteTime": {
     "start_time": "2023-04-10T19:23:51.050577Z",
     "end_time": "2023-04-10T19:23:51.133576Z"
    }
   }
  },
  {
   "cell_type": "code",
   "execution_count": 5,
   "outputs": [],
   "source": [
    "label_encoder = LabelEncoder()\n",
    "encoded_labels = label_encoder.fit_transform(image_info_df[\"sentiment\"])"
   ],
   "metadata": {
    "collapsed": false,
    "ExecuteTime": {
     "start_time": "2023-04-10T19:23:51.098577Z",
     "end_time": "2023-04-10T19:23:51.135574Z"
    }
   }
  },
  {
   "cell_type": "code",
   "execution_count": 6,
   "outputs": [],
   "source": [
    "def prepare_dataloaders(\n",
    "    image_data_info: pd.DataFrame,\n",
    "    image_size: Tuple[int, int],\n",
    "    test_size: float,\n",
    "    labels: np.ndarray,\n",
    "    device: str,\n",
    "    shuffle_train: bool = True,\n",
    "    shuffle_test: bool = True,\n",
    "    batch_size_train: int = 32,\n",
    "    batch_size_test: int = 1,\n",
    ") -> Tuple[DataLoader, DataLoader]:\n",
    "    images = []\n",
    "    image_paths = image_data_info[\"image_path\"].tolist()\n",
    "\n",
    "    image_transform = transforms.Compose([\n",
    "        transforms.Resize(image_size),\n",
    "        transforms.ToTensor(),\n",
    "        transforms.Normalize((0.5, 0.5, 0.5), (0.5, 0.5, 0.5)),\n",
    "    ])\n",
    "\n",
    "    for image_path in tqdm(image_paths):\n",
    "        image_path_ = Path(BASE_DIR / image_path).as_posix()\n",
    "        image = Image.open(image_path_)\n",
    "        images.append(image_transform(image).numpy())\n",
    "\n",
    "    images = np.array(images)\n",
    "\n",
    "    X = torch.from_numpy(images)\n",
    "    y = np.array(labels).astype(np.int64)\n",
    "    y = F.one_hot(torch.from_numpy(y).to(torch.int64)).to(torch.float64)\n",
    "\n",
    "    train_size = 1 - test_size\n",
    "    X_train = X[: int(train_size * len(X))]\n",
    "    y_train = y[: int(train_size * len(y))]\n",
    "    X_test = X[int(train_size * len(X)):]\n",
    "    y_test = y[int(train_size * len(y)):]\n",
    "\n",
    "    train_dataset = TensorDataset(X_train.to(device), y_train.to(device))\n",
    "    test_dataset = TensorDataset(X_test.to(device), y_test.to(device))\n",
    "\n",
    "    train_dataloader = DataLoader(train_dataset, batch_size=batch_size_train, shuffle=shuffle_train)\n",
    "    test_dataloader = DataLoader(test_dataset, batch_size=batch_size_test, shuffle=shuffle_test)\n",
    "    return train_dataloader, test_dataloader\n"
   ],
   "metadata": {
    "collapsed": false,
    "ExecuteTime": {
     "start_time": "2023-04-10T19:23:51.122577Z",
     "end_time": "2023-04-10T19:23:51.170578Z"
    }
   }
  },
  {
   "cell_type": "code",
   "execution_count": 7,
   "outputs": [],
   "source": [
    "def f1_weighted_score(preds: torch.Tensor, labels: torch.Tensor):\n",
    "    pred_numpy = preds.cpu().detach().numpy()\n",
    "    labels_numpy = labels.cpu().detach().numpy()\n",
    "    pred_flatten = np.argmax(pred_numpy, axis=1).flatten()\n",
    "    labels_flatten = np.argmax(labels_numpy, axis=1).flatten()\n",
    "    return f1_score(labels_flatten.astype(np.int32), pred_flatten.astype(np.int32), average=\"weighted\")"
   ],
   "metadata": {
    "collapsed": false,
    "ExecuteTime": {
     "start_time": "2023-04-10T19:23:51.129578Z",
     "end_time": "2023-04-10T19:23:51.231574Z"
    }
   }
  },
  {
   "cell_type": "code",
   "execution_count": 8,
   "outputs": [],
   "source": [
    "def train(\n",
    "    model: torch.nn.Module,\n",
    "    dataloader: DataLoader,\n",
    "    optim: optim.Optimizer,\n",
    "    loss_func: torch.nn.Module,\n",
    ") -> Tuple[float, float]:\n",
    "    loss = 0\n",
    "    accuracy = 0\n",
    "    model.train()\n",
    "    for image, sentiment in dataloader:\n",
    "        optim.zero_grad()\n",
    "        preds = model(image).squeeze()\n",
    "        loss_current = loss_func(preds, sentiment)\n",
    "        accuracy_curr = f1_weighted_score(preds, sentiment)\n",
    "        loss_current.backward()\n",
    "        optim.step()\n",
    "        loss += loss_current.item()\n",
    "        accuracy += accuracy_curr.item()\n",
    "    return loss / len(dataloader), accuracy / len(dataloader)"
   ],
   "metadata": {
    "collapsed": false,
    "ExecuteTime": {
     "start_time": "2023-04-10T19:23:51.145577Z",
     "end_time": "2023-04-10T19:23:51.272578Z"
    }
   }
  },
  {
   "cell_type": "code",
   "execution_count": 9,
   "outputs": [],
   "source": [
    "def validate(\n",
    "    model: torch.nn.Module,\n",
    "    dataloader: DataLoader,\n",
    "    loss_func: torch.nn.Module,\n",
    ") -> Tuple[float, float]:\n",
    "    loss = 0\n",
    "    accuracy = 0\n",
    "    model.eval()\n",
    "    with torch.no_grad():\n",
    "        for image, sentiment in dataloader:\n",
    "            preds = model(image).squeeze()\n",
    "            loss_current = loss_func(preds, sentiment)\n",
    "            accuracy_current = f1_weighted_score(preds, sentiment)\n",
    "            loss += loss_current.item()\n",
    "            accuracy += accuracy_current.item()\n",
    "    return loss / len(dataloader), accuracy / len(dataloader)"
   ],
   "metadata": {
    "collapsed": false,
    "ExecuteTime": {
     "start_time": "2023-04-10T19:23:51.161575Z",
     "end_time": "2023-04-10T19:23:51.272578Z"
    }
   }
  },
  {
   "cell_type": "code",
   "execution_count": 10,
   "outputs": [],
   "source": [
    "def training(\n",
    "    model: torch.nn.Module,\n",
    "    train_data: DataLoader,\n",
    "    validate_data: DataLoader,\n",
    "    optim: optim.Optimizer,\n",
    "    loss_func: torch.nn.Module,\n",
    "    num_epochs: int = 10,\n",
    ") -> Dict[str, Any]:\n",
    "    best_loss = float('inf')\n",
    "    history = {\n",
    "        \"train\": {\n",
    "            \"loss\": [],\n",
    "            \"accuracy\": [],\n",
    "        },\n",
    "        \"valid\": {\n",
    "            \"loss\": [],\n",
    "            \"accuracy\": [],\n",
    "        }\n",
    "    }\n",
    "    for epoch in range(num_epochs):\n",
    "        print(f\"{'=' * 15} Epoch: {epoch + 1} {'=' * 15}\")\n",
    "        time_start = time.time()\n",
    "        train_loss, train_accuracy = train(model, train_data, optim, loss_func)\n",
    "        print(f\"Train: loss={train_loss:.3f}, accuracy={train_accuracy:.3f}\")\n",
    "        validation_loss, validation_accuracy = validate(model, validate_data, loss_func)\n",
    "        print(f\"Validation: loss={validation_loss:.3f}, accuracy={validation_accuracy:.3f}\")\n",
    "        time_end = time.time()\n",
    "        time_delta = time_end - time_start\n",
    "        if validation_loss < best_loss:\n",
    "            best_loss = validation_loss\n",
    "        history[\"train\"][\"accuracy\"].append(train_accuracy)\n",
    "        history[\"train\"][\"loss\"].append(train_accuracy)\n",
    "        history[\"valid\"][\"accuracy\"].append(validation_accuracy)\n",
    "        history[\"valid\"][\"loss\"].append(validation_loss)\n",
    "        print(f\"Time elapsed: {time_delta:.2f} s\\n{'=' * 40}\")\n",
    "    return history"
   ],
   "metadata": {
    "collapsed": false,
    "ExecuteTime": {
     "start_time": "2023-04-10T19:23:51.180575Z",
     "end_time": "2023-04-10T19:23:51.273578Z"
    }
   }
  },
  {
   "cell_type": "code",
   "execution_count": 11,
   "outputs": [],
   "source": [
    "def plot_history(history: dict) -> None:\n",
    "    train = history.get(\"train\")\n",
    "    valid = history.get(\"valid\")\n",
    "    plt.title(\"Loss\")\n",
    "    plt.plot(train.get(\"loss\"), label=\"train\")\n",
    "    plt.plot(valid.get(\"loss\"), label=\"valid\")\n",
    "    plt.legend()\n",
    "    plt.show()\n",
    "    plt.title(\"Accuracy\")\n",
    "    plt.plot(train.get(\"accuracy\"), label=\"train\")\n",
    "    plt.plot(valid.get(\"accuracy\"), label=\"valid\")\n",
    "    plt.legend()\n",
    "    plt.show()"
   ],
   "metadata": {
    "collapsed": false,
    "ExecuteTime": {
     "start_time": "2023-04-10T19:23:51.191577Z",
     "end_time": "2023-04-10T19:23:51.274575Z"
    }
   }
  },
  {
   "cell_type": "markdown",
   "source": [
    "## Model validation"
   ],
   "metadata": {
    "collapsed": false
   }
  },
  {
   "cell_type": "code",
   "execution_count": 12,
   "outputs": [],
   "source": [
    "def set_parameter_requires_grad(model: torch.nn.Module, feature_extracting: bool):\n",
    "    if feature_extracting:\n",
    "        for param in model.parameters():\n",
    "            param.requires_grad = False"
   ],
   "metadata": {
    "collapsed": false,
    "ExecuteTime": {
     "start_time": "2023-04-10T19:23:51.206576Z",
     "end_time": "2023-04-10T19:23:51.275576Z"
    }
   }
  },
  {
   "cell_type": "code",
   "execution_count": 13,
   "outputs": [],
   "source": [
    "def init_model(\n",
    "    model_name: str,\n",
    "    num_classes: int,\n",
    "    feature_extract: bool,\n",
    "    use_pretrained: bool = True\n",
    ") -> Tuple[torch.nn.Module, int]:\n",
    "    model = None\n",
    "    input_size = 0\n",
    "    if model_name == \"resnet\":\n",
    "        model = models.resnet50(pretrained=use_pretrained, progress=True)\n",
    "        set_parameter_requires_grad(model, feature_extract)\n",
    "        fc_input = model.fc.in_features\n",
    "        model.fc = torch.nn.Linear(fc_input, num_classes)\n",
    "        input_size = 224\n",
    "    elif model_name == \"alexnet\":\n",
    "        model = models.alexnet(pretrained=use_pretrained, progress=True)\n",
    "        set_parameter_requires_grad(model, feature_extract)\n",
    "        fc_input = model.classifier[6].in_features\n",
    "        model.classifier[6] = torch.nn.Linear(fc_input,num_classes)\n",
    "        input_size = 224\n",
    "    elif model_name == \"vgg\":\n",
    "        model = models.vgg19(pretrained=use_pretrained, progress=True)\n",
    "        set_parameter_requires_grad(model, feature_extract)\n",
    "        fc_input = model.classifier[6].in_features\n",
    "        model.classifier[6] = torch.nn.Linear(fc_input,num_classes)\n",
    "        input_size = 224\n",
    "    return model, input_size"
   ],
   "metadata": {
    "collapsed": false,
    "ExecuteTime": {
     "start_time": "2023-04-10T19:23:51.226579Z",
     "end_time": "2023-04-10T19:23:51.275576Z"
    }
   }
  },
  {
   "cell_type": "markdown",
   "source": [
    "### ResNet50"
   ],
   "metadata": {
    "collapsed": false
   }
  },
  {
   "cell_type": "code",
   "execution_count": 14,
   "outputs": [],
   "source": [
    "torch.cuda.empty_cache()"
   ],
   "metadata": {
    "collapsed": false,
    "ExecuteTime": {
     "start_time": "2023-04-10T19:23:51.241577Z",
     "end_time": "2023-04-10T19:23:51.276577Z"
    }
   }
  },
  {
   "cell_type": "code",
   "execution_count": 15,
   "outputs": [],
   "source": [
    "resnet50_model, resnet_input_size = init_model(\n",
    "    \"resnet\",\n",
    "    num_classes=NUM_CLASSES,\n",
    "    feature_extract=False,\n",
    "    use_pretrained=True,\n",
    ")"
   ],
   "metadata": {
    "collapsed": false,
    "ExecuteTime": {
     "start_time": "2023-04-10T19:23:51.254577Z",
     "end_time": "2023-04-10T19:23:52.264574Z"
    }
   }
  },
  {
   "cell_type": "code",
   "execution_count": 16,
   "outputs": [
    {
     "data": {
      "text/plain": "ResNet(\n  (conv1): Conv2d(3, 64, kernel_size=(7, 7), stride=(2, 2), padding=(3, 3), bias=False)\n  (bn1): BatchNorm2d(64, eps=1e-05, momentum=0.1, affine=True, track_running_stats=True)\n  (relu): ReLU(inplace=True)\n  (maxpool): MaxPool2d(kernel_size=3, stride=2, padding=1, dilation=1, ceil_mode=False)\n  (layer1): Sequential(\n    (0): Bottleneck(\n      (conv1): Conv2d(64, 64, kernel_size=(1, 1), stride=(1, 1), bias=False)\n      (bn1): BatchNorm2d(64, eps=1e-05, momentum=0.1, affine=True, track_running_stats=True)\n      (conv2): Conv2d(64, 64, kernel_size=(3, 3), stride=(1, 1), padding=(1, 1), bias=False)\n      (bn2): BatchNorm2d(64, eps=1e-05, momentum=0.1, affine=True, track_running_stats=True)\n      (conv3): Conv2d(64, 256, kernel_size=(1, 1), stride=(1, 1), bias=False)\n      (bn3): BatchNorm2d(256, eps=1e-05, momentum=0.1, affine=True, track_running_stats=True)\n      (relu): ReLU(inplace=True)\n      (downsample): Sequential(\n        (0): Conv2d(64, 256, kernel_size=(1, 1), stride=(1, 1), bias=False)\n        (1): BatchNorm2d(256, eps=1e-05, momentum=0.1, affine=True, track_running_stats=True)\n      )\n    )\n    (1): Bottleneck(\n      (conv1): Conv2d(256, 64, kernel_size=(1, 1), stride=(1, 1), bias=False)\n      (bn1): BatchNorm2d(64, eps=1e-05, momentum=0.1, affine=True, track_running_stats=True)\n      (conv2): Conv2d(64, 64, kernel_size=(3, 3), stride=(1, 1), padding=(1, 1), bias=False)\n      (bn2): BatchNorm2d(64, eps=1e-05, momentum=0.1, affine=True, track_running_stats=True)\n      (conv3): Conv2d(64, 256, kernel_size=(1, 1), stride=(1, 1), bias=False)\n      (bn3): BatchNorm2d(256, eps=1e-05, momentum=0.1, affine=True, track_running_stats=True)\n      (relu): ReLU(inplace=True)\n    )\n    (2): Bottleneck(\n      (conv1): Conv2d(256, 64, kernel_size=(1, 1), stride=(1, 1), bias=False)\n      (bn1): BatchNorm2d(64, eps=1e-05, momentum=0.1, affine=True, track_running_stats=True)\n      (conv2): Conv2d(64, 64, kernel_size=(3, 3), stride=(1, 1), padding=(1, 1), bias=False)\n      (bn2): BatchNorm2d(64, eps=1e-05, momentum=0.1, affine=True, track_running_stats=True)\n      (conv3): Conv2d(64, 256, kernel_size=(1, 1), stride=(1, 1), bias=False)\n      (bn3): BatchNorm2d(256, eps=1e-05, momentum=0.1, affine=True, track_running_stats=True)\n      (relu): ReLU(inplace=True)\n    )\n  )\n  (layer2): Sequential(\n    (0): Bottleneck(\n      (conv1): Conv2d(256, 128, kernel_size=(1, 1), stride=(1, 1), bias=False)\n      (bn1): BatchNorm2d(128, eps=1e-05, momentum=0.1, affine=True, track_running_stats=True)\n      (conv2): Conv2d(128, 128, kernel_size=(3, 3), stride=(2, 2), padding=(1, 1), bias=False)\n      (bn2): BatchNorm2d(128, eps=1e-05, momentum=0.1, affine=True, track_running_stats=True)\n      (conv3): Conv2d(128, 512, kernel_size=(1, 1), stride=(1, 1), bias=False)\n      (bn3): BatchNorm2d(512, eps=1e-05, momentum=0.1, affine=True, track_running_stats=True)\n      (relu): ReLU(inplace=True)\n      (downsample): Sequential(\n        (0): Conv2d(256, 512, kernel_size=(1, 1), stride=(2, 2), bias=False)\n        (1): BatchNorm2d(512, eps=1e-05, momentum=0.1, affine=True, track_running_stats=True)\n      )\n    )\n    (1): Bottleneck(\n      (conv1): Conv2d(512, 128, kernel_size=(1, 1), stride=(1, 1), bias=False)\n      (bn1): BatchNorm2d(128, eps=1e-05, momentum=0.1, affine=True, track_running_stats=True)\n      (conv2): Conv2d(128, 128, kernel_size=(3, 3), stride=(1, 1), padding=(1, 1), bias=False)\n      (bn2): BatchNorm2d(128, eps=1e-05, momentum=0.1, affine=True, track_running_stats=True)\n      (conv3): Conv2d(128, 512, kernel_size=(1, 1), stride=(1, 1), bias=False)\n      (bn3): BatchNorm2d(512, eps=1e-05, momentum=0.1, affine=True, track_running_stats=True)\n      (relu): ReLU(inplace=True)\n    )\n    (2): Bottleneck(\n      (conv1): Conv2d(512, 128, kernel_size=(1, 1), stride=(1, 1), bias=False)\n      (bn1): BatchNorm2d(128, eps=1e-05, momentum=0.1, affine=True, track_running_stats=True)\n      (conv2): Conv2d(128, 128, kernel_size=(3, 3), stride=(1, 1), padding=(1, 1), bias=False)\n      (bn2): BatchNorm2d(128, eps=1e-05, momentum=0.1, affine=True, track_running_stats=True)\n      (conv3): Conv2d(128, 512, kernel_size=(1, 1), stride=(1, 1), bias=False)\n      (bn3): BatchNorm2d(512, eps=1e-05, momentum=0.1, affine=True, track_running_stats=True)\n      (relu): ReLU(inplace=True)\n    )\n    (3): Bottleneck(\n      (conv1): Conv2d(512, 128, kernel_size=(1, 1), stride=(1, 1), bias=False)\n      (bn1): BatchNorm2d(128, eps=1e-05, momentum=0.1, affine=True, track_running_stats=True)\n      (conv2): Conv2d(128, 128, kernel_size=(3, 3), stride=(1, 1), padding=(1, 1), bias=False)\n      (bn2): BatchNorm2d(128, eps=1e-05, momentum=0.1, affine=True, track_running_stats=True)\n      (conv3): Conv2d(128, 512, kernel_size=(1, 1), stride=(1, 1), bias=False)\n      (bn3): BatchNorm2d(512, eps=1e-05, momentum=0.1, affine=True, track_running_stats=True)\n      (relu): ReLU(inplace=True)\n    )\n  )\n  (layer3): Sequential(\n    (0): Bottleneck(\n      (conv1): Conv2d(512, 256, kernel_size=(1, 1), stride=(1, 1), bias=False)\n      (bn1): BatchNorm2d(256, eps=1e-05, momentum=0.1, affine=True, track_running_stats=True)\n      (conv2): Conv2d(256, 256, kernel_size=(3, 3), stride=(2, 2), padding=(1, 1), bias=False)\n      (bn2): BatchNorm2d(256, eps=1e-05, momentum=0.1, affine=True, track_running_stats=True)\n      (conv3): Conv2d(256, 1024, kernel_size=(1, 1), stride=(1, 1), bias=False)\n      (bn3): BatchNorm2d(1024, eps=1e-05, momentum=0.1, affine=True, track_running_stats=True)\n      (relu): ReLU(inplace=True)\n      (downsample): Sequential(\n        (0): Conv2d(512, 1024, kernel_size=(1, 1), stride=(2, 2), bias=False)\n        (1): BatchNorm2d(1024, eps=1e-05, momentum=0.1, affine=True, track_running_stats=True)\n      )\n    )\n    (1): Bottleneck(\n      (conv1): Conv2d(1024, 256, kernel_size=(1, 1), stride=(1, 1), bias=False)\n      (bn1): BatchNorm2d(256, eps=1e-05, momentum=0.1, affine=True, track_running_stats=True)\n      (conv2): Conv2d(256, 256, kernel_size=(3, 3), stride=(1, 1), padding=(1, 1), bias=False)\n      (bn2): BatchNorm2d(256, eps=1e-05, momentum=0.1, affine=True, track_running_stats=True)\n      (conv3): Conv2d(256, 1024, kernel_size=(1, 1), stride=(1, 1), bias=False)\n      (bn3): BatchNorm2d(1024, eps=1e-05, momentum=0.1, affine=True, track_running_stats=True)\n      (relu): ReLU(inplace=True)\n    )\n    (2): Bottleneck(\n      (conv1): Conv2d(1024, 256, kernel_size=(1, 1), stride=(1, 1), bias=False)\n      (bn1): BatchNorm2d(256, eps=1e-05, momentum=0.1, affine=True, track_running_stats=True)\n      (conv2): Conv2d(256, 256, kernel_size=(3, 3), stride=(1, 1), padding=(1, 1), bias=False)\n      (bn2): BatchNorm2d(256, eps=1e-05, momentum=0.1, affine=True, track_running_stats=True)\n      (conv3): Conv2d(256, 1024, kernel_size=(1, 1), stride=(1, 1), bias=False)\n      (bn3): BatchNorm2d(1024, eps=1e-05, momentum=0.1, affine=True, track_running_stats=True)\n      (relu): ReLU(inplace=True)\n    )\n    (3): Bottleneck(\n      (conv1): Conv2d(1024, 256, kernel_size=(1, 1), stride=(1, 1), bias=False)\n      (bn1): BatchNorm2d(256, eps=1e-05, momentum=0.1, affine=True, track_running_stats=True)\n      (conv2): Conv2d(256, 256, kernel_size=(3, 3), stride=(1, 1), padding=(1, 1), bias=False)\n      (bn2): BatchNorm2d(256, eps=1e-05, momentum=0.1, affine=True, track_running_stats=True)\n      (conv3): Conv2d(256, 1024, kernel_size=(1, 1), stride=(1, 1), bias=False)\n      (bn3): BatchNorm2d(1024, eps=1e-05, momentum=0.1, affine=True, track_running_stats=True)\n      (relu): ReLU(inplace=True)\n    )\n    (4): Bottleneck(\n      (conv1): Conv2d(1024, 256, kernel_size=(1, 1), stride=(1, 1), bias=False)\n      (bn1): BatchNorm2d(256, eps=1e-05, momentum=0.1, affine=True, track_running_stats=True)\n      (conv2): Conv2d(256, 256, kernel_size=(3, 3), stride=(1, 1), padding=(1, 1), bias=False)\n      (bn2): BatchNorm2d(256, eps=1e-05, momentum=0.1, affine=True, track_running_stats=True)\n      (conv3): Conv2d(256, 1024, kernel_size=(1, 1), stride=(1, 1), bias=False)\n      (bn3): BatchNorm2d(1024, eps=1e-05, momentum=0.1, affine=True, track_running_stats=True)\n      (relu): ReLU(inplace=True)\n    )\n    (5): Bottleneck(\n      (conv1): Conv2d(1024, 256, kernel_size=(1, 1), stride=(1, 1), bias=False)\n      (bn1): BatchNorm2d(256, eps=1e-05, momentum=0.1, affine=True, track_running_stats=True)\n      (conv2): Conv2d(256, 256, kernel_size=(3, 3), stride=(1, 1), padding=(1, 1), bias=False)\n      (bn2): BatchNorm2d(256, eps=1e-05, momentum=0.1, affine=True, track_running_stats=True)\n      (conv3): Conv2d(256, 1024, kernel_size=(1, 1), stride=(1, 1), bias=False)\n      (bn3): BatchNorm2d(1024, eps=1e-05, momentum=0.1, affine=True, track_running_stats=True)\n      (relu): ReLU(inplace=True)\n    )\n  )\n  (layer4): Sequential(\n    (0): Bottleneck(\n      (conv1): Conv2d(1024, 512, kernel_size=(1, 1), stride=(1, 1), bias=False)\n      (bn1): BatchNorm2d(512, eps=1e-05, momentum=0.1, affine=True, track_running_stats=True)\n      (conv2): Conv2d(512, 512, kernel_size=(3, 3), stride=(2, 2), padding=(1, 1), bias=False)\n      (bn2): BatchNorm2d(512, eps=1e-05, momentum=0.1, affine=True, track_running_stats=True)\n      (conv3): Conv2d(512, 2048, kernel_size=(1, 1), stride=(1, 1), bias=False)\n      (bn3): BatchNorm2d(2048, eps=1e-05, momentum=0.1, affine=True, track_running_stats=True)\n      (relu): ReLU(inplace=True)\n      (downsample): Sequential(\n        (0): Conv2d(1024, 2048, kernel_size=(1, 1), stride=(2, 2), bias=False)\n        (1): BatchNorm2d(2048, eps=1e-05, momentum=0.1, affine=True, track_running_stats=True)\n      )\n    )\n    (1): Bottleneck(\n      (conv1): Conv2d(2048, 512, kernel_size=(1, 1), stride=(1, 1), bias=False)\n      (bn1): BatchNorm2d(512, eps=1e-05, momentum=0.1, affine=True, track_running_stats=True)\n      (conv2): Conv2d(512, 512, kernel_size=(3, 3), stride=(1, 1), padding=(1, 1), bias=False)\n      (bn2): BatchNorm2d(512, eps=1e-05, momentum=0.1, affine=True, track_running_stats=True)\n      (conv3): Conv2d(512, 2048, kernel_size=(1, 1), stride=(1, 1), bias=False)\n      (bn3): BatchNorm2d(2048, eps=1e-05, momentum=0.1, affine=True, track_running_stats=True)\n      (relu): ReLU(inplace=True)\n    )\n    (2): Bottleneck(\n      (conv1): Conv2d(2048, 512, kernel_size=(1, 1), stride=(1, 1), bias=False)\n      (bn1): BatchNorm2d(512, eps=1e-05, momentum=0.1, affine=True, track_running_stats=True)\n      (conv2): Conv2d(512, 512, kernel_size=(3, 3), stride=(1, 1), padding=(1, 1), bias=False)\n      (bn2): BatchNorm2d(512, eps=1e-05, momentum=0.1, affine=True, track_running_stats=True)\n      (conv3): Conv2d(512, 2048, kernel_size=(1, 1), stride=(1, 1), bias=False)\n      (bn3): BatchNorm2d(2048, eps=1e-05, momentum=0.1, affine=True, track_running_stats=True)\n      (relu): ReLU(inplace=True)\n    )\n  )\n  (avgpool): AdaptiveAvgPool2d(output_size=(1, 1))\n  (fc): Linear(in_features=2048, out_features=3, bias=True)\n)"
     },
     "execution_count": 16,
     "metadata": {},
     "output_type": "execute_result"
    }
   ],
   "source": [
    "resnet50_model = resnet50_model.to(device)\n",
    "resnet50_model"
   ],
   "metadata": {
    "collapsed": false,
    "ExecuteTime": {
     "start_time": "2023-04-10T19:23:52.238576Z",
     "end_time": "2023-04-10T19:23:52.471913Z"
    }
   }
  },
  {
   "cell_type": "code",
   "execution_count": 17,
   "outputs": [
    {
     "name": "stderr",
     "output_type": "stream",
     "text": [
      "100%|██████████| 3255/3255 [00:19<00:00, 167.76it/s]\n"
     ]
    }
   ],
   "source": [
    "train_dataloader, test_dataloader = prepare_dataloaders(\n",
    "    image_info_df,\n",
    "    image_size=(resnet_input_size, resnet_input_size),\n",
    "    test_size=0.8,\n",
    "    device=device,\n",
    "    labels=encoded_labels,\n",
    "    shuffle_train=True,\n",
    "    shuffle_test=True,\n",
    "    batch_size_train=BATCH_SIZE,\n",
    "    batch_size_test=BATCH_SIZE\n",
    ")"
   ],
   "metadata": {
    "collapsed": false,
    "ExecuteTime": {
     "start_time": "2023-04-10T19:23:52.472912Z",
     "end_time": "2023-04-10T19:24:14.636900Z"
    }
   }
  },
  {
   "cell_type": "code",
   "execution_count": 18,
   "outputs": [
    {
     "name": "stdout",
     "output_type": "stream",
     "text": [
      "=============== Epoch: 1 ===============\n",
      "Train: loss=1.139, accuracy=0.420\n",
      "Validation: loss=1.156, accuracy=0.229\n",
      "Time elapsed: 12.29 s\n",
      "========================================\n",
      "=============== Epoch: 2 ===============\n",
      "Train: loss=0.820, accuracy=0.966\n",
      "Validation: loss=1.243, accuracy=0.116\n",
      "Time elapsed: 5.65 s\n",
      "========================================\n",
      "=============== Epoch: 3 ===============\n",
      "Train: loss=0.581, accuracy=1.000\n",
      "Validation: loss=1.371, accuracy=0.111\n",
      "Time elapsed: 5.66 s\n",
      "========================================\n",
      "=============== Epoch: 4 ===============\n",
      "Train: loss=0.405, accuracy=1.000\n",
      "Validation: loss=1.527, accuracy=0.112\n",
      "Time elapsed: 5.64 s\n",
      "========================================\n",
      "=============== Epoch: 5 ===============\n",
      "Train: loss=0.283, accuracy=1.000\n",
      "Validation: loss=1.701, accuracy=0.112\n",
      "Time elapsed: 5.77 s\n",
      "========================================\n",
      "=============== Epoch: 6 ===============\n",
      "Train: loss=0.201, accuracy=1.000\n",
      "Validation: loss=1.873, accuracy=0.112\n",
      "Time elapsed: 5.75 s\n",
      "========================================\n",
      "=============== Epoch: 7 ===============\n",
      "Train: loss=0.146, accuracy=1.000\n",
      "Validation: loss=2.075, accuracy=0.113\n",
      "Time elapsed: 5.72 s\n",
      "========================================\n",
      "=============== Epoch: 8 ===============\n",
      "Train: loss=0.110, accuracy=1.000\n",
      "Validation: loss=2.251, accuracy=0.112\n",
      "Time elapsed: 5.71 s\n",
      "========================================\n",
      "=============== Epoch: 9 ===============\n",
      "Train: loss=0.086, accuracy=1.000\n",
      "Validation: loss=2.412, accuracy=0.112\n",
      "Time elapsed: 5.76 s\n",
      "========================================\n",
      "=============== Epoch: 10 ===============\n",
      "Train: loss=0.070, accuracy=1.000\n",
      "Validation: loss=2.545, accuracy=0.113\n",
      "Time elapsed: 5.70 s\n",
      "========================================\n"
     ]
    }
   ],
   "source": [
    "optimizer = optim.Adam(resnet50_model.parameters(), lr=1e-5)\n",
    "loss_function = torch.nn.CrossEntropyLoss().to(device)\n",
    "\n",
    "resnet50_history = training(\n",
    "    resnet50_model,\n",
    "    train_dataloader,\n",
    "    test_dataloader,\n",
    "    optimizer,\n",
    "    loss_function\n",
    ")"
   ],
   "metadata": {
    "collapsed": false,
    "ExecuteTime": {
     "start_time": "2023-04-10T19:24:14.640900Z",
     "end_time": "2023-04-10T19:25:18.283373Z"
    }
   }
  },
  {
   "cell_type": "code",
   "execution_count": 19,
   "outputs": [
    {
     "data": {
      "text/plain": "<Figure size 640x480 with 1 Axes>",
      "image/png": "[encoded data removed]"
     },
     "metadata": {},
     "output_type": "display_data"
    },
    {
     "data": {
      "text/plain": "<Figure size 640x480 with 1 Axes>",
      "image/png": "[encoded data removed]"
     },
     "metadata": {},
     "output_type": "display_data"
    }
   ],
   "source": [
    "plot_history(resnet50_history)"
   ],
   "metadata": {
    "collapsed": false,
    "ExecuteTime": {
     "start_time": "2023-04-10T19:25:18.284374Z",
     "end_time": "2023-04-10T19:25:18.628614Z"
    }
   }
  },
  {
   "cell_type": "markdown",
   "source": [
    "### VGG19"
   ],
   "metadata": {
    "collapsed": false
   }
  },
  {
   "cell_type": "code",
   "execution_count": 20,
   "outputs": [],
   "source": [
    "torch.cuda.empty_cache()"
   ],
   "metadata": {
    "collapsed": false,
    "ExecuteTime": {
     "start_time": "2023-04-10T19:25:18.629614Z",
     "end_time": "2023-04-10T19:25:18.743613Z"
    }
   }
  },
  {
   "cell_type": "code",
   "execution_count": 21,
   "outputs": [],
   "source": [
    "vgg19_model, vgg_input_size = init_model(\n",
    "    \"vgg\",\n",
    "    num_classes=NUM_CLASSES,\n",
    "    feature_extract=False,\n",
    "    use_pretrained=True,\n",
    ")"
   ],
   "metadata": {
    "collapsed": false,
    "ExecuteTime": {
     "start_time": "2023-04-10T19:25:18.661615Z",
     "end_time": "2023-04-10T19:25:19.881315Z"
    }
   }
  },
  {
   "cell_type": "code",
   "execution_count": 22,
   "outputs": [
    {
     "data": {
      "text/plain": "VGG(\n  (features): Sequential(\n    (0): Conv2d(3, 64, kernel_size=(3, 3), stride=(1, 1), padding=(1, 1))\n    (1): ReLU(inplace=True)\n    (2): Conv2d(64, 64, kernel_size=(3, 3), stride=(1, 1), padding=(1, 1))\n    (3): ReLU(inplace=True)\n    (4): MaxPool2d(kernel_size=2, stride=2, padding=0, dilation=1, ceil_mode=False)\n    (5): Conv2d(64, 128, kernel_size=(3, 3), stride=(1, 1), padding=(1, 1))\n    (6): ReLU(inplace=True)\n    (7): Conv2d(128, 128, kernel_size=(3, 3), stride=(1, 1), padding=(1, 1))\n    (8): ReLU(inplace=True)\n    (9): MaxPool2d(kernel_size=2, stride=2, padding=0, dilation=1, ceil_mode=False)\n    (10): Conv2d(128, 256, kernel_size=(3, 3), stride=(1, 1), padding=(1, 1))\n    (11): ReLU(inplace=True)\n    (12): Conv2d(256, 256, kernel_size=(3, 3), stride=(1, 1), padding=(1, 1))\n    (13): ReLU(inplace=True)\n    (14): Conv2d(256, 256, kernel_size=(3, 3), stride=(1, 1), padding=(1, 1))\n    (15): ReLU(inplace=True)\n    (16): Conv2d(256, 256, kernel_size=(3, 3), stride=(1, 1), padding=(1, 1))\n    (17): ReLU(inplace=True)\n    (18): MaxPool2d(kernel_size=2, stride=2, padding=0, dilation=1, ceil_mode=False)\n    (19): Conv2d(256, 512, kernel_size=(3, 3), stride=(1, 1), padding=(1, 1))\n    (20): ReLU(inplace=True)\n    (21): Conv2d(512, 512, kernel_size=(3, 3), stride=(1, 1), padding=(1, 1))\n    (22): ReLU(inplace=True)\n    (23): Conv2d(512, 512, kernel_size=(3, 3), stride=(1, 1), padding=(1, 1))\n    (24): ReLU(inplace=True)\n    (25): Conv2d(512, 512, kernel_size=(3, 3), stride=(1, 1), padding=(1, 1))\n    (26): ReLU(inplace=True)\n    (27): MaxPool2d(kernel_size=2, stride=2, padding=0, dilation=1, ceil_mode=False)\n    (28): Conv2d(512, 512, kernel_size=(3, 3), stride=(1, 1), padding=(1, 1))\n    (29): ReLU(inplace=True)\n    (30): Conv2d(512, 512, kernel_size=(3, 3), stride=(1, 1), padding=(1, 1))\n    (31): ReLU(inplace=True)\n    (32): Conv2d(512, 512, kernel_size=(3, 3), stride=(1, 1), padding=(1, 1))\n    (33): ReLU(inplace=True)\n    (34): Conv2d(512, 512, kernel_size=(3, 3), stride=(1, 1), padding=(1, 1))\n    (35): ReLU(inplace=True)\n    (36): MaxPool2d(kernel_size=2, stride=2, padding=0, dilation=1, ceil_mode=False)\n  )\n  (avgpool): AdaptiveAvgPool2d(output_size=(7, 7))\n  (classifier): Sequential(\n    (0): Linear(in_features=25088, out_features=4096, bias=True)\n    (1): ReLU(inplace=True)\n    (2): Dropout(p=0.5, inplace=False)\n    (3): Linear(in_features=4096, out_features=4096, bias=True)\n    (4): ReLU(inplace=True)\n    (5): Dropout(p=0.5, inplace=False)\n    (6): Linear(in_features=4096, out_features=3, bias=True)\n  )\n)"
     },
     "execution_count": 22,
     "metadata": {},
     "output_type": "execute_result"
    }
   ],
   "source": [
    "vgg19_model = vgg19_model.to(device)\n",
    "vgg19_model"
   ],
   "metadata": {
    "collapsed": false,
    "ExecuteTime": {
     "start_time": "2023-04-10T19:25:19.883314Z",
     "end_time": "2023-04-10T19:25:20.041313Z"
    }
   }
  },
  {
   "cell_type": "code",
   "execution_count": 23,
   "outputs": [
    {
     "name": "stderr",
     "output_type": "stream",
     "text": [
      "100%|██████████| 3255/3255 [00:17<00:00, 188.55it/s]\n"
     ]
    }
   ],
   "source": [
    "train_dataloader, test_dataloader = prepare_dataloaders(\n",
    "    image_info_df,\n",
    "    image_size=(vgg_input_size, vgg_input_size),\n",
    "    test_size=0.8,\n",
    "    device=device,\n",
    "    labels=encoded_labels,\n",
    "    shuffle_train=True,\n",
    "    shuffle_test=True,\n",
    "    batch_size_train=BATCH_SIZE,\n",
    "    batch_size_test=BATCH_SIZE\n",
    ")"
   ],
   "metadata": {
    "collapsed": false,
    "ExecuteTime": {
     "start_time": "2023-04-10T19:25:20.043316Z",
     "end_time": "2023-04-10T19:25:39.293018Z"
    }
   }
  },
  {
   "cell_type": "code",
   "execution_count": 24,
   "outputs": [
    {
     "name": "stdout",
     "output_type": "stream",
     "text": [
      "=============== Epoch: 1 ===============\n",
      "Train: loss=0.306, accuracy=0.947\n",
      "Validation: loss=7.648, accuracy=0.113\n",
      "Time elapsed: 17.89 s\n",
      "========================================\n",
      "=============== Epoch: 2 ===============\n",
      "Train: loss=0.000, accuracy=1.000\n",
      "Validation: loss=14.443, accuracy=0.112\n",
      "Time elapsed: 14.37 s\n",
      "========================================\n",
      "=============== Epoch: 3 ===============\n",
      "Train: loss=0.000, accuracy=1.000\n",
      "Validation: loss=15.805, accuracy=0.112\n",
      "Time elapsed: 15.04 s\n",
      "========================================\n",
      "=============== Epoch: 4 ===============\n",
      "Train: loss=0.000, accuracy=1.000\n",
      "Validation: loss=15.943, accuracy=0.113\n",
      "Time elapsed: 17.79 s\n",
      "========================================\n",
      "=============== Epoch: 5 ===============\n",
      "Train: loss=0.000, accuracy=1.000\n",
      "Validation: loss=15.977, accuracy=0.112\n",
      "Time elapsed: 15.21 s\n",
      "========================================\n",
      "=============== Epoch: 6 ===============\n",
      "Train: loss=0.000, accuracy=1.000\n",
      "Validation: loss=16.001, accuracy=0.114\n",
      "Time elapsed: 19.06 s\n",
      "========================================\n",
      "=============== Epoch: 7 ===============\n",
      "Train: loss=0.000, accuracy=1.000\n",
      "Validation: loss=16.013, accuracy=0.112\n",
      "Time elapsed: 22.90 s\n",
      "========================================\n",
      "=============== Epoch: 8 ===============\n",
      "Train: loss=0.000, accuracy=1.000\n",
      "Validation: loss=15.996, accuracy=0.113\n",
      "Time elapsed: 27.59 s\n",
      "========================================\n",
      "=============== Epoch: 9 ===============\n",
      "Train: loss=0.000, accuracy=1.000\n",
      "Validation: loss=16.018, accuracy=0.113\n",
      "Time elapsed: 55.31 s\n",
      "========================================\n",
      "=============== Epoch: 10 ===============\n",
      "Train: loss=0.000, accuracy=1.000\n",
      "Validation: loss=15.981, accuracy=0.113\n",
      "Time elapsed: 21.83 s\n",
      "========================================\n"
     ]
    }
   ],
   "source": [
    "optimizer = optim.Adam(vgg19_model.parameters(), lr=1e-5)\n",
    "loss_function = torch.nn.CrossEntropyLoss().to(device)\n",
    "\n",
    "vgg19_history = training(\n",
    "    vgg19_model,\n",
    "    train_dataloader,\n",
    "    test_dataloader,\n",
    "    optimizer,\n",
    "    loss_function\n",
    ")"
   ],
   "metadata": {
    "collapsed": false,
    "ExecuteTime": {
     "start_time": "2023-04-10T19:25:39.295019Z",
     "end_time": "2023-04-10T19:29:26.307408Z"
    }
   }
  },
  {
   "cell_type": "code",
   "execution_count": 25,
   "outputs": [
    {
     "data": {
      "text/plain": "<Figure size 640x480 with 1 Axes>",
      "image/png": "[encoded data removed]"
     },
     "metadata": {},
     "output_type": "display_data"
    },
    {
     "data": {
      "text/plain": "<Figure size 640x480 with 1 Axes>",
      "image/png": "[encoded data removed]"
     },
     "metadata": {},
     "output_type": "display_data"
    }
   ],
   "source": [
    "plot_history(vgg19_history)"
   ],
   "metadata": {
    "collapsed": false,
    "ExecuteTime": {
     "start_time": "2023-04-10T19:29:26.318437Z",
     "end_time": "2023-04-10T19:29:26.609439Z"
    }
   }
  }
 ],
 "metadata": {
  "kernelspec": {
   "display_name": "Python 3",
   "language": "python",
   "name": "python3"
  },
  "language_info": {
   "codemirror_mode": {
    "name": "ipython",
    "version": 2
   },
   "file_extension": ".py",
   "mimetype": "text/x-python",
   "name": "python",
   "nbconvert_exporter": "python",
   "pygments_lexer": "ipython2",
   "version": "2.7.6"
  }
 },
 "nbformat": 4,
 "nbformat_minor": 0
}
