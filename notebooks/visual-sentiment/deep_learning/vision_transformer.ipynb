{
 "cells": [
  {
   "cell_type": "markdown",
   "source": [
    "# Vision Transformer (ViT)"
   ],
   "metadata": {
    "collapsed": false
   }
  },
  {
   "cell_type": "code",
   "execution_count": 1,
   "outputs": [],
   "source": [
    "import pandas as pd\n",
    "import numpy as np\n",
    "import torch\n",
    "from torch.utils.data import (\n",
    "    DataLoader,\n",
    "    RandomSampler,\n",
    "    TensorDataset,\n",
    "    SequentialSampler,\n",
    "    random_split,\n",
    ")\n",
    "from torch import optim\n",
    "from torch.nn import functional as F\n",
    "from PIL import Image\n",
    "from transformers import ViTForImageClassification, ViTFeatureExtractor\n",
    "\n",
    "from typing import Any, Dict, List, Tuple\n",
    "\n",
    "from tqdm import tqdm\n",
    "\n",
    "import time\n",
    "\n",
    "import datasets\n",
    "\n",
    "from sklearn.model_selection import train_test_split\n",
    "from sklearn.preprocessing import LabelEncoder\n",
    "from sklearn.metrics import f1_score\n",
    "\n",
    "import warnings\n",
    "\n",
    "warnings.filterwarnings(\"ignore\")"
   ],
   "metadata": {
    "collapsed": false
   }
  },
  {
   "cell_type": "code",
   "execution_count": 2,
   "outputs": [
    {
     "name": "stdout",
     "output_type": "stream",
     "text": [
      "Available GPU devices: 1\n",
      "Used GPU device: NVIDIA GeForce RTX 3070 Ti\n"
     ]
    }
   ],
   "source": [
    "if torch.cuda.is_available():\n",
    "    device = torch.device(\"cuda\")\n",
    "    print(f\"Available GPU devices: {torch.cuda.device_count()}\")\n",
    "    print(f\"Used GPU device: {torch.cuda.get_device_name()}\")\n",
    "\n",
    "else:\n",
    "    print(\"There are no GPU available\")\n",
    "    device = torch.device(\"cpu\")"
   ],
   "metadata": {
    "collapsed": false
   }
  },
  {
   "cell_type": "code",
   "execution_count": 3,
   "outputs": [],
   "source": [
    "MODEL_NAME = \"google/vit-base-patch16-224\""
   ],
   "metadata": {
    "collapsed": false
   }
  },
  {
   "cell_type": "code",
   "execution_count": 4,
   "outputs": [],
   "source": [
    "feature_extractor = ViTFeatureExtractor.from_pretrained(MODEL_NAME)"
   ],
   "metadata": {
    "collapsed": false
   }
  },
  {
   "cell_type": "code",
   "execution_count": 5,
   "outputs": [
    {
     "data": {
      "text/plain": "                                          image_path sentiment\n0   ../data/preprocess_images/positive/104505632.jpg  positive\n1  ../data/preprocess_images/positive/1059249846.jpg  positive\n2   ../data/preprocess_images/positive/108501238.jpg  positive\n3  ../data/preprocess_images/positive/1089046474.jpg  positive\n4  ../data/preprocess_images/positive/1096822187.jpg  positive",
      "text/html": "<div>\n<style scoped>\n    .dataframe tbody tr th:only-of-type {\n        vertical-align: middle;\n    }\n\n    .dataframe tbody tr th {\n        vertical-align: top;\n    }\n\n    .dataframe thead th {\n        text-align: right;\n    }\n</style>\n<table border=\"1\" class=\"dataframe\">\n  <thead>\n    <tr style=\"text-align: right;\">\n      <th></th>\n      <th>image_path</th>\n      <th>sentiment</th>\n    </tr>\n  </thead>\n  <tbody>\n    <tr>\n      <th>0</th>\n      <td>../data/preprocess_images/positive/104505632.jpg</td>\n      <td>positive</td>\n    </tr>\n    <tr>\n      <th>1</th>\n      <td>../data/preprocess_images/positive/1059249846.jpg</td>\n      <td>positive</td>\n    </tr>\n    <tr>\n      <th>2</th>\n      <td>../data/preprocess_images/positive/108501238.jpg</td>\n      <td>positive</td>\n    </tr>\n    <tr>\n      <th>3</th>\n      <td>../data/preprocess_images/positive/1089046474.jpg</td>\n      <td>positive</td>\n    </tr>\n    <tr>\n      <th>4</th>\n      <td>../data/preprocess_images/positive/1096822187.jpg</td>\n      <td>positive</td>\n    </tr>\n  </tbody>\n</table>\n</div>"
     },
     "execution_count": 5,
     "metadata": {},
     "output_type": "execute_result"
    }
   ],
   "source": [
    "image_info_df = pd.read_csv(\"../image_sentiment_data.csv\")\n",
    "image_info_df[\"image_path\"] = image_info_df[\"image_path\"].apply(lambda x: \"../\" + str(x))\n",
    "image_info_df.head()"
   ],
   "metadata": {
    "collapsed": false
   }
  },
  {
   "cell_type": "code",
   "execution_count": 6,
   "outputs": [],
   "source": [
    "label_encoder = LabelEncoder()\n",
    "image_info_df[\"sentiment\"] = label_encoder.fit_transform(image_info_df[\"sentiment\"])"
   ],
   "metadata": {
    "collapsed": false
   }
  },
  {
   "cell_type": "code",
   "execution_count": 7,
   "outputs": [],
   "source": [
    "train_images, test_images = train_test_split(image_info_df, test_size=0.2)"
   ],
   "metadata": {
    "collapsed": false
   }
  },
  {
   "cell_type": "code",
   "execution_count": 8,
   "outputs": [
    {
     "data": {
      "text/plain": "                                             image_path  sentiment\n2765  ../data/preprocess_images/negative/5199420821.jpg          0\n1841   ../data/preprocess_images/neutral/6273105886.jpg          1\n1714   ../data/preprocess_images/neutral/5365266677.jpg          1\n2030  ../data/preprocess_images/negative/2177517859.jpg          0\n2927  ../data/preprocess_images/negative/5717054575.jpg          0",
      "text/html": "<div>\n<style scoped>\n    .dataframe tbody tr th:only-of-type {\n        vertical-align: middle;\n    }\n\n    .dataframe tbody tr th {\n        vertical-align: top;\n    }\n\n    .dataframe thead th {\n        text-align: right;\n    }\n</style>\n<table border=\"1\" class=\"dataframe\">\n  <thead>\n    <tr style=\"text-align: right;\">\n      <th></th>\n      <th>image_path</th>\n      <th>sentiment</th>\n    </tr>\n  </thead>\n  <tbody>\n    <tr>\n      <th>2765</th>\n      <td>../data/preprocess_images/negative/5199420821.jpg</td>\n      <td>0</td>\n    </tr>\n    <tr>\n      <th>1841</th>\n      <td>../data/preprocess_images/neutral/6273105886.jpg</td>\n      <td>1</td>\n    </tr>\n    <tr>\n      <th>1714</th>\n      <td>../data/preprocess_images/neutral/5365266677.jpg</td>\n      <td>1</td>\n    </tr>\n    <tr>\n      <th>2030</th>\n      <td>../data/preprocess_images/negative/2177517859.jpg</td>\n      <td>0</td>\n    </tr>\n    <tr>\n      <th>2927</th>\n      <td>../data/preprocess_images/negative/5717054575.jpg</td>\n      <td>0</td>\n    </tr>\n  </tbody>\n</table>\n</div>"
     },
     "execution_count": 8,
     "metadata": {},
     "output_type": "execute_result"
    }
   ],
   "source": [
    "train_images.head()"
   ],
   "metadata": {
    "collapsed": false
   }
  },
  {
   "cell_type": "code",
   "execution_count": 9,
   "outputs": [
    {
     "name": "stdout",
     "output_type": "stream",
     "text": [
      "Input image shape: (256, 256, 3)\n",
      "Features shape: torch.Size([1, 3, 224, 224])\n"
     ]
    }
   ],
   "source": [
    "example_image = Image.open(train_images.iloc[0].image_path)\n",
    "print(f\"Input image shape: {np.array(example_image).shape}\")\n",
    "print(f\"Features shape: {feature_extractor(example_image, return_tensors='pt').get('pixel_values').shape}\")"
   ],
   "metadata": {
    "collapsed": false
   }
  },
  {
   "cell_type": "code",
   "execution_count": 10,
   "outputs": [],
   "source": [
    "train_image_info_dataset = datasets.Dataset.from_pandas(train_images, preserve_index=False)\n",
    "test_image_info_dataset = datasets.Dataset.from_pandas(test_images, preserve_index=False)"
   ],
   "metadata": {
    "collapsed": false
   }
  },
  {
   "cell_type": "code",
   "execution_count": 11,
   "outputs": [],
   "source": [
    "def load_and_process_image(image_path: str) -> Dict[str, Any]:\n",
    "    image_ = Image.open(image_path)\n",
    "    features = feature_extractor(image_, return_tensors=\"pt\")\n",
    "    return features"
   ],
   "metadata": {
    "collapsed": false
   }
  },
  {
   "cell_type": "code",
   "execution_count": 12,
   "outputs": [
    {
     "data": {
      "text/plain": "{'pixel_values': tensor([[[[-0.3098, -0.2863, -0.2549,  ..., -0.2314, -0.2392, -0.2235],\n          [-0.3176, -0.2941, -0.2863,  ..., -0.2392, -0.2549, -0.2471],\n          [-0.3333, -0.3098, -0.2941,  ..., -0.2471, -0.2627, -0.2706],\n          ...,\n          [-0.9529, -0.9529, -0.9373,  ..., -0.9529, -0.9843, -0.9922],\n          [-0.8902, -0.8510, -0.8980,  ..., -0.8588, -0.9216, -0.9608],\n          [-0.9608, -0.9608, -0.9373,  ..., -0.9216, -0.9451, -0.9216]],\n\n         [[ 0.2471,  0.2706,  0.2941,  ...,  0.2784,  0.2627,  0.2784],\n          [ 0.2549,  0.2706,  0.2784,  ...,  0.2863,  0.2706,  0.2627],\n          [ 0.2627,  0.2706,  0.2784,  ...,  0.2784,  0.2627,  0.2549],\n          ...,\n          [-0.2549, -0.1922, -0.1373,  ..., -0.2000, -0.2000, -0.2078],\n          [-0.1529, -0.0275, -0.0353,  ..., -0.0353, -0.0902, -0.1216],\n          [-0.1059, -0.0588, -0.0196,  ..., -0.0431, -0.0667, -0.0588]],\n\n         [[ 0.5765,  0.6000,  0.6235,  ...,  0.6314,  0.6235,  0.6471],\n          [ 0.5765,  0.6000,  0.6078,  ...,  0.6392,  0.6235,  0.6235],\n          [ 0.5765,  0.5922,  0.6000,  ...,  0.6314,  0.6157,  0.6078],\n          ...,\n          [ 0.1451,  0.2941,  0.3961,  ...,  0.1765,  0.1451,  0.1451],\n          [ 0.2471,  0.4510,  0.4745,  ...,  0.3647,  0.2941,  0.2941],\n          [ 0.3020,  0.3569,  0.3804,  ...,  0.3804,  0.3647,  0.4196]]]])}"
     },
     "execution_count": 12,
     "metadata": {},
     "output_type": "execute_result"
    }
   ],
   "source": [
    "load_and_process_image(train_image_info_dataset[0][\"image_path\"])"
   ],
   "metadata": {
    "collapsed": false
   }
  },
  {
   "cell_type": "code",
   "execution_count": 13,
   "outputs": [],
   "source": [
    "def preprocess_dataset(image_paths: List[str]) -> torch.Tensor:\n",
    "    pixel_values = []\n",
    "    for image_path in tqdm(image_paths):\n",
    "        pixel_values.append(load_and_process_image(image_path).get(\"pixel_values\"))\n",
    "    return torch.cat(pixel_values, dim=0)"
   ],
   "metadata": {
    "collapsed": false
   }
  },
  {
   "cell_type": "code",
   "execution_count": 14,
   "outputs": [
    {
     "name": "stderr",
     "output_type": "stream",
     "text": [
      "100%|██████████| 2604/2604 [00:52<00:00, 49.51it/s]\n",
      "100%|██████████| 651/651 [00:13<00:00, 47.32it/s]\n"
     ]
    }
   ],
   "source": [
    "train_pixel_values = preprocess_dataset(train_image_info_dataset[\"image_path\"])\n",
    "train_labels = F.one_hot(torch.tensor(train_image_info_dataset[\"sentiment\"]).to(torch.int64)).to(torch.float64)\n",
    "test_pixel_values = preprocess_dataset(test_image_info_dataset[\"image_path\"])\n",
    "test_labels = F.one_hot(torch.tensor(test_image_info_dataset[\"sentiment\"]).to(torch.int64)).to(torch.float64)"
   ],
   "metadata": {
    "collapsed": false
   }
  },
  {
   "cell_type": "code",
   "execution_count": 15,
   "outputs": [],
   "source": [
    "train_data = TensorDataset(train_pixel_values, train_labels)\n",
    "test_data = TensorDataset(test_pixel_values, test_labels)\n",
    "\n",
    "train_size = int(0.6 * len(train_data))\n",
    "val_size = len(train_data) - train_size\n",
    "\n",
    "train_data, val_data = random_split(train_data, [train_size, val_size])"
   ],
   "metadata": {
    "collapsed": false
   }
  },
  {
   "cell_type": "code",
   "execution_count": 16,
   "outputs": [],
   "source": [
    "train_dataloader = DataLoader(train_data, sampler=RandomSampler(train_data), batch_size=32)\n",
    "valid_dataloader = DataLoader(val_data, sampler=SequentialSampler(val_data), batch_size=32)\n",
    "test_dataloader = DataLoader(test_data)"
   ],
   "metadata": {
    "collapsed": false
   }
  },
  {
   "cell_type": "code",
   "execution_count": 17,
   "outputs": [
    {
     "name": "stderr",
     "output_type": "stream",
     "text": [
      "Some weights of ViTForImageClassification were not initialized from the model checkpoint at google/vit-base-patch16-224 and are newly initialized because the shapes did not match:\n",
      "- classifier.weight: found shape torch.Size([1000, 768]) in the checkpoint and torch.Size([3, 768]) in the model instantiated\n",
      "- classifier.bias: found shape torch.Size([1000]) in the checkpoint and torch.Size([3]) in the model instantiated\n",
      "You should probably TRAIN this model on a down-stream task to be able to use it for predictions and inference.\n"
     ]
    }
   ],
   "source": [
    "vit_model = ViTForImageClassification.from_pretrained(\n",
    "    MODEL_NAME,\n",
    "    num_labels=len(label_encoder.classes_),\n",
    "    ignore_mismatched_sizes=True,\n",
    ")"
   ],
   "metadata": {
    "collapsed": false
   }
  },
  {
   "cell_type": "code",
   "execution_count": 18,
   "outputs": [],
   "source": [
    "torch.cuda.empty_cache()"
   ],
   "metadata": {
    "collapsed": false
   }
  },
  {
   "cell_type": "code",
   "execution_count": 19,
   "outputs": [
    {
     "data": {
      "text/plain": "ViTForImageClassification(\n  (vit): ViTModel(\n    (embeddings): ViTEmbeddings(\n      (patch_embeddings): ViTPatchEmbeddings(\n        (projection): Conv2d(3, 768, kernel_size=(16, 16), stride=(16, 16))\n      )\n      (dropout): Dropout(p=0.0, inplace=False)\n    )\n    (encoder): ViTEncoder(\n      (layer): ModuleList(\n        (0): ViTLayer(\n          (attention): ViTAttention(\n            (attention): ViTSelfAttention(\n              (query): Linear(in_features=768, out_features=768, bias=True)\n              (key): Linear(in_features=768, out_features=768, bias=True)\n              (value): Linear(in_features=768, out_features=768, bias=True)\n              (dropout): Dropout(p=0.0, inplace=False)\n            )\n            (output): ViTSelfOutput(\n              (dense): Linear(in_features=768, out_features=768, bias=True)\n              (dropout): Dropout(p=0.0, inplace=False)\n            )\n          )\n          (intermediate): ViTIntermediate(\n            (dense): Linear(in_features=768, out_features=3072, bias=True)\n            (intermediate_act_fn): GELUActivation()\n          )\n          (output): ViTOutput(\n            (dense): Linear(in_features=3072, out_features=768, bias=True)\n            (dropout): Dropout(p=0.0, inplace=False)\n          )\n          (layernorm_before): LayerNorm((768,), eps=1e-12, elementwise_affine=True)\n          (layernorm_after): LayerNorm((768,), eps=1e-12, elementwise_affine=True)\n        )\n        (1): ViTLayer(\n          (attention): ViTAttention(\n            (attention): ViTSelfAttention(\n              (query): Linear(in_features=768, out_features=768, bias=True)\n              (key): Linear(in_features=768, out_features=768, bias=True)\n              (value): Linear(in_features=768, out_features=768, bias=True)\n              (dropout): Dropout(p=0.0, inplace=False)\n            )\n            (output): ViTSelfOutput(\n              (dense): Linear(in_features=768, out_features=768, bias=True)\n              (dropout): Dropout(p=0.0, inplace=False)\n            )\n          )\n          (intermediate): ViTIntermediate(\n            (dense): Linear(in_features=768, out_features=3072, bias=True)\n            (intermediate_act_fn): GELUActivation()\n          )\n          (output): ViTOutput(\n            (dense): Linear(in_features=3072, out_features=768, bias=True)\n            (dropout): Dropout(p=0.0, inplace=False)\n          )\n          (layernorm_before): LayerNorm((768,), eps=1e-12, elementwise_affine=True)\n          (layernorm_after): LayerNorm((768,), eps=1e-12, elementwise_affine=True)\n        )\n        (2): ViTLayer(\n          (attention): ViTAttention(\n            (attention): ViTSelfAttention(\n              (query): Linear(in_features=768, out_features=768, bias=True)\n              (key): Linear(in_features=768, out_features=768, bias=True)\n              (value): Linear(in_features=768, out_features=768, bias=True)\n              (dropout): Dropout(p=0.0, inplace=False)\n            )\n            (output): ViTSelfOutput(\n              (dense): Linear(in_features=768, out_features=768, bias=True)\n              (dropout): Dropout(p=0.0, inplace=False)\n            )\n          )\n          (intermediate): ViTIntermediate(\n            (dense): Linear(in_features=768, out_features=3072, bias=True)\n            (intermediate_act_fn): GELUActivation()\n          )\n          (output): ViTOutput(\n            (dense): Linear(in_features=3072, out_features=768, bias=True)\n            (dropout): Dropout(p=0.0, inplace=False)\n          )\n          (layernorm_before): LayerNorm((768,), eps=1e-12, elementwise_affine=True)\n          (layernorm_after): LayerNorm((768,), eps=1e-12, elementwise_affine=True)\n        )\n        (3): ViTLayer(\n          (attention): ViTAttention(\n            (attention): ViTSelfAttention(\n              (query): Linear(in_features=768, out_features=768, bias=True)\n              (key): Linear(in_features=768, out_features=768, bias=True)\n              (value): Linear(in_features=768, out_features=768, bias=True)\n              (dropout): Dropout(p=0.0, inplace=False)\n            )\n            (output): ViTSelfOutput(\n              (dense): Linear(in_features=768, out_features=768, bias=True)\n              (dropout): Dropout(p=0.0, inplace=False)\n            )\n          )\n          (intermediate): ViTIntermediate(\n            (dense): Linear(in_features=768, out_features=3072, bias=True)\n            (intermediate_act_fn): GELUActivation()\n          )\n          (output): ViTOutput(\n            (dense): Linear(in_features=3072, out_features=768, bias=True)\n            (dropout): Dropout(p=0.0, inplace=False)\n          )\n          (layernorm_before): LayerNorm((768,), eps=1e-12, elementwise_affine=True)\n          (layernorm_after): LayerNorm((768,), eps=1e-12, elementwise_affine=True)\n        )\n        (4): ViTLayer(\n          (attention): ViTAttention(\n            (attention): ViTSelfAttention(\n              (query): Linear(in_features=768, out_features=768, bias=True)\n              (key): Linear(in_features=768, out_features=768, bias=True)\n              (value): Linear(in_features=768, out_features=768, bias=True)\n              (dropout): Dropout(p=0.0, inplace=False)\n            )\n            (output): ViTSelfOutput(\n              (dense): Linear(in_features=768, out_features=768, bias=True)\n              (dropout): Dropout(p=0.0, inplace=False)\n            )\n          )\n          (intermediate): ViTIntermediate(\n            (dense): Linear(in_features=768, out_features=3072, bias=True)\n            (intermediate_act_fn): GELUActivation()\n          )\n          (output): ViTOutput(\n            (dense): Linear(in_features=3072, out_features=768, bias=True)\n            (dropout): Dropout(p=0.0, inplace=False)\n          )\n          (layernorm_before): LayerNorm((768,), eps=1e-12, elementwise_affine=True)\n          (layernorm_after): LayerNorm((768,), eps=1e-12, elementwise_affine=True)\n        )\n        (5): ViTLayer(\n          (attention): ViTAttention(\n            (attention): ViTSelfAttention(\n              (query): Linear(in_features=768, out_features=768, bias=True)\n              (key): Linear(in_features=768, out_features=768, bias=True)\n              (value): Linear(in_features=768, out_features=768, bias=True)\n              (dropout): Dropout(p=0.0, inplace=False)\n            )\n            (output): ViTSelfOutput(\n              (dense): Linear(in_features=768, out_features=768, bias=True)\n              (dropout): Dropout(p=0.0, inplace=False)\n            )\n          )\n          (intermediate): ViTIntermediate(\n            (dense): Linear(in_features=768, out_features=3072, bias=True)\n            (intermediate_act_fn): GELUActivation()\n          )\n          (output): ViTOutput(\n            (dense): Linear(in_features=3072, out_features=768, bias=True)\n            (dropout): Dropout(p=0.0, inplace=False)\n          )\n          (layernorm_before): LayerNorm((768,), eps=1e-12, elementwise_affine=True)\n          (layernorm_after): LayerNorm((768,), eps=1e-12, elementwise_affine=True)\n        )\n        (6): ViTLayer(\n          (attention): ViTAttention(\n            (attention): ViTSelfAttention(\n              (query): Linear(in_features=768, out_features=768, bias=True)\n              (key): Linear(in_features=768, out_features=768, bias=True)\n              (value): Linear(in_features=768, out_features=768, bias=True)\n              (dropout): Dropout(p=0.0, inplace=False)\n            )\n            (output): ViTSelfOutput(\n              (dense): Linear(in_features=768, out_features=768, bias=True)\n              (dropout): Dropout(p=0.0, inplace=False)\n            )\n          )\n          (intermediate): ViTIntermediate(\n            (dense): Linear(in_features=768, out_features=3072, bias=True)\n            (intermediate_act_fn): GELUActivation()\n          )\n          (output): ViTOutput(\n            (dense): Linear(in_features=3072, out_features=768, bias=True)\n            (dropout): Dropout(p=0.0, inplace=False)\n          )\n          (layernorm_before): LayerNorm((768,), eps=1e-12, elementwise_affine=True)\n          (layernorm_after): LayerNorm((768,), eps=1e-12, elementwise_affine=True)\n        )\n        (7): ViTLayer(\n          (attention): ViTAttention(\n            (attention): ViTSelfAttention(\n              (query): Linear(in_features=768, out_features=768, bias=True)\n              (key): Linear(in_features=768, out_features=768, bias=True)\n              (value): Linear(in_features=768, out_features=768, bias=True)\n              (dropout): Dropout(p=0.0, inplace=False)\n            )\n            (output): ViTSelfOutput(\n              (dense): Linear(in_features=768, out_features=768, bias=True)\n              (dropout): Dropout(p=0.0, inplace=False)\n            )\n          )\n          (intermediate): ViTIntermediate(\n            (dense): Linear(in_features=768, out_features=3072, bias=True)\n            (intermediate_act_fn): GELUActivation()\n          )\n          (output): ViTOutput(\n            (dense): Linear(in_features=3072, out_features=768, bias=True)\n            (dropout): Dropout(p=0.0, inplace=False)\n          )\n          (layernorm_before): LayerNorm((768,), eps=1e-12, elementwise_affine=True)\n          (layernorm_after): LayerNorm((768,), eps=1e-12, elementwise_affine=True)\n        )\n        (8): ViTLayer(\n          (attention): ViTAttention(\n            (attention): ViTSelfAttention(\n              (query): Linear(in_features=768, out_features=768, bias=True)\n              (key): Linear(in_features=768, out_features=768, bias=True)\n              (value): Linear(in_features=768, out_features=768, bias=True)\n              (dropout): Dropout(p=0.0, inplace=False)\n            )\n            (output): ViTSelfOutput(\n              (dense): Linear(in_features=768, out_features=768, bias=True)\n              (dropout): Dropout(p=0.0, inplace=False)\n            )\n          )\n          (intermediate): ViTIntermediate(\n            (dense): Linear(in_features=768, out_features=3072, bias=True)\n            (intermediate_act_fn): GELUActivation()\n          )\n          (output): ViTOutput(\n            (dense): Linear(in_features=3072, out_features=768, bias=True)\n            (dropout): Dropout(p=0.0, inplace=False)\n          )\n          (layernorm_before): LayerNorm((768,), eps=1e-12, elementwise_affine=True)\n          (layernorm_after): LayerNorm((768,), eps=1e-12, elementwise_affine=True)\n        )\n        (9): ViTLayer(\n          (attention): ViTAttention(\n            (attention): ViTSelfAttention(\n              (query): Linear(in_features=768, out_features=768, bias=True)\n              (key): Linear(in_features=768, out_features=768, bias=True)\n              (value): Linear(in_features=768, out_features=768, bias=True)\n              (dropout): Dropout(p=0.0, inplace=False)\n            )\n            (output): ViTSelfOutput(\n              (dense): Linear(in_features=768, out_features=768, bias=True)\n              (dropout): Dropout(p=0.0, inplace=False)\n            )\n          )\n          (intermediate): ViTIntermediate(\n            (dense): Linear(in_features=768, out_features=3072, bias=True)\n            (intermediate_act_fn): GELUActivation()\n          )\n          (output): ViTOutput(\n            (dense): Linear(in_features=3072, out_features=768, bias=True)\n            (dropout): Dropout(p=0.0, inplace=False)\n          )\n          (layernorm_before): LayerNorm((768,), eps=1e-12, elementwise_affine=True)\n          (layernorm_after): LayerNorm((768,), eps=1e-12, elementwise_affine=True)\n        )\n        (10): ViTLayer(\n          (attention): ViTAttention(\n            (attention): ViTSelfAttention(\n              (query): Linear(in_features=768, out_features=768, bias=True)\n              (key): Linear(in_features=768, out_features=768, bias=True)\n              (value): Linear(in_features=768, out_features=768, bias=True)\n              (dropout): Dropout(p=0.0, inplace=False)\n            )\n            (output): ViTSelfOutput(\n              (dense): Linear(in_features=768, out_features=768, bias=True)\n              (dropout): Dropout(p=0.0, inplace=False)\n            )\n          )\n          (intermediate): ViTIntermediate(\n            (dense): Linear(in_features=768, out_features=3072, bias=True)\n            (intermediate_act_fn): GELUActivation()\n          )\n          (output): ViTOutput(\n            (dense): Linear(in_features=3072, out_features=768, bias=True)\n            (dropout): Dropout(p=0.0, inplace=False)\n          )\n          (layernorm_before): LayerNorm((768,), eps=1e-12, elementwise_affine=True)\n          (layernorm_after): LayerNorm((768,), eps=1e-12, elementwise_affine=True)\n        )\n        (11): ViTLayer(\n          (attention): ViTAttention(\n            (attention): ViTSelfAttention(\n              (query): Linear(in_features=768, out_features=768, bias=True)\n              (key): Linear(in_features=768, out_features=768, bias=True)\n              (value): Linear(in_features=768, out_features=768, bias=True)\n              (dropout): Dropout(p=0.0, inplace=False)\n            )\n            (output): ViTSelfOutput(\n              (dense): Linear(in_features=768, out_features=768, bias=True)\n              (dropout): Dropout(p=0.0, inplace=False)\n            )\n          )\n          (intermediate): ViTIntermediate(\n            (dense): Linear(in_features=768, out_features=3072, bias=True)\n            (intermediate_act_fn): GELUActivation()\n          )\n          (output): ViTOutput(\n            (dense): Linear(in_features=3072, out_features=768, bias=True)\n            (dropout): Dropout(p=0.0, inplace=False)\n          )\n          (layernorm_before): LayerNorm((768,), eps=1e-12, elementwise_affine=True)\n          (layernorm_after): LayerNorm((768,), eps=1e-12, elementwise_affine=True)\n        )\n      )\n    )\n    (layernorm): LayerNorm((768,), eps=1e-12, elementwise_affine=True)\n  )\n  (classifier): Linear(in_features=768, out_features=3, bias=True)\n)"
     },
     "execution_count": 19,
     "metadata": {},
     "output_type": "execute_result"
    }
   ],
   "source": [
    "vit_model.to(device)"
   ],
   "metadata": {
    "collapsed": false
   }
  },
  {
   "cell_type": "code",
   "execution_count": 20,
   "outputs": [],
   "source": [
    "def f1_weighted_score(preds: torch.Tensor, labels: torch.Tensor):\n",
    "    pred_numpy = preds.cpu().detach().numpy()\n",
    "    labels_numpy = labels.cpu().detach().numpy()\n",
    "    pred_flatten = np.argmax(pred_numpy, axis=1).flatten()\n",
    "    labels_flatten = np.argmax(labels_numpy, axis=1).flatten()\n",
    "    return f1_score(labels_flatten.astype(np.int32), pred_flatten.astype(np.int32), average=\"weighted\")"
   ],
   "metadata": {
    "collapsed": false
   }
  },
  {
   "cell_type": "code",
   "execution_count": 21,
   "outputs": [],
   "source": [
    "def train(\n",
    "    model: torch.nn.Module,\n",
    "    dataloader: DataLoader,\n",
    "    optim: optim.Optimizer,\n",
    "    loss_func: torch.nn.Module,\n",
    ") -> Tuple[float, float]:\n",
    "    loss = 0\n",
    "    accuracy = 0\n",
    "    model.train()\n",
    "    for image, sentiment in dataloader:\n",
    "        optim.zero_grad()\n",
    "\n",
    "        image = image.to(device)\n",
    "        sentiment = sentiment.to(device)\n",
    "\n",
    "        preds = model(image).logits\n",
    "\n",
    "        loss_current = loss_func(preds.to(device), sentiment)\n",
    "\n",
    "        accuracy_curr = f1_weighted_score(preds, sentiment)\n",
    "\n",
    "        loss_current.backward()\n",
    "        optim.step()\n",
    "\n",
    "        loss += loss_current.item()\n",
    "        accuracy += accuracy_curr.item()\n",
    "    return loss / len(dataloader), accuracy / len(dataloader)"
   ],
   "metadata": {
    "collapsed": false
   }
  },
  {
   "cell_type": "code",
   "execution_count": 22,
   "outputs": [],
   "source": [
    "def validate(\n",
    "    model: torch.nn.Module,\n",
    "    dataloader: DataLoader,\n",
    "    loss_func: torch.nn.Module,\n",
    ") -> Tuple[float, float]:\n",
    "    loss = 0\n",
    "    accuracy = 0\n",
    "    model.eval()\n",
    "    with torch.no_grad():\n",
    "        for image, sentiment in dataloader:\n",
    "            image = image.to(device)\n",
    "            sentiment = sentiment.to(device)\n",
    "\n",
    "            preds = model(image).logits\n",
    "\n",
    "            loss_current = loss_func(preds.to(device), sentiment)\n",
    "\n",
    "            accuracy_current = f1_weighted_score(preds, sentiment)\n",
    "\n",
    "            loss += loss_current.item()\n",
    "            accuracy += accuracy_current.item()\n",
    "    return loss / len(dataloader), accuracy / len(dataloader)"
   ],
   "metadata": {
    "collapsed": false
   }
  },
  {
   "cell_type": "code",
   "execution_count": 23,
   "outputs": [],
   "source": [
    "def training(\n",
    "    model: torch.nn.Module,\n",
    "    train_data: DataLoader,\n",
    "    validate_data: DataLoader,\n",
    "    optim: optim.Optimizer,\n",
    "    loss_func: torch.nn.Module,\n",
    "    num_epochs: int = 10,\n",
    ") -> Dict[str, Any]:\n",
    "    best_loss = float('inf')\n",
    "    history = {\n",
    "        \"train\": {\n",
    "            \"loss\": [],\n",
    "            \"accuracy\": [],\n",
    "        },\n",
    "        \"valid\": {\n",
    "            \"loss\": [],\n",
    "            \"accuracy\": [],\n",
    "        }\n",
    "    }\n",
    "    for epoch in range(num_epochs):\n",
    "        print(f\"{'=' * 15} Epoch: {epoch + 1} {'=' * 15}\")\n",
    "        time_start = time.time()\n",
    "        train_loss, train_accuracy = train(model, train_data, optim, loss_func)\n",
    "        print(f\"Train: loss={train_loss:.3f}, accuracy={train_accuracy:.3f}\")\n",
    "        validation_loss, validation_accuracy = validate(model, validate_data, loss_func)\n",
    "        print(f\"Validation: loss={validation_loss:.3f}, accuracy={validation_accuracy:.3f}\")\n",
    "        time_end = time.time()\n",
    "        time_delta = time_end - time_start\n",
    "        if validation_loss < best_loss:\n",
    "            best_loss = validation_loss\n",
    "        history[\"train\"][\"accuracy\"].append(train_accuracy)\n",
    "        history[\"train\"][\"loss\"].append(train_loss)\n",
    "        history[\"valid\"][\"accuracy\"].append(validation_accuracy)\n",
    "        history[\"valid\"][\"loss\"].append(validation_loss)\n",
    "        print(f\"Time elapsed: {time_delta:.2f} s\\n{'=' * 40}\")\n",
    "    return history"
   ],
   "metadata": {
    "collapsed": false
   }
  },
  {
   "cell_type": "code",
   "execution_count": 24,
   "outputs": [],
   "source": [
    "import matplotlib.pyplot as plt\n",
    "\n",
    "\n",
    "def plot_history(history: dict) -> None:\n",
    "    train = history.get(\"train\")\n",
    "    valid = history.get(\"valid\")\n",
    "    plt.title(\"Loss\")\n",
    "    plt.plot(train.get(\"loss\"), label=\"train\")\n",
    "    plt.plot(valid.get(\"loss\"), label=\"valid\")\n",
    "    plt.legend()\n",
    "    plt.show()\n",
    "    plt.title(\"Accuracy\")\n",
    "    plt.plot(train.get(\"accuracy\"), label=\"train\")\n",
    "    plt.plot(valid.get(\"accuracy\"), label=\"valid\")\n",
    "    plt.legend()\n",
    "    plt.show()"
   ],
   "metadata": {
    "collapsed": false
   }
  },
  {
   "cell_type": "code",
   "execution_count": 25,
   "outputs": [],
   "source": [
    "optimizer = optim.AdamW(vit_model.parameters(), lr=2e-6, eps=1e-8)\n",
    "loss_function = torch.nn.CrossEntropyLoss().to(device)"
   ],
   "metadata": {
    "collapsed": false
   }
  },
  {
   "cell_type": "code",
   "execution_count": 26,
   "outputs": [
    {
     "name": "stdout",
     "output_type": "stream",
     "text": [
      "=============== Epoch: 1 ===============\n",
      "Train: loss=1.063, accuracy=0.454\n",
      "Validation: loss=1.031, accuracy=0.469\n",
      "Time elapsed: 75.19 s\n",
      "========================================\n",
      "=============== Epoch: 2 ===============\n",
      "Train: loss=0.969, accuracy=0.520\n",
      "Validation: loss=0.980, accuracy=0.531\n",
      "Time elapsed: 26.76 s\n",
      "========================================\n",
      "=============== Epoch: 3 ===============\n",
      "Train: loss=0.904, accuracy=0.567\n",
      "Validation: loss=0.946, accuracy=0.573\n",
      "Time elapsed: 26.21 s\n",
      "========================================\n",
      "=============== Epoch: 4 ===============\n",
      "Train: loss=0.849, accuracy=0.602\n",
      "Validation: loss=0.917, accuracy=0.602\n",
      "Time elapsed: 26.68 s\n",
      "========================================\n",
      "=============== Epoch: 5 ===============\n",
      "Train: loss=0.797, accuracy=0.639\n",
      "Validation: loss=0.893, accuracy=0.616\n",
      "Time elapsed: 26.40 s\n",
      "========================================\n",
      "=============== Epoch: 6 ===============\n",
      "Train: loss=0.753, accuracy=0.664\n",
      "Validation: loss=0.871, accuracy=0.622\n",
      "Time elapsed: 26.49 s\n",
      "========================================\n",
      "=============== Epoch: 7 ===============\n",
      "Train: loss=0.709, accuracy=0.690\n",
      "Validation: loss=0.852, accuracy=0.634\n",
      "Time elapsed: 26.39 s\n",
      "========================================\n",
      "=============== Epoch: 8 ===============\n",
      "Train: loss=0.670, accuracy=0.717\n",
      "Validation: loss=0.835, accuracy=0.651\n",
      "Time elapsed: 26.40 s\n",
      "========================================\n",
      "=============== Epoch: 9 ===============\n",
      "Train: loss=0.633, accuracy=0.749\n",
      "Validation: loss=0.820, accuracy=0.657\n",
      "Time elapsed: 26.33 s\n",
      "========================================\n",
      "=============== Epoch: 10 ===============\n",
      "Train: loss=0.599, accuracy=0.775\n",
      "Validation: loss=0.806, accuracy=0.667\n",
      "Time elapsed: 26.33 s\n",
      "========================================\n",
      "=============== Epoch: 11 ===============\n",
      "Train: loss=0.566, accuracy=0.801\n",
      "Validation: loss=0.793, accuracy=0.673\n",
      "Time elapsed: 26.83 s\n",
      "========================================\n",
      "=============== Epoch: 12 ===============\n",
      "Train: loss=0.535, accuracy=0.821\n",
      "Validation: loss=0.782, accuracy=0.677\n",
      "Time elapsed: 26.72 s\n",
      "========================================\n",
      "=============== Epoch: 13 ===============\n",
      "Train: loss=0.505, accuracy=0.841\n",
      "Validation: loss=0.771, accuracy=0.684\n",
      "Time elapsed: 26.76 s\n",
      "========================================\n",
      "=============== Epoch: 14 ===============\n",
      "Train: loss=0.476, accuracy=0.857\n",
      "Validation: loss=0.762, accuracy=0.684\n",
      "Time elapsed: 26.75 s\n",
      "========================================\n",
      "=============== Epoch: 15 ===============\n",
      "Train: loss=0.449, accuracy=0.873\n",
      "Validation: loss=0.753, accuracy=0.690\n",
      "Time elapsed: 26.54 s\n",
      "========================================\n",
      "=============== Epoch: 16 ===============\n",
      "Train: loss=0.422, accuracy=0.896\n",
      "Validation: loss=0.745, accuracy=0.688\n",
      "Time elapsed: 26.51 s\n",
      "========================================\n",
      "=============== Epoch: 17 ===============\n",
      "Train: loss=0.398, accuracy=0.910\n",
      "Validation: loss=0.738, accuracy=0.691\n",
      "Time elapsed: 26.57 s\n",
      "========================================\n",
      "=============== Epoch: 18 ===============\n",
      "Train: loss=0.374, accuracy=0.923\n",
      "Validation: loss=0.731, accuracy=0.690\n",
      "Time elapsed: 26.75 s\n",
      "========================================\n",
      "=============== Epoch: 19 ===============\n",
      "Train: loss=0.352, accuracy=0.932\n",
      "Validation: loss=0.725, accuracy=0.693\n",
      "Time elapsed: 26.59 s\n",
      "========================================\n",
      "=============== Epoch: 20 ===============\n",
      "Train: loss=0.330, accuracy=0.942\n",
      "Validation: loss=0.720, accuracy=0.687\n",
      "Time elapsed: 26.55 s\n",
      "========================================\n"
     ]
    }
   ],
   "source": [
    "vit_history = training(\n",
    "    vit_model,\n",
    "    train_dataloader,\n",
    "    test_dataloader,\n",
    "    optimizer,\n",
    "    loss_function,\n",
    "    num_epochs=20,\n",
    ")"
   ],
   "metadata": {
    "collapsed": false
   }
  },
  {
   "cell_type": "code",
   "execution_count": 27,
   "outputs": [
    {
     "data": {
      "text/plain": "<Figure size 640x480 with 1 Axes>",
      "image/png": "[encoded data removed]"
     },
     "metadata": {},
     "output_type": "display_data"
    },
    {
     "data": {
      "text/plain": "<Figure size 640x480 with 1 Axes>",
      "image/png": "[encoded data removed]"
     },
     "metadata": {},
     "output_type": "display_data"
    }
   ],
   "source": [
    "plot_history(vit_history)"
   ],
   "metadata": {
    "collapsed": false
   }
  },
  {
   "cell_type": "code",
   "execution_count": 27,
   "outputs": [],
   "source": [],
   "metadata": {
    "collapsed": false
   }
  }
 ],
 "metadata": {
  "kernelspec": {
   "display_name": "Python 3",
   "language": "python",
   "name": "python3"
  },
  "language_info": {
   "codemirror_mode": {
    "name": "ipython",
    "version": 2
   },
   "file_extension": ".py",
   "mimetype": "text/x-python",
   "name": "python",
   "nbconvert_exporter": "python",
   "pygments_lexer": "ipython2",
   "version": "2.7.6"
  }
 },
 "nbformat": 4,
 "nbformat_minor": 0
}
