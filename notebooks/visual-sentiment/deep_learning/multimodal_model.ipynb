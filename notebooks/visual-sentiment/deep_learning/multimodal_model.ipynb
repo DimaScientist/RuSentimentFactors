{
 "cells": [
  {
   "cell_type": "markdown",
   "source": [
    "# Multimodal Visual sentiment model"
   ],
   "metadata": {
    "collapsed": false
   }
  },
  {
   "cell_type": "code",
   "execution_count": 1,
   "outputs": [],
   "source": [
    "import pandas as pd\n",
    "import numpy as np\n",
    "import torch\n",
    "from torch.utils.data import (\n",
    "    DataLoader,\n",
    "    RandomSampler,\n",
    "    TensorDataset,\n",
    "    SequentialSampler,\n",
    ")\n",
    "from torch import optim\n",
    "from torch.nn import functional as F\n",
    "from PIL import Image\n",
    "from transformers import (\n",
    "    ViTForImageClassification,\n",
    "    ViTFeatureExtractor,\n",
    "    BertForSequenceClassification,\n",
    "    BertTokenizer,\n",
    "    get_linear_schedule_with_warmup,\n",
    ")\n",
    "\n",
    "from typing import Any, Dict, List, Tuple\n",
    "\n",
    "from tqdm import tqdm\n",
    "\n",
    "import time\n",
    "\n",
    "from sklearn.model_selection import train_test_split\n",
    "from sklearn.preprocessing import LabelEncoder\n",
    "from sklearn.metrics import ConfusionMatrixDisplay, f1_score, classification_report, confusion_matrix\n",
    "\n",
    "import warnings\n",
    "\n",
    "warnings.filterwarnings(\"ignore\")\n",
    "np.random.seed(42)\n",
    "torch.manual_seed(42)\n",
    "torch.cuda.manual_seed_all(42)"
   ],
   "metadata": {
    "collapsed": false
   }
  },
  {
   "cell_type": "code",
   "execution_count": 2,
   "outputs": [],
   "source": [
    "\"\"\"Settings\"\"\"\n",
    "\n",
    "BATCH_SIZE = 16\n",
    "\n",
    "BERT_MODEL = \"DeepPavlov/rubert-base-cased\"\n",
    "VIT_MODEL = \"google/vit-base-patch16-224\"\n",
    "\n",
    "VISUAL_OUTPUT = 64\n",
    "BERT_OUTPUT = 64\n",
    "FUSION_DIM = 64\n",
    "\n",
    "DROPOUT = 0.2\n",
    "\n",
    "MAX_SEQ_LENGTH = 128\n",
    "\n",
    "AVAILABLE_GPU = True\n",
    "\n",
    "IMAGE_PARENT_PATH = \"..\""
   ],
   "metadata": {
    "collapsed": false
   }
  },
  {
   "cell_type": "code",
   "execution_count": 3,
   "outputs": [
    {
     "name": "stdout",
     "output_type": "stream",
     "text": [
      "Available GPU devices: 1\n",
      "Used GPU device: NVIDIA GeForce RTX 3070 Ti\n",
      "|===========================================================================|\n",
      "|                  PyTorch CUDA memory summary, device ID 0                 |\n",
      "|---------------------------------------------------------------------------|\n",
      "|            CUDA OOMs: 0            |        cudaMalloc retries: 0         |\n",
      "|===========================================================================|\n",
      "|        Metric         | Cur Usage  | Peak Usage | Tot Alloc  | Tot Freed  |\n",
      "|---------------------------------------------------------------------------|\n",
      "| Allocated memory      |       0 B  |       0 B  |       0 B  |       0 B  |\n",
      "|       from large pool |       0 B  |       0 B  |       0 B  |       0 B  |\n",
      "|       from small pool |       0 B  |       0 B  |       0 B  |       0 B  |\n",
      "|---------------------------------------------------------------------------|\n",
      "| Active memory         |       0 B  |       0 B  |       0 B  |       0 B  |\n",
      "|       from large pool |       0 B  |       0 B  |       0 B  |       0 B  |\n",
      "|       from small pool |       0 B  |       0 B  |       0 B  |       0 B  |\n",
      "|---------------------------------------------------------------------------|\n",
      "| GPU reserved memory   |       0 B  |       0 B  |       0 B  |       0 B  |\n",
      "|       from large pool |       0 B  |       0 B  |       0 B  |       0 B  |\n",
      "|       from small pool |       0 B  |       0 B  |       0 B  |       0 B  |\n",
      "|---------------------------------------------------------------------------|\n",
      "| Non-releasable memory |       0 B  |       0 B  |       0 B  |       0 B  |\n",
      "|       from large pool |       0 B  |       0 B  |       0 B  |       0 B  |\n",
      "|       from small pool |       0 B  |       0 B  |       0 B  |       0 B  |\n",
      "|---------------------------------------------------------------------------|\n",
      "| Allocations           |       0    |       0    |       0    |       0    |\n",
      "|       from large pool |       0    |       0    |       0    |       0    |\n",
      "|       from small pool |       0    |       0    |       0    |       0    |\n",
      "|---------------------------------------------------------------------------|\n",
      "| Active allocs         |       0    |       0    |       0    |       0    |\n",
      "|       from large pool |       0    |       0    |       0    |       0    |\n",
      "|       from small pool |       0    |       0    |       0    |       0    |\n",
      "|---------------------------------------------------------------------------|\n",
      "| GPU reserved segments |       0    |       0    |       0    |       0    |\n",
      "|       from large pool |       0    |       0    |       0    |       0    |\n",
      "|       from small pool |       0    |       0    |       0    |       0    |\n",
      "|---------------------------------------------------------------------------|\n",
      "| Non-releasable allocs |       0    |       0    |       0    |       0    |\n",
      "|       from large pool |       0    |       0    |       0    |       0    |\n",
      "|       from small pool |       0    |       0    |       0    |       0    |\n",
      "|---------------------------------------------------------------------------|\n",
      "| Oversize allocations  |       0    |       0    |       0    |       0    |\n",
      "|---------------------------------------------------------------------------|\n",
      "| Oversize GPU segments |       0    |       0    |       0    |       0    |\n",
      "|===========================================================================|\n",
      "\n"
     ]
    },
    {
     "data": {
      "text/plain": "device(type='cuda')"
     },
     "execution_count": 3,
     "metadata": {},
     "output_type": "execute_result"
    }
   ],
   "source": [
    "if torch.cuda.is_available() and AVAILABLE_GPU:\n",
    "    device = torch.device(\"cuda\")\n",
    "    print(f\"Available GPU devices: {torch.cuda.device_count()}\")\n",
    "    print(f\"Used GPU device: {torch.cuda.get_device_name()}\")\n",
    "    print(torch.cuda.memory_summary())\n",
    "\n",
    "else:\n",
    "    print(\"There are no GPU available\")\n",
    "    device = torch.device(\"cpu\")\n",
    "\n",
    "device"
   ],
   "metadata": {
    "collapsed": false
   }
  },
  {
   "cell_type": "code",
   "execution_count": 4,
   "outputs": [],
   "source": [
    "torch.cuda.empty_cache()"
   ],
   "metadata": {
    "collapsed": false
   }
  },
  {
   "cell_type": "code",
   "execution_count": 5,
   "outputs": [],
   "source": [
    "vit_feature_extractor = ViTFeatureExtractor.from_pretrained(VIT_MODEL)\n",
    "bert_feature_extractor = BertTokenizer.from_pretrained(BERT_MODEL)"
   ],
   "metadata": {
    "collapsed": false
   }
  },
  {
   "cell_type": "code",
   "execution_count": 6,
   "outputs": [],
   "source": [
    "def transform_sentences(sentences: List[str]) -> Tuple[torch.Tensor, torch.Tensor]:\n",
    "    \"\"\"Transform sentences to vectors.\"\"\"\n",
    "    input_ids = []\n",
    "    attention_masks = []\n",
    "    for sentence in tqdm(sentences):\n",
    "        encoded_dict = bert_feature_extractor.encode_plus(\n",
    "            sentence,\n",
    "            add_special_tokens=True,\n",
    "            truncation=True,\n",
    "            max_length=MAX_SEQ_LENGTH,\n",
    "            pad_to_max_length=True,\n",
    "            return_attention_mask=True,\n",
    "            return_tensors=\"pt\",\n",
    "        )\n",
    "        input_ids.append(encoded_dict.get(\"input_ids\"))\n",
    "        attention_masks.append(encoded_dict.get(\"attention_mask\"))\n",
    "\n",
    "    return torch.cat(input_ids, dim=0), torch.cat(attention_masks, dim=0)\n",
    "\n",
    "\n",
    "def transform_images(image_paths: List[str], image_feature_extractor) -> torch.Tensor:\n",
    "    \"\"\"Extract features from image.\"\"\"\n",
    "    pixel_values = []\n",
    "    for image_path in tqdm(image_paths):\n",
    "        pil_image = Image.open(image_path)\n",
    "        pixel_value = image_feature_extractor(pil_image, return_tensors=\"pt\").get(\"pixel_values\")\n",
    "        pixel_values.append(pixel_value)\n",
    "    return torch.cat(pixel_values, dim=0)"
   ],
   "metadata": {
    "collapsed": false
   }
  },
  {
   "cell_type": "code",
   "execution_count": 7,
   "outputs": [
    {
     "data": {
      "text/plain": "                                          image_path sentiment  \\\n0   ../data/preprocess_images/positive/104505632.jpg  positive   \n1  ../data/preprocess_images/positive/1059249846.jpg  positive   \n2   ../data/preprocess_images/positive/108501238.jpg  positive   \n3  ../data/preprocess_images/positive/1089046474.jpg  positive   \n4  ../data/preprocess_images/positive/1096822187.jpg  positive   \n\n                                             caption  \\\n0  Женщина разговаривает по мобильному телефону, ...   \n1      Женщина сидит на скамейке в парке с зонтиком.   \n2  Женщина в очках и с длинными волосами держит м...   \n3             Вид на город с высоты птичьего полета.   \n4              Мужчина и женщина позируют фотографу.   \n\n                                       clean_caption  \n0  женщина разговаривать мобильный телефон держат...  \n1                женщина сидеть скамейка парк зонтик  \n2  женщина очки длинный волос держать мобильный т...  \n3                      вид город высота птичий полет  \n4                мужчина женщина позировать фотограф  ",
      "text/html": "<div>\n<style scoped>\n    .dataframe tbody tr th:only-of-type {\n        vertical-align: middle;\n    }\n\n    .dataframe tbody tr th {\n        vertical-align: top;\n    }\n\n    .dataframe thead th {\n        text-align: right;\n    }\n</style>\n<table border=\"1\" class=\"dataframe\">\n  <thead>\n    <tr style=\"text-align: right;\">\n      <th></th>\n      <th>image_path</th>\n      <th>sentiment</th>\n      <th>caption</th>\n      <th>clean_caption</th>\n    </tr>\n  </thead>\n  <tbody>\n    <tr>\n      <th>0</th>\n      <td>../data/preprocess_images/positive/104505632.jpg</td>\n      <td>positive</td>\n      <td>Женщина разговаривает по мобильному телефону, ...</td>\n      <td>женщина разговаривать мобильный телефон держат...</td>\n    </tr>\n    <tr>\n      <th>1</th>\n      <td>../data/preprocess_images/positive/1059249846.jpg</td>\n      <td>positive</td>\n      <td>Женщина сидит на скамейке в парке с зонтиком.</td>\n      <td>женщина сидеть скамейка парк зонтик</td>\n    </tr>\n    <tr>\n      <th>2</th>\n      <td>../data/preprocess_images/positive/108501238.jpg</td>\n      <td>positive</td>\n      <td>Женщина в очках и с длинными волосами держит м...</td>\n      <td>женщина очки длинный волос держать мобильный т...</td>\n    </tr>\n    <tr>\n      <th>3</th>\n      <td>../data/preprocess_images/positive/1089046474.jpg</td>\n      <td>positive</td>\n      <td>Вид на город с высоты птичьего полета.</td>\n      <td>вид город высота птичий полет</td>\n    </tr>\n    <tr>\n      <th>4</th>\n      <td>../data/preprocess_images/positive/1096822187.jpg</td>\n      <td>positive</td>\n      <td>Мужчина и женщина позируют фотографу.</td>\n      <td>мужчина женщина позировать фотограф</td>\n    </tr>\n  </tbody>\n</table>\n</div>"
     },
     "execution_count": 7,
     "metadata": {},
     "output_type": "execute_result"
    }
   ],
   "source": [
    "image_info_df = pd.read_csv(\"../image_sentiment_data_with_captions.csv\")\n",
    "image_info_df[\"image_path\"] = image_info_df[\"image_path\"].apply(lambda x: f\"{IMAGE_PARENT_PATH}/\" + str(x))\n",
    "image_info_df.head()"
   ],
   "metadata": {
    "collapsed": false
   }
  },
  {
   "cell_type": "code",
   "execution_count": 8,
   "outputs": [
    {
     "data": {
      "text/plain": "(3255, 4)"
     },
     "execution_count": 8,
     "metadata": {},
     "output_type": "execute_result"
    }
   ],
   "source": [
    "image_info_df.shape"
   ],
   "metadata": {
    "collapsed": false
   }
  },
  {
   "cell_type": "code",
   "execution_count": 9,
   "outputs": [],
   "source": [
    "NUM_SAMPLES = 0\n",
    "if NUM_SAMPLES:\n",
    "    image_info_df = image_info_df.sample(NUM_SAMPLES)"
   ],
   "metadata": {
    "collapsed": false
   }
  },
  {
   "cell_type": "code",
   "execution_count": 10,
   "outputs": [
    {
     "data": {
      "text/plain": "                                          image_path sentiment  \\\n0   ../data/preprocess_images/positive/104505632.jpg  positive   \n1  ../data/preprocess_images/positive/1059249846.jpg  positive   \n2   ../data/preprocess_images/positive/108501238.jpg  positive   \n3  ../data/preprocess_images/positive/1089046474.jpg  positive   \n4  ../data/preprocess_images/positive/1096822187.jpg  positive   \n\n                                             caption  \\\n0  Женщина разговаривает по мобильному телефону, ...   \n1      Женщина сидит на скамейке в парке с зонтиком.   \n2  Женщина в очках и с длинными волосами держит м...   \n3             Вид на город с высоты птичьего полета.   \n4              Мужчина и женщина позируют фотографу.   \n\n                                       clean_caption  label  \n0  женщина разговаривать мобильный телефон держат...      2  \n1                женщина сидеть скамейка парк зонтик      2  \n2  женщина очки длинный волос держать мобильный т...      2  \n3                      вид город высота птичий полет      2  \n4                мужчина женщина позировать фотограф      2  ",
      "text/html": "<div>\n<style scoped>\n    .dataframe tbody tr th:only-of-type {\n        vertical-align: middle;\n    }\n\n    .dataframe tbody tr th {\n        vertical-align: top;\n    }\n\n    .dataframe thead th {\n        text-align: right;\n    }\n</style>\n<table border=\"1\" class=\"dataframe\">\n  <thead>\n    <tr style=\"text-align: right;\">\n      <th></th>\n      <th>image_path</th>\n      <th>sentiment</th>\n      <th>caption</th>\n      <th>clean_caption</th>\n      <th>label</th>\n    </tr>\n  </thead>\n  <tbody>\n    <tr>\n      <th>0</th>\n      <td>../data/preprocess_images/positive/104505632.jpg</td>\n      <td>positive</td>\n      <td>Женщина разговаривает по мобильному телефону, ...</td>\n      <td>женщина разговаривать мобильный телефон держат...</td>\n      <td>2</td>\n    </tr>\n    <tr>\n      <th>1</th>\n      <td>../data/preprocess_images/positive/1059249846.jpg</td>\n      <td>positive</td>\n      <td>Женщина сидит на скамейке в парке с зонтиком.</td>\n      <td>женщина сидеть скамейка парк зонтик</td>\n      <td>2</td>\n    </tr>\n    <tr>\n      <th>2</th>\n      <td>../data/preprocess_images/positive/108501238.jpg</td>\n      <td>positive</td>\n      <td>Женщина в очках и с длинными волосами держит м...</td>\n      <td>женщина очки длинный волос держать мобильный т...</td>\n      <td>2</td>\n    </tr>\n    <tr>\n      <th>3</th>\n      <td>../data/preprocess_images/positive/1089046474.jpg</td>\n      <td>positive</td>\n      <td>Вид на город с высоты птичьего полета.</td>\n      <td>вид город высота птичий полет</td>\n      <td>2</td>\n    </tr>\n    <tr>\n      <th>4</th>\n      <td>../data/preprocess_images/positive/1096822187.jpg</td>\n      <td>positive</td>\n      <td>Мужчина и женщина позируют фотографу.</td>\n      <td>мужчина женщина позировать фотограф</td>\n      <td>2</td>\n    </tr>\n  </tbody>\n</table>\n</div>"
     },
     "execution_count": 10,
     "metadata": {},
     "output_type": "execute_result"
    }
   ],
   "source": [
    "label_encoder = LabelEncoder()\n",
    "image_info_df[\"label\"] = label_encoder.fit_transform(image_info_df[\"sentiment\"])\n",
    "image_info_df.head()"
   ],
   "metadata": {
    "collapsed": false
   }
  },
  {
   "cell_type": "code",
   "execution_count": 11,
   "outputs": [],
   "source": [
    "train_image_info_df, test_image_info_df = train_test_split(image_info_df, test_size=0.2)\n",
    "train_image_info_df, valid_image_info_df = train_test_split(train_image_info_df, test_size=0.2)"
   ],
   "metadata": {
    "collapsed": false
   }
  },
  {
   "cell_type": "code",
   "execution_count": 12,
   "outputs": [
    {
     "name": "stderr",
     "output_type": "stream",
     "text": [
      "100%|██████████| 2083/2083 [00:00<00:00, 3036.46it/s]\n",
      "100%|██████████| 2083/2083 [01:22<00:00, 25.27it/s]\n"
     ]
    }
   ],
   "source": [
    "train_input_ids, train_attention_masks = transform_sentences(train_image_info_df[\"clean_caption\"].to_list())\n",
    "train_image_features = transform_images(train_image_info_df[\"image_path\"].to_list(), vit_feature_extractor)\n",
    "train_labels = F.one_hot(torch.tensor(train_image_info_df[\"label\"].to_list()).to(torch.int64)).to(torch.float64)"
   ],
   "metadata": {
    "collapsed": false
   }
  },
  {
   "cell_type": "code",
   "execution_count": 13,
   "outputs": [
    {
     "name": "stderr",
     "output_type": "stream",
     "text": [
      "100%|██████████| 521/521 [00:00<00:00, 2315.55it/s]\n",
      "100%|██████████| 521/521 [00:20<00:00, 25.96it/s]\n"
     ]
    }
   ],
   "source": [
    "valid_input_ids, valid_attention_masks = transform_sentences(valid_image_info_df[\"clean_caption\"].to_list())\n",
    "valid_image_features = transform_images(valid_image_info_df[\"image_path\"].to_list(), vit_feature_extractor)\n",
    "valid_labels = F.one_hot(torch.tensor(valid_image_info_df[\"label\"].to_list()).to(torch.int64)).to(torch.float64)"
   ],
   "metadata": {
    "collapsed": false
   }
  },
  {
   "cell_type": "code",
   "execution_count": 14,
   "outputs": [
    {
     "name": "stderr",
     "output_type": "stream",
     "text": [
      "100%|██████████| 651/651 [00:00<00:00, 2393.38it/s]\n",
      "100%|██████████| 651/651 [00:28<00:00, 22.52it/s]\n"
     ]
    }
   ],
   "source": [
    "test_input_ids, test_attention_masks = transform_sentences(test_image_info_df[\"clean_caption\"].to_list())\n",
    "test_image_features = transform_images(test_image_info_df[\"image_path\"].to_list(), vit_feature_extractor)\n",
    "test_labels = F.one_hot(torch.tensor(test_image_info_df[\"label\"].to_list()).to(torch.int64)).to(torch.float64)"
   ],
   "metadata": {
    "collapsed": false
   }
  },
  {
   "cell_type": "code",
   "execution_count": 15,
   "outputs": [],
   "source": [
    "train_dataset = TensorDataset(train_input_ids, train_attention_masks, train_image_features, train_labels)\n",
    "valid_dataset = TensorDataset(valid_input_ids, valid_attention_masks, valid_image_features, valid_labels)\n",
    "test_dataset = TensorDataset(test_input_ids, test_attention_masks, test_image_features, test_labels)"
   ],
   "metadata": {
    "collapsed": false
   }
  },
  {
   "cell_type": "code",
   "execution_count": 16,
   "outputs": [],
   "source": [
    "train_dataloader = DataLoader(\n",
    "    train_dataset,\n",
    "    batch_size=BATCH_SIZE,\n",
    "    sampler=RandomSampler(train_dataset),\n",
    ")\n",
    "valid_dataloader = DataLoader(\n",
    "    valid_dataset,\n",
    "    batch_size=BATCH_SIZE,\n",
    "    sampler=SequentialSampler(valid_dataset),\n",
    ")\n",
    "test_dataloader = DataLoader(test_dataset)"
   ],
   "metadata": {
    "collapsed": false
   }
  },
  {
   "cell_type": "code",
   "execution_count": 17,
   "outputs": [],
   "source": [
    "def f1_weighted_score(preds: torch.Tensor, labels: torch.Tensor):\n",
    "    pred_numpy = preds.cpu().detach().numpy()\n",
    "    labels_numpy = labels.cpu().detach().numpy()\n",
    "    pred_flatten = np.argmax(pred_numpy, axis=1).flatten()\n",
    "    labels_flatten = np.argmax(labels_numpy, axis=1).flatten()\n",
    "    return f1_score(labels_flatten.astype(np.int32), pred_flatten.astype(np.int32), average=\"weighted\")"
   ],
   "metadata": {
    "collapsed": false
   }
  },
  {
   "cell_type": "code",
   "execution_count": 18,
   "outputs": [],
   "source": [
    "class MultimodalVisualSentimentModel(torch.nn.Module):\n",
    "\n",
    "    def __init__(\n",
    "            self,\n",
    "            num_classes: int,\n",
    "            language_module,\n",
    "            visual_module,\n",
    "            language_model_dim: int,\n",
    "            visual_model_dim: int,\n",
    "            fusion_dim: int,\n",
    "            dropout_prob: float,\n",
    "    ):\n",
    "        super().__init__()\n",
    "        self.language_module = language_module\n",
    "        self.visual_module = visual_module\n",
    "        self.fusion = torch.nn.Linear(\n",
    "            in_features=(language_model_dim + visual_model_dim),\n",
    "            out_features=fusion_dim,\n",
    "        )\n",
    "        self.dropout = torch.nn.Dropout(p=dropout_prob)\n",
    "        self.classifier = torch.nn.Linear(in_features=fusion_dim, out_features=num_classes)\n",
    "        self.softmax = torch.nn.Softmax()\n",
    "        self.relu = torch.nn.ReLU()\n",
    "\n",
    "    def forward(\n",
    "            self,\n",
    "            input_ids: torch.Tensor,\n",
    "            attention_mask: torch.Tensor,\n",
    "            image_features: torch.Tensor,\n",
    "    ):\n",
    "        language_output = self.language_module(input_ids, attention_mask=attention_mask).logits\n",
    "        visual_output = self.visual_module(image_features).logits\n",
    "\n",
    "        combined_output = torch.cat([language_output, visual_output], dim=1)\n",
    "\n",
    "        fused_output = self.dropout(self.fusion(combined_output))\n",
    "\n",
    "        model_logits = self.softmax(self.classifier(fused_output))\n",
    "\n",
    "        return model_logits"
   ],
   "metadata": {
    "collapsed": false
   }
  },
  {
   "cell_type": "code",
   "execution_count": 19,
   "outputs": [],
   "source": [
    "NUM_CLASSES = len(label_encoder.classes_)"
   ],
   "metadata": {
    "collapsed": false
   }
  },
  {
   "cell_type": "code",
   "execution_count": 20,
   "outputs": [
    {
     "name": "stderr",
     "output_type": "stream",
     "text": [
      "Some weights of ViTForImageClassification were not initialized from the model checkpoint at google/vit-base-patch16-224 and are newly initialized because the shapes did not match:\n",
      "- classifier.weight: found shape torch.Size([1000, 768]) in the checkpoint and torch.Size([64, 768]) in the model instantiated\n",
      "- classifier.bias: found shape torch.Size([1000]) in the checkpoint and torch.Size([64]) in the model instantiated\n",
      "You should probably TRAIN this model on a down-stream task to be able to use it for predictions and inference.\n",
      "Some weights of the model checkpoint at DeepPavlov/rubert-base-cased were not used when initializing BertForSequenceClassification: ['cls.predictions.transform.LayerNorm.bias', 'cls.predictions.decoder.weight', 'cls.predictions.transform.LayerNorm.weight', 'cls.predictions.transform.dense.weight', 'cls.seq_relationship.bias', 'cls.predictions.bias', 'cls.seq_relationship.weight', 'cls.predictions.transform.dense.bias', 'cls.predictions.decoder.bias']\n",
      "- This IS expected if you are initializing BertForSequenceClassification from the checkpoint of a model trained on another task or with another architecture (e.g. initializing a BertForSequenceClassification model from a BertForPreTraining model).\n",
      "- This IS NOT expected if you are initializing BertForSequenceClassification from the checkpoint of a model that you expect to be exactly identical (initializing a BertForSequenceClassification model from a BertForSequenceClassification model).\n",
      "Some weights of BertForSequenceClassification were not initialized from the model checkpoint at DeepPavlov/rubert-base-cased and are newly initialized: ['classifier.bias', 'classifier.weight']\n",
      "You should probably TRAIN this model on a down-stream task to be able to use it for predictions and inference.\n"
     ]
    }
   ],
   "source": [
    "visual_model = ViTForImageClassification.from_pretrained(\n",
    "    VIT_MODEL,\n",
    "    num_labels=VISUAL_OUTPUT,\n",
    "    ignore_mismatched_sizes=True,\n",
    ")\n",
    "language_model = BertForSequenceClassification.from_pretrained(\n",
    "    BERT_MODEL,\n",
    "    num_labels=BERT_OUTPUT,\n",
    "    ignore_mismatched_sizes=True,\n",
    ")"
   ],
   "metadata": {
    "collapsed": false
   }
  },
  {
   "cell_type": "code",
   "execution_count": 21,
   "outputs": [
    {
     "data": {
      "text/plain": "MultimodalVisualSentimentModel(\n  (language_module): BertForSequenceClassification(\n    (bert): BertModel(\n      (embeddings): BertEmbeddings(\n        (word_embeddings): Embedding(119547, 768, padding_idx=0)\n        (position_embeddings): Embedding(512, 768)\n        (token_type_embeddings): Embedding(2, 768)\n        (LayerNorm): LayerNorm((768,), eps=1e-12, elementwise_affine=True)\n        (dropout): Dropout(p=0.1, inplace=False)\n      )\n      (encoder): BertEncoder(\n        (layer): ModuleList(\n          (0): BertLayer(\n            (attention): BertAttention(\n              (self): BertSelfAttention(\n                (query): Linear(in_features=768, out_features=768, bias=True)\n                (key): Linear(in_features=768, out_features=768, bias=True)\n                (value): Linear(in_features=768, out_features=768, bias=True)\n                (dropout): Dropout(p=0.1, inplace=False)\n              )\n              (output): BertSelfOutput(\n                (dense): Linear(in_features=768, out_features=768, bias=True)\n                (LayerNorm): LayerNorm((768,), eps=1e-12, elementwise_affine=True)\n                (dropout): Dropout(p=0.1, inplace=False)\n              )\n            )\n            (intermediate): BertIntermediate(\n              (dense): Linear(in_features=768, out_features=3072, bias=True)\n              (intermediate_act_fn): GELUActivation()\n            )\n            (output): BertOutput(\n              (dense): Linear(in_features=3072, out_features=768, bias=True)\n              (LayerNorm): LayerNorm((768,), eps=1e-12, elementwise_affine=True)\n              (dropout): Dropout(p=0.1, inplace=False)\n            )\n          )\n          (1): BertLayer(\n            (attention): BertAttention(\n              (self): BertSelfAttention(\n                (query): Linear(in_features=768, out_features=768, bias=True)\n                (key): Linear(in_features=768, out_features=768, bias=True)\n                (value): Linear(in_features=768, out_features=768, bias=True)\n                (dropout): Dropout(p=0.1, inplace=False)\n              )\n              (output): BertSelfOutput(\n                (dense): Linear(in_features=768, out_features=768, bias=True)\n                (LayerNorm): LayerNorm((768,), eps=1e-12, elementwise_affine=True)\n                (dropout): Dropout(p=0.1, inplace=False)\n              )\n            )\n            (intermediate): BertIntermediate(\n              (dense): Linear(in_features=768, out_features=3072, bias=True)\n              (intermediate_act_fn): GELUActivation()\n            )\n            (output): BertOutput(\n              (dense): Linear(in_features=3072, out_features=768, bias=True)\n              (LayerNorm): LayerNorm((768,), eps=1e-12, elementwise_affine=True)\n              (dropout): Dropout(p=0.1, inplace=False)\n            )\n          )\n          (2): BertLayer(\n            (attention): BertAttention(\n              (self): BertSelfAttention(\n                (query): Linear(in_features=768, out_features=768, bias=True)\n                (key): Linear(in_features=768, out_features=768, bias=True)\n                (value): Linear(in_features=768, out_features=768, bias=True)\n                (dropout): Dropout(p=0.1, inplace=False)\n              )\n              (output): BertSelfOutput(\n                (dense): Linear(in_features=768, out_features=768, bias=True)\n                (LayerNorm): LayerNorm((768,), eps=1e-12, elementwise_affine=True)\n                (dropout): Dropout(p=0.1, inplace=False)\n              )\n            )\n            (intermediate): BertIntermediate(\n              (dense): Linear(in_features=768, out_features=3072, bias=True)\n              (intermediate_act_fn): GELUActivation()\n            )\n            (output): BertOutput(\n              (dense): Linear(in_features=3072, out_features=768, bias=True)\n              (LayerNorm): LayerNorm((768,), eps=1e-12, elementwise_affine=True)\n              (dropout): Dropout(p=0.1, inplace=False)\n            )\n          )\n          (3): BertLayer(\n            (attention): BertAttention(\n              (self): BertSelfAttention(\n                (query): Linear(in_features=768, out_features=768, bias=True)\n                (key): Linear(in_features=768, out_features=768, bias=True)\n                (value): Linear(in_features=768, out_features=768, bias=True)\n                (dropout): Dropout(p=0.1, inplace=False)\n              )\n              (output): BertSelfOutput(\n                (dense): Linear(in_features=768, out_features=768, bias=True)\n                (LayerNorm): LayerNorm((768,), eps=1e-12, elementwise_affine=True)\n                (dropout): Dropout(p=0.1, inplace=False)\n              )\n            )\n            (intermediate): BertIntermediate(\n              (dense): Linear(in_features=768, out_features=3072, bias=True)\n              (intermediate_act_fn): GELUActivation()\n            )\n            (output): BertOutput(\n              (dense): Linear(in_features=3072, out_features=768, bias=True)\n              (LayerNorm): LayerNorm((768,), eps=1e-12, elementwise_affine=True)\n              (dropout): Dropout(p=0.1, inplace=False)\n            )\n          )\n          (4): BertLayer(\n            (attention): BertAttention(\n              (self): BertSelfAttention(\n                (query): Linear(in_features=768, out_features=768, bias=True)\n                (key): Linear(in_features=768, out_features=768, bias=True)\n                (value): Linear(in_features=768, out_features=768, bias=True)\n                (dropout): Dropout(p=0.1, inplace=False)\n              )\n              (output): BertSelfOutput(\n                (dense): Linear(in_features=768, out_features=768, bias=True)\n                (LayerNorm): LayerNorm((768,), eps=1e-12, elementwise_affine=True)\n                (dropout): Dropout(p=0.1, inplace=False)\n              )\n            )\n            (intermediate): BertIntermediate(\n              (dense): Linear(in_features=768, out_features=3072, bias=True)\n              (intermediate_act_fn): GELUActivation()\n            )\n            (output): BertOutput(\n              (dense): Linear(in_features=3072, out_features=768, bias=True)\n              (LayerNorm): LayerNorm((768,), eps=1e-12, elementwise_affine=True)\n              (dropout): Dropout(p=0.1, inplace=False)\n            )\n          )\n          (5): BertLayer(\n            (attention): BertAttention(\n              (self): BertSelfAttention(\n                (query): Linear(in_features=768, out_features=768, bias=True)\n                (key): Linear(in_features=768, out_features=768, bias=True)\n                (value): Linear(in_features=768, out_features=768, bias=True)\n                (dropout): Dropout(p=0.1, inplace=False)\n              )\n              (output): BertSelfOutput(\n                (dense): Linear(in_features=768, out_features=768, bias=True)\n                (LayerNorm): LayerNorm((768,), eps=1e-12, elementwise_affine=True)\n                (dropout): Dropout(p=0.1, inplace=False)\n              )\n            )\n            (intermediate): BertIntermediate(\n              (dense): Linear(in_features=768, out_features=3072, bias=True)\n              (intermediate_act_fn): GELUActivation()\n            )\n            (output): BertOutput(\n              (dense): Linear(in_features=3072, out_features=768, bias=True)\n              (LayerNorm): LayerNorm((768,), eps=1e-12, elementwise_affine=True)\n              (dropout): Dropout(p=0.1, inplace=False)\n            )\n          )\n          (6): BertLayer(\n            (attention): BertAttention(\n              (self): BertSelfAttention(\n                (query): Linear(in_features=768, out_features=768, bias=True)\n                (key): Linear(in_features=768, out_features=768, bias=True)\n                (value): Linear(in_features=768, out_features=768, bias=True)\n                (dropout): Dropout(p=0.1, inplace=False)\n              )\n              (output): BertSelfOutput(\n                (dense): Linear(in_features=768, out_features=768, bias=True)\n                (LayerNorm): LayerNorm((768,), eps=1e-12, elementwise_affine=True)\n                (dropout): Dropout(p=0.1, inplace=False)\n              )\n            )\n            (intermediate): BertIntermediate(\n              (dense): Linear(in_features=768, out_features=3072, bias=True)\n              (intermediate_act_fn): GELUActivation()\n            )\n            (output): BertOutput(\n              (dense): Linear(in_features=3072, out_features=768, bias=True)\n              (LayerNorm): LayerNorm((768,), eps=1e-12, elementwise_affine=True)\n              (dropout): Dropout(p=0.1, inplace=False)\n            )\n          )\n          (7): BertLayer(\n            (attention): BertAttention(\n              (self): BertSelfAttention(\n                (query): Linear(in_features=768, out_features=768, bias=True)\n                (key): Linear(in_features=768, out_features=768, bias=True)\n                (value): Linear(in_features=768, out_features=768, bias=True)\n                (dropout): Dropout(p=0.1, inplace=False)\n              )\n              (output): BertSelfOutput(\n                (dense): Linear(in_features=768, out_features=768, bias=True)\n                (LayerNorm): LayerNorm((768,), eps=1e-12, elementwise_affine=True)\n                (dropout): Dropout(p=0.1, inplace=False)\n              )\n            )\n            (intermediate): BertIntermediate(\n              (dense): Linear(in_features=768, out_features=3072, bias=True)\n              (intermediate_act_fn): GELUActivation()\n            )\n            (output): BertOutput(\n              (dense): Linear(in_features=3072, out_features=768, bias=True)\n              (LayerNorm): LayerNorm((768,), eps=1e-12, elementwise_affine=True)\n              (dropout): Dropout(p=0.1, inplace=False)\n            )\n          )\n          (8): BertLayer(\n            (attention): BertAttention(\n              (self): BertSelfAttention(\n                (query): Linear(in_features=768, out_features=768, bias=True)\n                (key): Linear(in_features=768, out_features=768, bias=True)\n                (value): Linear(in_features=768, out_features=768, bias=True)\n                (dropout): Dropout(p=0.1, inplace=False)\n              )\n              (output): BertSelfOutput(\n                (dense): Linear(in_features=768, out_features=768, bias=True)\n                (LayerNorm): LayerNorm((768,), eps=1e-12, elementwise_affine=True)\n                (dropout): Dropout(p=0.1, inplace=False)\n              )\n            )\n            (intermediate): BertIntermediate(\n              (dense): Linear(in_features=768, out_features=3072, bias=True)\n              (intermediate_act_fn): GELUActivation()\n            )\n            (output): BertOutput(\n              (dense): Linear(in_features=3072, out_features=768, bias=True)\n              (LayerNorm): LayerNorm((768,), eps=1e-12, elementwise_affine=True)\n              (dropout): Dropout(p=0.1, inplace=False)\n            )\n          )\n          (9): BertLayer(\n            (attention): BertAttention(\n              (self): BertSelfAttention(\n                (query): Linear(in_features=768, out_features=768, bias=True)\n                (key): Linear(in_features=768, out_features=768, bias=True)\n                (value): Linear(in_features=768, out_features=768, bias=True)\n                (dropout): Dropout(p=0.1, inplace=False)\n              )\n              (output): BertSelfOutput(\n                (dense): Linear(in_features=768, out_features=768, bias=True)\n                (LayerNorm): LayerNorm((768,), eps=1e-12, elementwise_affine=True)\n                (dropout): Dropout(p=0.1, inplace=False)\n              )\n            )\n            (intermediate): BertIntermediate(\n              (dense): Linear(in_features=768, out_features=3072, bias=True)\n              (intermediate_act_fn): GELUActivation()\n            )\n            (output): BertOutput(\n              (dense): Linear(in_features=3072, out_features=768, bias=True)\n              (LayerNorm): LayerNorm((768,), eps=1e-12, elementwise_affine=True)\n              (dropout): Dropout(p=0.1, inplace=False)\n            )\n          )\n          (10): BertLayer(\n            (attention): BertAttention(\n              (self): BertSelfAttention(\n                (query): Linear(in_features=768, out_features=768, bias=True)\n                (key): Linear(in_features=768, out_features=768, bias=True)\n                (value): Linear(in_features=768, out_features=768, bias=True)\n                (dropout): Dropout(p=0.1, inplace=False)\n              )\n              (output): BertSelfOutput(\n                (dense): Linear(in_features=768, out_features=768, bias=True)\n                (LayerNorm): LayerNorm((768,), eps=1e-12, elementwise_affine=True)\n                (dropout): Dropout(p=0.1, inplace=False)\n              )\n            )\n            (intermediate): BertIntermediate(\n              (dense): Linear(in_features=768, out_features=3072, bias=True)\n              (intermediate_act_fn): GELUActivation()\n            )\n            (output): BertOutput(\n              (dense): Linear(in_features=3072, out_features=768, bias=True)\n              (LayerNorm): LayerNorm((768,), eps=1e-12, elementwise_affine=True)\n              (dropout): Dropout(p=0.1, inplace=False)\n            )\n          )\n          (11): BertLayer(\n            (attention): BertAttention(\n              (self): BertSelfAttention(\n                (query): Linear(in_features=768, out_features=768, bias=True)\n                (key): Linear(in_features=768, out_features=768, bias=True)\n                (value): Linear(in_features=768, out_features=768, bias=True)\n                (dropout): Dropout(p=0.1, inplace=False)\n              )\n              (output): BertSelfOutput(\n                (dense): Linear(in_features=768, out_features=768, bias=True)\n                (LayerNorm): LayerNorm((768,), eps=1e-12, elementwise_affine=True)\n                (dropout): Dropout(p=0.1, inplace=False)\n              )\n            )\n            (intermediate): BertIntermediate(\n              (dense): Linear(in_features=768, out_features=3072, bias=True)\n              (intermediate_act_fn): GELUActivation()\n            )\n            (output): BertOutput(\n              (dense): Linear(in_features=3072, out_features=768, bias=True)\n              (LayerNorm): LayerNorm((768,), eps=1e-12, elementwise_affine=True)\n              (dropout): Dropout(p=0.1, inplace=False)\n            )\n          )\n        )\n      )\n      (pooler): BertPooler(\n        (dense): Linear(in_features=768, out_features=768, bias=True)\n        (activation): Tanh()\n      )\n    )\n    (dropout): Dropout(p=0.1, inplace=False)\n    (classifier): Linear(in_features=768, out_features=64, bias=True)\n  )\n  (visual_module): ViTForImageClassification(\n    (vit): ViTModel(\n      (embeddings): ViTEmbeddings(\n        (patch_embeddings): ViTPatchEmbeddings(\n          (projection): Conv2d(3, 768, kernel_size=(16, 16), stride=(16, 16))\n        )\n        (dropout): Dropout(p=0.0, inplace=False)\n      )\n      (encoder): ViTEncoder(\n        (layer): ModuleList(\n          (0): ViTLayer(\n            (attention): ViTAttention(\n              (attention): ViTSelfAttention(\n                (query): Linear(in_features=768, out_features=768, bias=True)\n                (key): Linear(in_features=768, out_features=768, bias=True)\n                (value): Linear(in_features=768, out_features=768, bias=True)\n                (dropout): Dropout(p=0.0, inplace=False)\n              )\n              (output): ViTSelfOutput(\n                (dense): Linear(in_features=768, out_features=768, bias=True)\n                (dropout): Dropout(p=0.0, inplace=False)\n              )\n            )\n            (intermediate): ViTIntermediate(\n              (dense): Linear(in_features=768, out_features=3072, bias=True)\n              (intermediate_act_fn): GELUActivation()\n            )\n            (output): ViTOutput(\n              (dense): Linear(in_features=3072, out_features=768, bias=True)\n              (dropout): Dropout(p=0.0, inplace=False)\n            )\n            (layernorm_before): LayerNorm((768,), eps=1e-12, elementwise_affine=True)\n            (layernorm_after): LayerNorm((768,), eps=1e-12, elementwise_affine=True)\n          )\n          (1): ViTLayer(\n            (attention): ViTAttention(\n              (attention): ViTSelfAttention(\n                (query): Linear(in_features=768, out_features=768, bias=True)\n                (key): Linear(in_features=768, out_features=768, bias=True)\n                (value): Linear(in_features=768, out_features=768, bias=True)\n                (dropout): Dropout(p=0.0, inplace=False)\n              )\n              (output): ViTSelfOutput(\n                (dense): Linear(in_features=768, out_features=768, bias=True)\n                (dropout): Dropout(p=0.0, inplace=False)\n              )\n            )\n            (intermediate): ViTIntermediate(\n              (dense): Linear(in_features=768, out_features=3072, bias=True)\n              (intermediate_act_fn): GELUActivation()\n            )\n            (output): ViTOutput(\n              (dense): Linear(in_features=3072, out_features=768, bias=True)\n              (dropout): Dropout(p=0.0, inplace=False)\n            )\n            (layernorm_before): LayerNorm((768,), eps=1e-12, elementwise_affine=True)\n            (layernorm_after): LayerNorm((768,), eps=1e-12, elementwise_affine=True)\n          )\n          (2): ViTLayer(\n            (attention): ViTAttention(\n              (attention): ViTSelfAttention(\n                (query): Linear(in_features=768, out_features=768, bias=True)\n                (key): Linear(in_features=768, out_features=768, bias=True)\n                (value): Linear(in_features=768, out_features=768, bias=True)\n                (dropout): Dropout(p=0.0, inplace=False)\n              )\n              (output): ViTSelfOutput(\n                (dense): Linear(in_features=768, out_features=768, bias=True)\n                (dropout): Dropout(p=0.0, inplace=False)\n              )\n            )\n            (intermediate): ViTIntermediate(\n              (dense): Linear(in_features=768, out_features=3072, bias=True)\n              (intermediate_act_fn): GELUActivation()\n            )\n            (output): ViTOutput(\n              (dense): Linear(in_features=3072, out_features=768, bias=True)\n              (dropout): Dropout(p=0.0, inplace=False)\n            )\n            (layernorm_before): LayerNorm((768,), eps=1e-12, elementwise_affine=True)\n            (layernorm_after): LayerNorm((768,), eps=1e-12, elementwise_affine=True)\n          )\n          (3): ViTLayer(\n            (attention): ViTAttention(\n              (attention): ViTSelfAttention(\n                (query): Linear(in_features=768, out_features=768, bias=True)\n                (key): Linear(in_features=768, out_features=768, bias=True)\n                (value): Linear(in_features=768, out_features=768, bias=True)\n                (dropout): Dropout(p=0.0, inplace=False)\n              )\n              (output): ViTSelfOutput(\n                (dense): Linear(in_features=768, out_features=768, bias=True)\n                (dropout): Dropout(p=0.0, inplace=False)\n              )\n            )\n            (intermediate): ViTIntermediate(\n              (dense): Linear(in_features=768, out_features=3072, bias=True)\n              (intermediate_act_fn): GELUActivation()\n            )\n            (output): ViTOutput(\n              (dense): Linear(in_features=3072, out_features=768, bias=True)\n              (dropout): Dropout(p=0.0, inplace=False)\n            )\n            (layernorm_before): LayerNorm((768,), eps=1e-12, elementwise_affine=True)\n            (layernorm_after): LayerNorm((768,), eps=1e-12, elementwise_affine=True)\n          )\n          (4): ViTLayer(\n            (attention): ViTAttention(\n              (attention): ViTSelfAttention(\n                (query): Linear(in_features=768, out_features=768, bias=True)\n                (key): Linear(in_features=768, out_features=768, bias=True)\n                (value): Linear(in_features=768, out_features=768, bias=True)\n                (dropout): Dropout(p=0.0, inplace=False)\n              )\n              (output): ViTSelfOutput(\n                (dense): Linear(in_features=768, out_features=768, bias=True)\n                (dropout): Dropout(p=0.0, inplace=False)\n              )\n            )\n            (intermediate): ViTIntermediate(\n              (dense): Linear(in_features=768, out_features=3072, bias=True)\n              (intermediate_act_fn): GELUActivation()\n            )\n            (output): ViTOutput(\n              (dense): Linear(in_features=3072, out_features=768, bias=True)\n              (dropout): Dropout(p=0.0, inplace=False)\n            )\n            (layernorm_before): LayerNorm((768,), eps=1e-12, elementwise_affine=True)\n            (layernorm_after): LayerNorm((768,), eps=1e-12, elementwise_affine=True)\n          )\n          (5): ViTLayer(\n            (attention): ViTAttention(\n              (attention): ViTSelfAttention(\n                (query): Linear(in_features=768, out_features=768, bias=True)\n                (key): Linear(in_features=768, out_features=768, bias=True)\n                (value): Linear(in_features=768, out_features=768, bias=True)\n                (dropout): Dropout(p=0.0, inplace=False)\n              )\n              (output): ViTSelfOutput(\n                (dense): Linear(in_features=768, out_features=768, bias=True)\n                (dropout): Dropout(p=0.0, inplace=False)\n              )\n            )\n            (intermediate): ViTIntermediate(\n              (dense): Linear(in_features=768, out_features=3072, bias=True)\n              (intermediate_act_fn): GELUActivation()\n            )\n            (output): ViTOutput(\n              (dense): Linear(in_features=3072, out_features=768, bias=True)\n              (dropout): Dropout(p=0.0, inplace=False)\n            )\n            (layernorm_before): LayerNorm((768,), eps=1e-12, elementwise_affine=True)\n            (layernorm_after): LayerNorm((768,), eps=1e-12, elementwise_affine=True)\n          )\n          (6): ViTLayer(\n            (attention): ViTAttention(\n              (attention): ViTSelfAttention(\n                (query): Linear(in_features=768, out_features=768, bias=True)\n                (key): Linear(in_features=768, out_features=768, bias=True)\n                (value): Linear(in_features=768, out_features=768, bias=True)\n                (dropout): Dropout(p=0.0, inplace=False)\n              )\n              (output): ViTSelfOutput(\n                (dense): Linear(in_features=768, out_features=768, bias=True)\n                (dropout): Dropout(p=0.0, inplace=False)\n              )\n            )\n            (intermediate): ViTIntermediate(\n              (dense): Linear(in_features=768, out_features=3072, bias=True)\n              (intermediate_act_fn): GELUActivation()\n            )\n            (output): ViTOutput(\n              (dense): Linear(in_features=3072, out_features=768, bias=True)\n              (dropout): Dropout(p=0.0, inplace=False)\n            )\n            (layernorm_before): LayerNorm((768,), eps=1e-12, elementwise_affine=True)\n            (layernorm_after): LayerNorm((768,), eps=1e-12, elementwise_affine=True)\n          )\n          (7): ViTLayer(\n            (attention): ViTAttention(\n              (attention): ViTSelfAttention(\n                (query): Linear(in_features=768, out_features=768, bias=True)\n                (key): Linear(in_features=768, out_features=768, bias=True)\n                (value): Linear(in_features=768, out_features=768, bias=True)\n                (dropout): Dropout(p=0.0, inplace=False)\n              )\n              (output): ViTSelfOutput(\n                (dense): Linear(in_features=768, out_features=768, bias=True)\n                (dropout): Dropout(p=0.0, inplace=False)\n              )\n            )\n            (intermediate): ViTIntermediate(\n              (dense): Linear(in_features=768, out_features=3072, bias=True)\n              (intermediate_act_fn): GELUActivation()\n            )\n            (output): ViTOutput(\n              (dense): Linear(in_features=3072, out_features=768, bias=True)\n              (dropout): Dropout(p=0.0, inplace=False)\n            )\n            (layernorm_before): LayerNorm((768,), eps=1e-12, elementwise_affine=True)\n            (layernorm_after): LayerNorm((768,), eps=1e-12, elementwise_affine=True)\n          )\n          (8): ViTLayer(\n            (attention): ViTAttention(\n              (attention): ViTSelfAttention(\n                (query): Linear(in_features=768, out_features=768, bias=True)\n                (key): Linear(in_features=768, out_features=768, bias=True)\n                (value): Linear(in_features=768, out_features=768, bias=True)\n                (dropout): Dropout(p=0.0, inplace=False)\n              )\n              (output): ViTSelfOutput(\n                (dense): Linear(in_features=768, out_features=768, bias=True)\n                (dropout): Dropout(p=0.0, inplace=False)\n              )\n            )\n            (intermediate): ViTIntermediate(\n              (dense): Linear(in_features=768, out_features=3072, bias=True)\n              (intermediate_act_fn): GELUActivation()\n            )\n            (output): ViTOutput(\n              (dense): Linear(in_features=3072, out_features=768, bias=True)\n              (dropout): Dropout(p=0.0, inplace=False)\n            )\n            (layernorm_before): LayerNorm((768,), eps=1e-12, elementwise_affine=True)\n            (layernorm_after): LayerNorm((768,), eps=1e-12, elementwise_affine=True)\n          )\n          (9): ViTLayer(\n            (attention): ViTAttention(\n              (attention): ViTSelfAttention(\n                (query): Linear(in_features=768, out_features=768, bias=True)\n                (key): Linear(in_features=768, out_features=768, bias=True)\n                (value): Linear(in_features=768, out_features=768, bias=True)\n                (dropout): Dropout(p=0.0, inplace=False)\n              )\n              (output): ViTSelfOutput(\n                (dense): Linear(in_features=768, out_features=768, bias=True)\n                (dropout): Dropout(p=0.0, inplace=False)\n              )\n            )\n            (intermediate): ViTIntermediate(\n              (dense): Linear(in_features=768, out_features=3072, bias=True)\n              (intermediate_act_fn): GELUActivation()\n            )\n            (output): ViTOutput(\n              (dense): Linear(in_features=3072, out_features=768, bias=True)\n              (dropout): Dropout(p=0.0, inplace=False)\n            )\n            (layernorm_before): LayerNorm((768,), eps=1e-12, elementwise_affine=True)\n            (layernorm_after): LayerNorm((768,), eps=1e-12, elementwise_affine=True)\n          )\n          (10): ViTLayer(\n            (attention): ViTAttention(\n              (attention): ViTSelfAttention(\n                (query): Linear(in_features=768, out_features=768, bias=True)\n                (key): Linear(in_features=768, out_features=768, bias=True)\n                (value): Linear(in_features=768, out_features=768, bias=True)\n                (dropout): Dropout(p=0.0, inplace=False)\n              )\n              (output): ViTSelfOutput(\n                (dense): Linear(in_features=768, out_features=768, bias=True)\n                (dropout): Dropout(p=0.0, inplace=False)\n              )\n            )\n            (intermediate): ViTIntermediate(\n              (dense): Linear(in_features=768, out_features=3072, bias=True)\n              (intermediate_act_fn): GELUActivation()\n            )\n            (output): ViTOutput(\n              (dense): Linear(in_features=3072, out_features=768, bias=True)\n              (dropout): Dropout(p=0.0, inplace=False)\n            )\n            (layernorm_before): LayerNorm((768,), eps=1e-12, elementwise_affine=True)\n            (layernorm_after): LayerNorm((768,), eps=1e-12, elementwise_affine=True)\n          )\n          (11): ViTLayer(\n            (attention): ViTAttention(\n              (attention): ViTSelfAttention(\n                (query): Linear(in_features=768, out_features=768, bias=True)\n                (key): Linear(in_features=768, out_features=768, bias=True)\n                (value): Linear(in_features=768, out_features=768, bias=True)\n                (dropout): Dropout(p=0.0, inplace=False)\n              )\n              (output): ViTSelfOutput(\n                (dense): Linear(in_features=768, out_features=768, bias=True)\n                (dropout): Dropout(p=0.0, inplace=False)\n              )\n            )\n            (intermediate): ViTIntermediate(\n              (dense): Linear(in_features=768, out_features=3072, bias=True)\n              (intermediate_act_fn): GELUActivation()\n            )\n            (output): ViTOutput(\n              (dense): Linear(in_features=3072, out_features=768, bias=True)\n              (dropout): Dropout(p=0.0, inplace=False)\n            )\n            (layernorm_before): LayerNorm((768,), eps=1e-12, elementwise_affine=True)\n            (layernorm_after): LayerNorm((768,), eps=1e-12, elementwise_affine=True)\n          )\n        )\n      )\n      (layernorm): LayerNorm((768,), eps=1e-12, elementwise_affine=True)\n    )\n    (classifier): Linear(in_features=768, out_features=64, bias=True)\n  )\n  (fusion): Linear(in_features=128, out_features=64, bias=True)\n  (dropout): Dropout(p=0.2, inplace=False)\n  (classifier): Linear(in_features=64, out_features=3, bias=True)\n  (softmax): Softmax(dim=None)\n  (relu): ReLU()\n)"
     },
     "execution_count": 21,
     "metadata": {},
     "output_type": "execute_result"
    }
   ],
   "source": [
    "multimodal_model = MultimodalVisualSentimentModel(\n",
    "    num_classes=NUM_CLASSES,\n",
    "    language_module=language_model,\n",
    "    visual_module=visual_model,\n",
    "    language_model_dim=BERT_OUTPUT,\n",
    "    visual_model_dim=VISUAL_OUTPUT,\n",
    "    fusion_dim=FUSION_DIM,\n",
    "    dropout_prob=DROPOUT,\n",
    ")\n",
    "multimodal_model.to(device)"
   ],
   "metadata": {
    "collapsed": false
   }
  },
  {
   "cell_type": "code",
   "execution_count": 22,
   "outputs": [],
   "source": [
    "LEARNING_RATE = 2e-5\n",
    "NUM_EPOCHS = 10\n",
    "EPS = 1e-7\n",
    "\n",
    "NUM_WARMUP_STEPS = 0\n",
    "NUM_TRAINING_STEPS = len(train_dataloader) * NUM_EPOCHS"
   ],
   "metadata": {
    "collapsed": false
   }
  },
  {
   "cell_type": "code",
   "execution_count": 23,
   "outputs": [],
   "source": [
    "optimizer = optim.RMSprop(multimodal_model.parameters(recurse=True), lr=LEARNING_RATE, eps=EPS)\n",
    "loss_function = torch.nn.CrossEntropyLoss().to(device)\n",
    "scheduler = get_linear_schedule_with_warmup(\n",
    "    optimizer,\n",
    "    num_warmup_steps=NUM_WARMUP_STEPS,\n",
    "    num_training_steps=NUM_TRAINING_STEPS,\n",
    ")"
   ],
   "metadata": {
    "collapsed": false
   }
  },
  {
   "cell_type": "code",
   "execution_count": 24,
   "outputs": [],
   "source": [
    "import matplotlib.pyplot as plt\n",
    "\n",
    "\n",
    "def plot_history(history: dict) -> None:\n",
    "    train = history.get(\"train\")\n",
    "    valid = history.get(\"valid\")\n",
    "    plt.title(\"Loss\")\n",
    "    plt.plot(train.get(\"loss\"), label=\"train\")\n",
    "    plt.plot(valid.get(\"loss\"), label=\"valid\")\n",
    "    plt.legend()\n",
    "    plt.show()\n",
    "    plt.title(\"Accuracy\")\n",
    "    plt.plot(train.get(\"accuracy\"), label=\"train\")\n",
    "    plt.plot(valid.get(\"accuracy\"), label=\"valid\")\n",
    "    plt.legend()\n",
    "    plt.show()"
   ],
   "metadata": {
    "collapsed": false
   }
  },
  {
   "cell_type": "code",
   "execution_count": 25,
   "outputs": [],
   "source": [
    "def train(\n",
    "        model: torch.nn.Module,\n",
    "        dataloader: DataLoader,\n",
    "        optim: optim.Optimizer,\n",
    "        loss_func: torch.nn.Module,\n",
    "        warmup_scheduler=scheduler,\n",
    ") -> Tuple[float, float]:\n",
    "    loss = 0\n",
    "    accuracy = 0\n",
    "    model.train()\n",
    "    for input_ids, attention_mask, image_features, sentiment in dataloader:\n",
    "        optim.zero_grad()\n",
    "\n",
    "        input_ids = input_ids.to(device)\n",
    "        attention_mask = attention_mask.to(device)\n",
    "        image_features = image_features.to(device)\n",
    "\n",
    "        sentiment = sentiment.to(device)\n",
    "\n",
    "        preds = model(input_ids, attention_mask, image_features)\n",
    "\n",
    "        loss_current = loss_func(preds.to(device), sentiment)\n",
    "\n",
    "        accuracy_curr = f1_weighted_score(preds, sentiment)\n",
    "\n",
    "        loss_current.backward()\n",
    "        optim.step()\n",
    "        warmup_scheduler.step()\n",
    "\n",
    "        loss += loss_current.item()\n",
    "        accuracy += accuracy_curr.item()\n",
    "    return loss / len(dataloader), accuracy / len(dataloader)"
   ],
   "metadata": {
    "collapsed": false
   }
  },
  {
   "cell_type": "code",
   "execution_count": 26,
   "outputs": [],
   "source": [
    "def validate(\n",
    "        model: torch.nn.Module,\n",
    "        dataloader: DataLoader,\n",
    "        loss_func: torch.nn.Module,\n",
    ") -> Tuple[float, float]:\n",
    "    loss = 0\n",
    "    accuracy = 0\n",
    "    model.eval()\n",
    "    with torch.no_grad():\n",
    "        for input_ids, attention_mask, image_features, sentiment in dataloader:\n",
    "            input_ids = input_ids.to(device)\n",
    "            attention_mask = attention_mask.to(device)\n",
    "            image_features = image_features.to(device)\n",
    "\n",
    "            sentiment = sentiment.to(device)\n",
    "\n",
    "            preds = model(input_ids, attention_mask, image_features)\n",
    "\n",
    "            loss_current = loss_func(preds.to(device), sentiment)\n",
    "\n",
    "            accuracy_current = f1_weighted_score(preds, sentiment)\n",
    "\n",
    "            loss += loss_current.item()\n",
    "            accuracy += accuracy_current.item()\n",
    "    return loss / len(dataloader), accuracy / len(dataloader)"
   ],
   "metadata": {
    "collapsed": false
   }
  },
  {
   "cell_type": "code",
   "execution_count": 27,
   "outputs": [],
   "source": [
    "def training(\n",
    "        model: torch.nn.Module,\n",
    "        train_data: DataLoader,\n",
    "        validate_data: DataLoader,\n",
    "        optim: optim.Optimizer,\n",
    "        loss_func: torch.nn.Module,\n",
    "        num_epochs: int = 10,\n",
    ") -> Dict[str, Any]:\n",
    "    best_loss = float('inf')\n",
    "    history = {\n",
    "        \"train\": {\n",
    "            \"loss\": [],\n",
    "            \"accuracy\": [],\n",
    "        },\n",
    "        \"valid\": {\n",
    "            \"loss\": [],\n",
    "            \"accuracy\": [],\n",
    "        }\n",
    "    }\n",
    "    for epoch in range(num_epochs):\n",
    "        print(f\"{'=' * 15} Epoch: {epoch + 1} {'=' * 15}\")\n",
    "        time_start = time.time()\n",
    "        train_loss, train_accuracy = train(model, train_data, optim, loss_func)\n",
    "        print(f\"Train: loss={train_loss:.3f}, accuracy={train_accuracy:.3f}\")\n",
    "        validation_loss, validation_accuracy = validate(model, validate_data, loss_func)\n",
    "        print(f\"Validation: loss={validation_loss:.3f}, accuracy={validation_accuracy:.3f}\")\n",
    "        time_end = time.time()\n",
    "        time_delta = time_end - time_start\n",
    "        if validation_loss < best_loss:\n",
    "            best_loss = validation_loss\n",
    "        history[\"train\"][\"accuracy\"].append(train_accuracy)\n",
    "        history[\"train\"][\"loss\"].append(train_loss)\n",
    "        history[\"valid\"][\"accuracy\"].append(validation_accuracy)\n",
    "        history[\"valid\"][\"loss\"].append(validation_loss)\n",
    "        print(f\"Time elapsed: {time_delta:.2f} s\\n{'=' * 40}\")\n",
    "    return history"
   ],
   "metadata": {
    "collapsed": false
   }
  },
  {
   "cell_type": "code",
   "execution_count": 28,
   "outputs": [
    {
     "name": "stdout",
     "output_type": "stream",
     "text": [
      "=============== Epoch: 1 ===============\n",
      "Train: loss=0.906, accuracy=0.598\n",
      "Validation: loss=0.859, accuracy=0.704\n",
      "Time elapsed: 72.93 s\n",
      "========================================\n",
      "=============== Epoch: 2 ===============\n",
      "Train: loss=0.787, accuracy=0.691\n",
      "Validation: loss=0.829, accuracy=0.727\n",
      "Time elapsed: 63.30 s\n",
      "========================================\n",
      "=============== Epoch: 3 ===============\n",
      "Train: loss=0.718, accuracy=0.815\n",
      "Validation: loss=0.813, accuracy=0.731\n",
      "Time elapsed: 61.29 s\n",
      "========================================\n",
      "=============== Epoch: 4 ===============\n",
      "Train: loss=0.666, accuracy=0.901\n",
      "Validation: loss=0.814, accuracy=0.728\n",
      "Time elapsed: 60.97 s\n",
      "========================================\n",
      "=============== Epoch: 5 ===============\n",
      "Train: loss=0.626, accuracy=0.941\n",
      "Validation: loss=0.832, accuracy=0.704\n",
      "Time elapsed: 60.47 s\n",
      "========================================\n",
      "=============== Epoch: 6 ===============\n",
      "Train: loss=0.606, accuracy=0.956\n",
      "Validation: loss=0.825, accuracy=0.708\n",
      "Time elapsed: 61.36 s\n",
      "========================================\n",
      "=============== Epoch: 7 ===============\n",
      "Train: loss=0.590, accuracy=0.968\n",
      "Validation: loss=0.839, accuracy=0.697\n",
      "Time elapsed: 61.97 s\n",
      "========================================\n",
      "=============== Epoch: 8 ===============\n",
      "Train: loss=0.584, accuracy=0.971\n",
      "Validation: loss=0.831, accuracy=0.704\n",
      "Time elapsed: 60.30 s\n",
      "========================================\n",
      "=============== Epoch: 9 ===============\n",
      "Train: loss=0.580, accuracy=0.974\n",
      "Validation: loss=0.831, accuracy=0.704\n",
      "Time elapsed: 58.36 s\n",
      "========================================\n",
      "=============== Epoch: 10 ===============\n",
      "Train: loss=0.578, accuracy=0.976\n",
      "Validation: loss=0.831, accuracy=0.700\n",
      "Time elapsed: 61.05 s\n",
      "========================================\n"
     ]
    }
   ],
   "source": [
    "multimodal_history = training(\n",
    "    multimodal_model,\n",
    "    train_dataloader,\n",
    "    test_dataloader,\n",
    "    optimizer,\n",
    "    loss_function,\n",
    "    num_epochs=NUM_EPOCHS,\n",
    ")"
   ],
   "metadata": {
    "collapsed": false
   }
  },
  {
   "cell_type": "code",
   "execution_count": 29,
   "outputs": [
    {
     "data": {
      "text/plain": "<Figure size 640x480 with 1 Axes>",
      "image/png": "[encoded data removed]"
     },
     "metadata": {},
     "output_type": "display_data"
    },
    {
     "data": {
      "text/plain": "<Figure size 640x480 with 1 Axes>",
      "image/png": "[encoded data removed]"
     },
     "metadata": {},
     "output_type": "display_data"
    }
   ],
   "source": [
    "plot_history(multimodal_history)"
   ],
   "metadata": {
    "collapsed": false
   }
  },
  {
   "cell_type": "code",
   "execution_count": 30,
   "outputs": [],
   "source": [
    "def get_predictions(model: torch.nn.Module, dataloader: DataLoader) -> Tuple[np.ndarray, np.ndarray]:\n",
    "    model.eval()\n",
    "    predictions = []\n",
    "    true_labels = []\n",
    "    with torch.no_grad():\n",
    "        for input_ids, attention_mask, image_features, sentiment in dataloader:\n",
    "            input_ids = input_ids.to(device)\n",
    "            attention_mask = attention_mask.to(device)\n",
    "            image_features = image_features.to(device)\n",
    "\n",
    "            preds = model(input_ids, attention_mask, image_features)\n",
    "\n",
    "            preds = preds.cpu().detach().numpy()\n",
    "            sentiment = sentiment.cpu().detach().numpy()\n",
    "\n",
    "            preds = np.argmax(preds, axis=1).flatten().tolist()\n",
    "            sentiment = np.argmax(sentiment, axis=1).flatten().tolist()\n",
    "\n",
    "            predictions.extend(preds)\n",
    "            true_labels.extend(sentiment)\n",
    "\n",
    "    return np.array(predictions), np.array(true_labels)"
   ],
   "metadata": {
    "collapsed": false
   }
  },
  {
   "cell_type": "code",
   "execution_count": 31,
   "outputs": [],
   "source": [
    "y_pred, y_true = get_predictions(multimodal_model, test_dataloader)"
   ],
   "metadata": {
    "collapsed": false
   }
  },
  {
   "cell_type": "code",
   "execution_count": 32,
   "outputs": [],
   "source": [
    "def get_classification_report(y_true, y_pred, labels):\n",
    "    print(classification_report(y_true, y_pred, target_names=labels))\n",
    "    ConfusionMatrixDisplay(confusion_matrix(y_true, y_pred, normalize=\"true\"), display_labels=labels).plot()"
   ],
   "metadata": {
    "collapsed": false
   }
  },
  {
   "cell_type": "code",
   "execution_count": 33,
   "outputs": [
    {
     "name": "stdout",
     "output_type": "stream",
     "text": [
      "              precision    recall  f1-score   support\n",
      "\n",
      "    negative       0.75      0.71      0.73       245\n",
      "     neutral       0.39      0.46      0.42       124\n",
      "    positive       0.82      0.79      0.81       282\n",
      "\n",
      "    accuracy                           0.70       651\n",
      "   macro avg       0.65      0.66      0.65       651\n",
      "weighted avg       0.71      0.70      0.71       651\n",
      "\n"
     ]
    },
    {
     "data": {
      "text/plain": "<Figure size 640x480 with 2 Axes>",
      "image/png": "[encoded data removed]"
     },
     "metadata": {},
     "output_type": "display_data"
    }
   ],
   "source": [
    "get_classification_report(y_true, y_pred, label_encoder.classes_)"
   ],
   "metadata": {
    "collapsed": false
   }
  },
  {
   "cell_type": "markdown",
   "source": [
    "## Train for implementation"
   ],
   "metadata": {
    "collapsed": false
   }
  },
  {
   "cell_type": "code",
   "execution_count": 34,
   "outputs": [
    {
     "name": "stderr",
     "output_type": "stream",
     "text": [
      "100%|██████████| 3255/3255 [00:01<00:00, 2965.29it/s]\n",
      "100%|██████████| 3255/3255 [00:37<00:00, 87.45it/s] \n"
     ]
    }
   ],
   "source": [
    "input_ids, attention_masks = transform_sentences(image_info_df[\"clean_caption\"].to_list())\n",
    "image_features = transform_images(image_info_df[\"image_path\"].to_list(), vit_feature_extractor)\n",
    "labels = F.one_hot(torch.tensor(image_info_df[\"label\"].to_list()).to(torch.int64)).to(torch.float64)"
   ],
   "metadata": {
    "collapsed": false
   }
  },
  {
   "cell_type": "code",
   "execution_count": 35,
   "outputs": [],
   "source": [
    "tensor_dataset = TensorDataset(input_ids, attention_masks, image_features, labels)"
   ],
   "metadata": {
    "collapsed": false
   }
  },
  {
   "cell_type": "code",
   "execution_count": 36,
   "outputs": [],
   "source": [
    "dataloader = DataLoader(\n",
    "    tensor_dataset,\n",
    "    batch_size=BATCH_SIZE,\n",
    "    sampler=SequentialSampler(tensor_dataset),\n",
    ")"
   ],
   "metadata": {
    "collapsed": false
   }
  },
  {
   "cell_type": "code",
   "execution_count": 37,
   "outputs": [
    {
     "name": "stderr",
     "output_type": "stream",
     "text": [
      "100%|██████████| 5/5 [05:40<00:00, 68.16s/it]\n"
     ]
    }
   ],
   "source": [
    "# train for implementation\n",
    "\n",
    "NUM_TRAIN_EPOCHS = 5\n",
    "\n",
    "result_multimodal_vision_model = MultimodalVisualSentimentModel(\n",
    "    num_classes=NUM_CLASSES,\n",
    "    language_module=language_model,\n",
    "    visual_module=visual_model,\n",
    "    language_model_dim=BERT_OUTPUT,\n",
    "    visual_model_dim=VISUAL_OUTPUT,\n",
    "    fusion_dim=FUSION_DIM,\n",
    "    dropout_prob=DROPOUT,\n",
    ")\n",
    "result_multimodal_vision_model.to(device)\n",
    "\n",
    "\n",
    "for _ in tqdm(range(NUM_TRAIN_EPOCHS)):\n",
    "    train(result_multimodal_vision_model, dataloader, optimizer, loss_function)"
   ],
   "metadata": {
    "collapsed": false
   }
  },
  {
   "cell_type": "code",
   "execution_count": 39,
   "outputs": [],
   "source": [
    "import os\n",
    "from pathlib import Path\n",
    "\n",
    "\n",
    "MODEL_DIR = Path(\"../../models\")\n",
    "if not os.path.exists(MODEL_DIR):\n",
    "    os.mkdir(MODEL_DIR)\n",
    "\n",
    "result_multimodal_vision_model.to(\"cpu\")\n",
    "torch.save(result_multimodal_vision_model, MODEL_DIR / \"sentiment_visual_model.cfg\")"
   ],
   "metadata": {
    "collapsed": false
   }
  },
  {
   "cell_type": "code",
   "execution_count": null,
   "outputs": [],
   "source": [],
   "metadata": {
    "collapsed": false
   }
  }
 ],
 "metadata": {
  "kernelspec": {
   "display_name": "Python 3",
   "language": "python",
   "name": "python3"
  },
  "language_info": {
   "codemirror_mode": {
    "name": "ipython",
    "version": 2
   },
   "file_extension": ".py",
   "mimetype": "text/x-python",
   "name": "python",
   "nbconvert_exporter": "python",
   "pygments_lexer": "ipython2",
   "version": "2.7.6"
  }
 },
 "nbformat": 4,
 "nbformat_minor": 0
}
