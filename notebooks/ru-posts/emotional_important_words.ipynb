{
 "cells": [
  {
   "cell_type": "markdown",
   "source": [
    "# Latent Dirichlet Allocation for sentiment words segmentation"
   ],
   "metadata": {
    "collapsed": false
   }
  },
  {
   "cell_type": "code",
   "execution_count": 4,
   "outputs": [],
   "source": [
    "import os\n",
    "import sys\n",
    "import re\n",
    "import warnings\n",
    "from collections import Counter, OrderedDict\n",
    "from typing import List, Optional\n",
    "\n",
    "from tqdm import tqdm\n",
    "from tqdm._tqdm_notebook import tqdm_notebook\n",
    "from IPython.display import clear_output\n",
    "\n",
    "\n",
    "import numpy as np\n",
    "import pandas as pd\n",
    "\n",
    "import matplotlib.pyplot as plt\n",
    "import seaborn as sns\n",
    "\n",
    "\n",
    "tqdm_notebook.pandas()\n",
    "warnings.filterwarnings('ignore')\n",
    "np.random.seed(42)"
   ],
   "metadata": {
    "collapsed": false
   }
  },
  {
   "cell_type": "code",
   "execution_count": 5,
   "outputs": [],
   "source": [
    "import nltk\n",
    "from nltk.corpus import stopwords\n",
    "from nltk.stem.snowball import RussianStemmer\n",
    "from nltk.tokenize.casual import casual_tokenize\n",
    "from wordcloud import WordCloud, STOPWORDS\n",
    "\n",
    "\n",
    "nltk.download('stopwords')\n",
    "RUSSIAN_STOPWORDS = set(stopwords.words(\"russian\"))\n",
    "clear_output()"
   ],
   "metadata": {
    "collapsed": false
   }
  },
  {
   "cell_type": "code",
   "execution_count": 6,
   "outputs": [],
   "source": [
    "from sklearn.cluster import KMeans\n",
    "from sklearn.decomposition import LatentDirichletAllocation, PCA, TruncatedSVD\n",
    "from sklearn.pipeline import Pipeline\n",
    "from sklearn.feature_extraction.text import CountVectorizer, TfidfTransformer, TfidfVectorizer\n",
    "from sklearn.metrics import silhouette_score"
   ],
   "metadata": {
    "collapsed": false
   }
  },
  {
   "cell_type": "code",
   "execution_count": 18,
   "outputs": [],
   "source": [
    "image_captions_df = pd.read_csv(\"../visual-sentiment/image_sentiment_data_with_captions.csv\")\n",
    "text_posts_df = pd.read_csv(\"../ru-text-sentiment/data/lemmatize_labeled_rusentiment_text_mystem.csv\")"
   ],
   "metadata": {
    "collapsed": false
   }
  },
  {
   "cell_type": "code",
   "execution_count": 19,
   "outputs": [
    {
     "data": {
      "text/plain": "                                       image_path sentiment  \\\n0   data/preprocess_images/positive/104505632.jpg  positive   \n1  data/preprocess_images/positive/1059249846.jpg  positive   \n2   data/preprocess_images/positive/108501238.jpg  positive   \n3  data/preprocess_images/positive/1089046474.jpg  positive   \n4  data/preprocess_images/positive/1096822187.jpg  positive   \n\n                                             caption  \\\n0  Женщина разговаривает по мобильному телефону, ...   \n1      Женщина сидит на скамейке в парке с зонтиком.   \n2  Женщина в очках и с длинными волосами держит м...   \n3             Вид на город с высоты птичьего полета.   \n4              Мужчина и женщина позируют фотографу.   \n\n                                       clean_caption  \n0  женщина разговаривать мобильный телефон держат...  \n1                женщина сидеть скамейка парк зонтик  \n2  женщина очки длинный волос держать мобильный т...  \n3                      вид город высота птичий полет  \n4                мужчина женщина позировать фотограф  ",
      "text/html": "<div>\n<style scoped>\n    .dataframe tbody tr th:only-of-type {\n        vertical-align: middle;\n    }\n\n    .dataframe tbody tr th {\n        vertical-align: top;\n    }\n\n    .dataframe thead th {\n        text-align: right;\n    }\n</style>\n<table border=\"1\" class=\"dataframe\">\n  <thead>\n    <tr style=\"text-align: right;\">\n      <th></th>\n      <th>image_path</th>\n      <th>sentiment</th>\n      <th>caption</th>\n      <th>clean_caption</th>\n    </tr>\n  </thead>\n  <tbody>\n    <tr>\n      <th>0</th>\n      <td>data/preprocess_images/positive/104505632.jpg</td>\n      <td>positive</td>\n      <td>Женщина разговаривает по мобильному телефону, ...</td>\n      <td>женщина разговаривать мобильный телефон держат...</td>\n    </tr>\n    <tr>\n      <th>1</th>\n      <td>data/preprocess_images/positive/1059249846.jpg</td>\n      <td>positive</td>\n      <td>Женщина сидит на скамейке в парке с зонтиком.</td>\n      <td>женщина сидеть скамейка парк зонтик</td>\n    </tr>\n    <tr>\n      <th>2</th>\n      <td>data/preprocess_images/positive/108501238.jpg</td>\n      <td>positive</td>\n      <td>Женщина в очках и с длинными волосами держит м...</td>\n      <td>женщина очки длинный волос держать мобильный т...</td>\n    </tr>\n    <tr>\n      <th>3</th>\n      <td>data/preprocess_images/positive/1089046474.jpg</td>\n      <td>positive</td>\n      <td>Вид на город с высоты птичьего полета.</td>\n      <td>вид город высота птичий полет</td>\n    </tr>\n    <tr>\n      <th>4</th>\n      <td>data/preprocess_images/positive/1096822187.jpg</td>\n      <td>positive</td>\n      <td>Мужчина и женщина позируют фотографу.</td>\n      <td>мужчина женщина позировать фотограф</td>\n    </tr>\n  </tbody>\n</table>\n</div>"
     },
     "execution_count": 19,
     "metadata": {},
     "output_type": "execute_result"
    }
   ],
   "source": [
    "image_captions_df.head()"
   ],
   "metadata": {
    "collapsed": false
   }
  },
  {
   "cell_type": "code",
   "execution_count": 20,
   "outputs": [
    {
     "data": {
      "text/plain": "                                                text sentiment\n0  украина это часть русь искусственно отделять к...  negative\n1  говорить относительно небольшой коррупция обра...  negative\n2  свой поляк сделать русский понятно литовский п...   neutral\n3  фильм зритель любить диковинный соседка пятый ...   neutral\n4  государство платить посмотреть денежный поток ...  negative",
      "text/html": "<div>\n<style scoped>\n    .dataframe tbody tr th:only-of-type {\n        vertical-align: middle;\n    }\n\n    .dataframe tbody tr th {\n        vertical-align: top;\n    }\n\n    .dataframe thead th {\n        text-align: right;\n    }\n</style>\n<table border=\"1\" class=\"dataframe\">\n  <thead>\n    <tr style=\"text-align: right;\">\n      <th></th>\n      <th>text</th>\n      <th>sentiment</th>\n    </tr>\n  </thead>\n  <tbody>\n    <tr>\n      <th>0</th>\n      <td>украина это часть русь искусственно отделять к...</td>\n      <td>negative</td>\n    </tr>\n    <tr>\n      <th>1</th>\n      <td>говорить относительно небольшой коррупция обра...</td>\n      <td>negative</td>\n    </tr>\n    <tr>\n      <th>2</th>\n      <td>свой поляк сделать русский понятно литовский п...</td>\n      <td>neutral</td>\n    </tr>\n    <tr>\n      <th>3</th>\n      <td>фильм зритель любить диковинный соседка пятый ...</td>\n      <td>neutral</td>\n    </tr>\n    <tr>\n      <th>4</th>\n      <td>государство платить посмотреть денежный поток ...</td>\n      <td>negative</td>\n    </tr>\n  </tbody>\n</table>\n</div>"
     },
     "execution_count": 20,
     "metadata": {},
     "output_type": "execute_result"
    }
   ],
   "source": [
    "text_posts_df[\"sentiment\"] = text_posts_df[\"sentiment\"].replace({-1: \"negative\", 0: \"neutral\", 1: \"positive\"})\n",
    "text_posts_df.head()"
   ],
   "metadata": {
    "collapsed": false
   }
  },
  {
   "cell_type": "code",
   "execution_count": 21,
   "outputs": [
    {
     "data": {
      "text/plain": "                                                text sentiment\n0  женщина разговаривать мобильный телефон держат...  positive\n1                женщина сидеть скамейка парк зонтик  positive\n2  женщина очки длинный волос держать мобильный т...  positive\n3                      вид город высота птичий полет  positive\n4                мужчина женщина позировать фотограф  positive",
      "text/html": "<div>\n<style scoped>\n    .dataframe tbody tr th:only-of-type {\n        vertical-align: middle;\n    }\n\n    .dataframe tbody tr th {\n        vertical-align: top;\n    }\n\n    .dataframe thead th {\n        text-align: right;\n    }\n</style>\n<table border=\"1\" class=\"dataframe\">\n  <thead>\n    <tr style=\"text-align: right;\">\n      <th></th>\n      <th>text</th>\n      <th>sentiment</th>\n    </tr>\n  </thead>\n  <tbody>\n    <tr>\n      <th>0</th>\n      <td>женщина разговаривать мобильный телефон держат...</td>\n      <td>positive</td>\n    </tr>\n    <tr>\n      <th>1</th>\n      <td>женщина сидеть скамейка парк зонтик</td>\n      <td>positive</td>\n    </tr>\n    <tr>\n      <th>2</th>\n      <td>женщина очки длинный волос держать мобильный т...</td>\n      <td>positive</td>\n    </tr>\n    <tr>\n      <th>3</th>\n      <td>вид город высота птичий полет</td>\n      <td>positive</td>\n    </tr>\n    <tr>\n      <th>4</th>\n      <td>мужчина женщина позировать фотограф</td>\n      <td>positive</td>\n    </tr>\n  </tbody>\n</table>\n</div>"
     },
     "execution_count": 21,
     "metadata": {},
     "output_type": "execute_result"
    }
   ],
   "source": [
    "image_captions_df = image_captions_df[[\"clean_caption\", \"sentiment\"]].rename({\"clean_caption\": \"text\"}, axis=1)\n",
    "image_captions_df.head()"
   ],
   "metadata": {
    "collapsed": false
   }
  },
  {
   "cell_type": "code",
   "execution_count": 35,
   "outputs": [],
   "source": [
    "posts_for_ldia= pd.concat([text_posts_df, image_captions_df])"
   ],
   "metadata": {
    "collapsed": false
   }
  },
  {
   "cell_type": "code",
   "execution_count": 36,
   "outputs": [],
   "source": [
    "posts_for_ldia = posts_for_ldia.dropna(subset=[\"text\"]).sample(frac=1).reset_index(drop=True)"
   ],
   "metadata": {
    "collapsed": false
   }
  },
  {
   "cell_type": "code",
   "execution_count": 37,
   "outputs": [
    {
     "data": {
      "text/plain": "                                                text sentiment\n0  помнить миссия проходить тревор вскрывать моги...  positive\n1         шутить финансовый план внатура очень хуево  negative\n2  ужное вернуть автобус ленин оба сторона усугуб...  negative\n3                    мнэээ давать прошивка свой диск  negative\n4    ахах дчипил мо вчителек анга мовь слово ладушка  positive",
      "text/html": "<div>\n<style scoped>\n    .dataframe tbody tr th:only-of-type {\n        vertical-align: middle;\n    }\n\n    .dataframe tbody tr th {\n        vertical-align: top;\n    }\n\n    .dataframe thead th {\n        text-align: right;\n    }\n</style>\n<table border=\"1\" class=\"dataframe\">\n  <thead>\n    <tr style=\"text-align: right;\">\n      <th></th>\n      <th>text</th>\n      <th>sentiment</th>\n    </tr>\n  </thead>\n  <tbody>\n    <tr>\n      <th>0</th>\n      <td>помнить миссия проходить тревор вскрывать моги...</td>\n      <td>positive</td>\n    </tr>\n    <tr>\n      <th>1</th>\n      <td>шутить финансовый план внатура очень хуево</td>\n      <td>negative</td>\n    </tr>\n    <tr>\n      <th>2</th>\n      <td>ужное вернуть автобус ленин оба сторона усугуб...</td>\n      <td>negative</td>\n    </tr>\n    <tr>\n      <th>3</th>\n      <td>мнэээ давать прошивка свой диск</td>\n      <td>negative</td>\n    </tr>\n    <tr>\n      <th>4</th>\n      <td>ахах дчипил мо вчителек анга мовь слово ладушка</td>\n      <td>positive</td>\n    </tr>\n  </tbody>\n</table>\n</div>"
     },
     "execution_count": 37,
     "metadata": {},
     "output_type": "execute_result"
    }
   ],
   "source": [
    "posts_for_ldia.head()"
   ],
   "metadata": {
    "collapsed": false
   }
  },
  {
   "cell_type": "code",
   "execution_count": 38,
   "outputs": [
    {
     "data": {
      "text/plain": "(360449, 2)"
     },
     "execution_count": 38,
     "metadata": {},
     "output_type": "execute_result"
    }
   ],
   "source": [
    "posts_for_ldia.shape"
   ],
   "metadata": {
    "collapsed": false
   }
  },
  {
   "cell_type": "code",
   "execution_count": 51,
   "outputs": [],
   "source": [
    "counter = CountVectorizer(tokenizer=casual_tokenize, max_features=1024)"
   ],
   "metadata": {
    "collapsed": false
   }
  },
  {
   "cell_type": "code",
   "execution_count": 52,
   "outputs": [
    {
     "name": "stdout",
     "output_type": "stream",
     "text": [
      "CPU times: total: 58.6 s\n",
      "Wall time: 58.8 s\n"
     ]
    }
   ],
   "source": [
    "%%time\n",
    "bow_docs = pd.DataFrame(counter.fit_transform(raw_documents=posts_for_ldia[\"text\"]).toarray())"
   ],
   "metadata": {
    "collapsed": false
   }
  },
  {
   "cell_type": "code",
   "execution_count": 53,
   "outputs": [],
   "source": [
    "columns_nums_ldia, terms_ldia = zip(*sorted(zip(counter.vocabulary_.values(), counter.vocabulary_.keys(),)))\n",
    "bow_docs.columns = terms_ldia"
   ],
   "metadata": {
    "collapsed": false
   }
  },
  {
   "cell_type": "code",
   "execution_count": 54,
   "outputs": [
    {
     "data": {
      "text/plain": "(360449, 1024)"
     },
     "execution_count": 54,
     "metadata": {},
     "output_type": "execute_result"
    }
   ],
   "source": [
    "bow_docs.shape"
   ],
   "metadata": {
    "collapsed": false
   }
  },
  {
   "cell_type": "code",
   "execution_count": null,
   "outputs": [],
   "source": [],
   "metadata": {
    "collapsed": false
   }
  }
 ],
 "metadata": {
  "kernelspec": {
   "display_name": "Python 3",
   "language": "python",
   "name": "python3"
  },
  "language_info": {
   "codemirror_mode": {
    "name": "ipython",
    "version": 2
   },
   "file_extension": ".py",
   "mimetype": "text/x-python",
   "name": "python",
   "nbconvert_exporter": "python",
   "pygments_lexer": "ipython2",
   "version": "2.7.6"
  }
 },
 "nbformat": 4,
 "nbformat_minor": 0
}
