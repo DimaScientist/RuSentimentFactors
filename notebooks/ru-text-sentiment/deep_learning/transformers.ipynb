{
 "cells": [
  {
   "cell_type": "markdown",
   "source": [
    "# BERT text sentiment model"
   ],
   "metadata": {
    "collapsed": false
   }
  },
  {
   "cell_type": "code",
   "execution_count": null,
   "outputs": [],
   "source": [
    "import pandas as pd\n",
    "import numpy as np\n",
    "\n",
    "from tqdm import tqdm\n",
    "\n",
    "import time\n",
    "\n",
    "import torch\n",
    "from torch import optim\n",
    "from torch.nn import functional as F\n",
    "from torch.utils.data import (\n",
    "    DataLoader,\n",
    "    RandomSampler,\n",
    "    TensorDataset,\n",
    "    SequentialSampler,\n",
    ")\n",
    "\n",
    "from sklearn.model_selection import train_test_split\n",
    "from sklearn.metrics import (\n",
    "    f1_score,\n",
    "    confusion_matrix,\n",
    "    classification_report,\n",
    "    ConfusionMatrixDisplay,\n",
    ")\n",
    "from sklearn.preprocessing import LabelEncoder\n",
    "from transformers import (\n",
    "    BertTokenizer,\n",
    "    BertForSequenceClassification,\n",
    "    get_linear_schedule_with_warmup,\n",
    ")\n",
    "import random\n",
    "\n",
    "from typing import Any, Dict, Tuple\n",
    "\n",
    "import matplotlib.pyplot as plt\n",
    "from torchview import draw_graph\n",
    "\n",
    "\n",
    "BERT_MODEL = \"DeepPavlov/rubert-base-cased\"\n",
    "MAX_SEQ_LENGTH = 128\n",
    "BATCH_SIZE = 32\n",
    "DATASET_PATH = \"../data/lemmatize_labeled_rusentiment_text_mystem.csv\"\n",
    "N_SAMPLES = 100000\n",
    "NUM_CLASSES = 3\n",
    "BERT_OUTPUT = 32\n",
    "\n",
    "random.seed(42)\n",
    "np.random.seed(42)\n",
    "torch.manual_seed(42)\n",
    "torch.cuda.manual_seed_all(42)"
   ],
   "metadata": {
    "collapsed": false
   }
  },
  {
   "cell_type": "code",
   "execution_count": 4,
   "outputs": [
    {
     "name": "stdout",
     "output_type": "stream",
     "text": [
      "Доступные GPU устройства: 1\n",
      "Используемое GPU устройство: NVIDIA GeForce RTX 3070 Ti\n",
      "|===========================================================================|\n",
      "|                  PyTorch CUDA memory summary, device ID 0                 |\n",
      "|---------------------------------------------------------------------------|\n",
      "|            CUDA OOMs: 0            |        cudaMalloc retries: 0         |\n",
      "|===========================================================================|\n",
      "|        Metric         | Cur Usage  | Peak Usage | Tot Alloc  | Tot Freed  |\n",
      "|---------------------------------------------------------------------------|\n",
      "| Allocated memory      |       0 B  |       0 B  |       0 B  |       0 B  |\n",
      "|       from large pool |       0 B  |       0 B  |       0 B  |       0 B  |\n",
      "|       from small pool |       0 B  |       0 B  |       0 B  |       0 B  |\n",
      "|---------------------------------------------------------------------------|\n",
      "| Active memory         |       0 B  |       0 B  |       0 B  |       0 B  |\n",
      "|       from large pool |       0 B  |       0 B  |       0 B  |       0 B  |\n",
      "|       from small pool |       0 B  |       0 B  |       0 B  |       0 B  |\n",
      "|---------------------------------------------------------------------------|\n",
      "| GPU reserved memory   |       0 B  |       0 B  |       0 B  |       0 B  |\n",
      "|       from large pool |       0 B  |       0 B  |       0 B  |       0 B  |\n",
      "|       from small pool |       0 B  |       0 B  |       0 B  |       0 B  |\n",
      "|---------------------------------------------------------------------------|\n",
      "| Non-releasable memory |       0 B  |       0 B  |       0 B  |       0 B  |\n",
      "|       from large pool |       0 B  |       0 B  |       0 B  |       0 B  |\n",
      "|       from small pool |       0 B  |       0 B  |       0 B  |       0 B  |\n",
      "|---------------------------------------------------------------------------|\n",
      "| Allocations           |       0    |       0    |       0    |       0    |\n",
      "|       from large pool |       0    |       0    |       0    |       0    |\n",
      "|       from small pool |       0    |       0    |       0    |       0    |\n",
      "|---------------------------------------------------------------------------|\n",
      "| Active allocs         |       0    |       0    |       0    |       0    |\n",
      "|       from large pool |       0    |       0    |       0    |       0    |\n",
      "|       from small pool |       0    |       0    |       0    |       0    |\n",
      "|---------------------------------------------------------------------------|\n",
      "| GPU reserved segments |       0    |       0    |       0    |       0    |\n",
      "|       from large pool |       0    |       0    |       0    |       0    |\n",
      "|       from small pool |       0    |       0    |       0    |       0    |\n",
      "|---------------------------------------------------------------------------|\n",
      "| Non-releasable allocs |       0    |       0    |       0    |       0    |\n",
      "|       from large pool |       0    |       0    |       0    |       0    |\n",
      "|       from small pool |       0    |       0    |       0    |       0    |\n",
      "|---------------------------------------------------------------------------|\n",
      "| Oversize allocations  |       0    |       0    |       0    |       0    |\n",
      "|---------------------------------------------------------------------------|\n",
      "| Oversize GPU segments |       0    |       0    |       0    |       0    |\n",
      "|===========================================================================|\n",
      "\n"
     ]
    }
   ],
   "source": [
    "if torch.cuda.is_available():\n",
    "    device = torch.device(\"cuda\")\n",
    "    print(f\"Доступные GPU устройства: {torch.cuda.device_count()}\")\n",
    "    print(f\"Используемое GPU устройство: {torch.cuda.get_device_name()}\")\n",
    "    print(torch.cuda.memory_summary())\n",
    "else:\n",
    "    print(\"Доступных GPU нет\")\n",
    "    device = torch.device(\"cpu\")"
   ],
   "metadata": {
    "collapsed": false,
    "ExecuteTime": {
     "start_time": "2023-04-09T19:02:43.087952Z",
     "end_time": "2023-04-09T19:02:43.109730Z"
    }
   }
  },
  {
   "cell_type": "code",
   "execution_count": 5,
   "outputs": [],
   "source": [
    "torch.cuda.empty_cache()"
   ],
   "metadata": {
    "collapsed": false,
    "ExecuteTime": {
     "start_time": "2023-04-09T19:02:43.536147Z",
     "end_time": "2023-04-09T19:02:43.562789Z"
    }
   }
  },
  {
   "cell_type": "code",
   "execution_count": 6,
   "outputs": [],
   "source": [
    "bert_tokenizer = BertTokenizer.from_pretrained(BERT_MODEL)"
   ],
   "metadata": {
    "collapsed": false,
    "ExecuteTime": {
     "start_time": "2023-04-09T19:02:44.080252Z",
     "end_time": "2023-04-09T19:02:44.686966Z"
    }
   }
  },
  {
   "cell_type": "code",
   "execution_count": 7,
   "outputs": [],
   "source": [
    "def transform_sentences(sentences: list) -> tuple:\n",
    "    input_ids = []\n",
    "    attention_masks = []\n",
    "    for sentence in tqdm(sentences):\n",
    "        encoded_dict = bert_tokenizer.encode_plus(\n",
    "            sentence,\n",
    "            add_special_tokens=True,\n",
    "            truncation=True,\n",
    "            max_length=MAX_SEQ_LENGTH,\n",
    "            pad_to_max_length=True,\n",
    "            return_attention_mask=True,\n",
    "            return_tensors=\"pt\"\n",
    "        )\n",
    "        input_ids.append(encoded_dict[\"input_ids\"])\n",
    "        attention_masks.append(encoded_dict[\"attention_mask\"])\n",
    "    return torch.cat(input_ids, dim=0), torch.cat(attention_masks, dim=0)"
   ],
   "metadata": {
    "collapsed": false,
    "ExecuteTime": {
     "start_time": "2023-04-09T19:02:44.683967Z",
     "end_time": "2023-04-09T19:02:44.697969Z"
    }
   }
  },
  {
   "cell_type": "code",
   "execution_count": 8,
   "outputs": [
    {
     "data": {
      "text/plain": "                                                text sentiment\n0  украина это часть русь искусственно отделять к...  negative\n1  говорить относительно небольшой коррупция обра...  negative\n2  свой поляк сделать русский понятно литовский п...   neutral\n3  фильм зритель любить диковинный соседка пятый ...   neutral\n4  государство платить посмотреть денежный поток ...  negative",
      "text/html": "<div>\n<style scoped>\n    .dataframe tbody tr th:only-of-type {\n        vertical-align: middle;\n    }\n\n    .dataframe tbody tr th {\n        vertical-align: top;\n    }\n\n    .dataframe thead th {\n        text-align: right;\n    }\n</style>\n<table border=\"1\" class=\"dataframe\">\n  <thead>\n    <tr style=\"text-align: right;\">\n      <th></th>\n      <th>text</th>\n      <th>sentiment</th>\n    </tr>\n  </thead>\n  <tbody>\n    <tr>\n      <th>0</th>\n      <td>украина это часть русь искусственно отделять к...</td>\n      <td>negative</td>\n    </tr>\n    <tr>\n      <th>1</th>\n      <td>говорить относительно небольшой коррупция обра...</td>\n      <td>negative</td>\n    </tr>\n    <tr>\n      <th>2</th>\n      <td>свой поляк сделать русский понятно литовский п...</td>\n      <td>neutral</td>\n    </tr>\n    <tr>\n      <th>3</th>\n      <td>фильм зритель любить диковинный соседка пятый ...</td>\n      <td>neutral</td>\n    </tr>\n    <tr>\n      <th>4</th>\n      <td>государство платить посмотреть денежный поток ...</td>\n      <td>negative</td>\n    </tr>\n  </tbody>\n</table>\n</div>"
     },
     "execution_count": 8,
     "metadata": {},
     "output_type": "execute_result"
    }
   ],
   "source": [
    "data = pd.read_csv(DATASET_PATH)\n",
    "data.head()"
   ],
   "metadata": {
    "collapsed": false,
    "ExecuteTime": {
     "start_time": "2023-04-09T19:02:45.063755Z",
     "end_time": "2023-04-09T19:02:47.716526Z"
    }
   }
  },
  {
   "cell_type": "code",
   "execution_count": 9,
   "outputs": [],
   "source": [
    "data = data.drop_duplicates(subset=[\"text\"])"
   ],
   "metadata": {
    "collapsed": false,
    "ExecuteTime": {
     "start_time": "2023-04-09T19:02:47.717528Z",
     "end_time": "2023-04-09T19:02:47.891718Z"
    }
   }
  },
  {
   "cell_type": "code",
   "execution_count": 10,
   "outputs": [
    {
     "data": {
      "text/plain": "text         1\nsentiment    0\ndtype: int64"
     },
     "execution_count": 10,
     "metadata": {},
     "output_type": "execute_result"
    }
   ],
   "source": [
    "data.isnull().sum()"
   ],
   "metadata": {
    "collapsed": false,
    "ExecuteTime": {
     "start_time": "2023-04-09T19:02:47.892718Z",
     "end_time": "2023-04-09T19:02:48.002718Z"
    }
   }
  },
  {
   "cell_type": "code",
   "execution_count": 11,
   "outputs": [],
   "source": [
    "data = data.dropna(subset=[\"text\"]).sample(frac=1).reset_index(drop=True)"
   ],
   "metadata": {
    "collapsed": false,
    "ExecuteTime": {
     "start_time": "2023-04-09T19:02:48.003719Z",
     "end_time": "2023-04-09T19:02:48.161304Z"
    }
   }
  },
  {
   "cell_type": "code",
   "execution_count": 12,
   "outputs": [
    {
     "data": {
      "text/plain": "LabelEncoder()",
      "text/html": "<style>#sk-container-id-1 {color: black;background-color: white;}#sk-container-id-1 pre{padding: 0;}#sk-container-id-1 div.sk-toggleable {background-color: white;}#sk-container-id-1 label.sk-toggleable__label {cursor: pointer;display: block;width: 100%;margin-bottom: 0;padding: 0.3em;box-sizing: border-box;text-align: center;}#sk-container-id-1 label.sk-toggleable__label-arrow:before {content: \"▸\";float: left;margin-right: 0.25em;color: #696969;}#sk-container-id-1 label.sk-toggleable__label-arrow:hover:before {color: black;}#sk-container-id-1 div.sk-estimator:hover label.sk-toggleable__label-arrow:before {color: black;}#sk-container-id-1 div.sk-toggleable__content {max-height: 0;max-width: 0;overflow: hidden;text-align: left;background-color: #f0f8ff;}#sk-container-id-1 div.sk-toggleable__content pre {margin: 0.2em;color: black;border-radius: 0.25em;background-color: #f0f8ff;}#sk-container-id-1 input.sk-toggleable__control:checked~div.sk-toggleable__content {max-height: 200px;max-width: 100%;overflow: auto;}#sk-container-id-1 input.sk-toggleable__control:checked~label.sk-toggleable__label-arrow:before {content: \"▾\";}#sk-container-id-1 div.sk-estimator input.sk-toggleable__control:checked~label.sk-toggleable__label {background-color: #d4ebff;}#sk-container-id-1 div.sk-label input.sk-toggleable__control:checked~label.sk-toggleable__label {background-color: #d4ebff;}#sk-container-id-1 input.sk-hidden--visually {border: 0;clip: rect(1px 1px 1px 1px);clip: rect(1px, 1px, 1px, 1px);height: 1px;margin: -1px;overflow: hidden;padding: 0;position: absolute;width: 1px;}#sk-container-id-1 div.sk-estimator {font-family: monospace;background-color: #f0f8ff;border: 1px dotted black;border-radius: 0.25em;box-sizing: border-box;margin-bottom: 0.5em;}#sk-container-id-1 div.sk-estimator:hover {background-color: #d4ebff;}#sk-container-id-1 div.sk-parallel-item::after {content: \"\";width: 100%;border-bottom: 1px solid gray;flex-grow: 1;}#sk-container-id-1 div.sk-label:hover label.sk-toggleable__label {background-color: #d4ebff;}#sk-container-id-1 div.sk-serial::before {content: \"\";position: absolute;border-left: 1px solid gray;box-sizing: border-box;top: 0;bottom: 0;left: 50%;z-index: 0;}#sk-container-id-1 div.sk-serial {display: flex;flex-direction: column;align-items: center;background-color: white;padding-right: 0.2em;padding-left: 0.2em;position: relative;}#sk-container-id-1 div.sk-item {position: relative;z-index: 1;}#sk-container-id-1 div.sk-parallel {display: flex;align-items: stretch;justify-content: center;background-color: white;position: relative;}#sk-container-id-1 div.sk-item::before, #sk-container-id-1 div.sk-parallel-item::before {content: \"\";position: absolute;border-left: 1px solid gray;box-sizing: border-box;top: 0;bottom: 0;left: 50%;z-index: -1;}#sk-container-id-1 div.sk-parallel-item {display: flex;flex-direction: column;z-index: 1;position: relative;background-color: white;}#sk-container-id-1 div.sk-parallel-item:first-child::after {align-self: flex-end;width: 50%;}#sk-container-id-1 div.sk-parallel-item:last-child::after {align-self: flex-start;width: 50%;}#sk-container-id-1 div.sk-parallel-item:only-child::after {width: 0;}#sk-container-id-1 div.sk-dashed-wrapped {border: 1px dashed gray;margin: 0 0.4em 0.5em 0.4em;box-sizing: border-box;padding-bottom: 0.4em;background-color: white;}#sk-container-id-1 div.sk-label label {font-family: monospace;font-weight: bold;display: inline-block;line-height: 1.2em;}#sk-container-id-1 div.sk-label-container {text-align: center;}#sk-container-id-1 div.sk-container {/* jupyter's `normalize.less` sets `[hidden] { display: none; }` but bootstrap.min.css set `[hidden] { display: none !important; }` so we also need the `!important` here to be able to override the default hidden behavior on the sphinx rendered scikit-learn.org. See: https://github.com/scikit-learn/scikit-learn/issues/21755 */display: inline-block !important;position: relative;}#sk-container-id-1 div.sk-text-repr-fallback {display: none;}</style><div id=\"sk-container-id-1\" class=\"sk-top-container\"><div class=\"sk-text-repr-fallback\"><pre>LabelEncoder()</pre><b>In a Jupyter environment, please rerun this cell to show the HTML representation or trust the notebook. <br />On GitHub, the HTML representation is unable to render, please try loading this page with nbviewer.org.</b></div><div class=\"sk-container\" hidden><div class=\"sk-item\"><div class=\"sk-estimator sk-toggleable\"><input class=\"sk-toggleable__control sk-hidden--visually\" id=\"sk-estimator-id-1\" type=\"checkbox\" checked><label for=\"sk-estimator-id-1\" class=\"sk-toggleable__label sk-toggleable__label-arrow\">LabelEncoder</label><div class=\"sk-toggleable__content\"><pre>LabelEncoder()</pre></div></div></div></div></div>"
     },
     "execution_count": 12,
     "metadata": {},
     "output_type": "execute_result"
    }
   ],
   "source": [
    "label_encoder = LabelEncoder()\n",
    "label_encoder.fit(data[\"sentiment\"])"
   ],
   "metadata": {
    "collapsed": false,
    "ExecuteTime": {
     "start_time": "2023-04-09T19:02:48.161304Z",
     "end_time": "2023-04-09T19:02:48.178303Z"
    }
   }
  },
  {
   "cell_type": "code",
   "execution_count": 13,
   "outputs": [
    {
     "data": {
      "text/plain": "array(['negative', 'neutral', 'positive'], dtype=object)"
     },
     "execution_count": 13,
     "metadata": {},
     "output_type": "execute_result"
    }
   ],
   "source": [
    "label_encoder.classes_"
   ],
   "metadata": {
    "collapsed": false,
    "ExecuteTime": {
     "start_time": "2023-04-09T19:02:48.176303Z",
     "end_time": "2023-04-09T19:02:48.215902Z"
    }
   }
  },
  {
   "cell_type": "code",
   "execution_count": 14,
   "outputs": [],
   "source": [
    "data[\"sentiment\"] = label_encoder.transform(data[\"sentiment\"])"
   ],
   "metadata": {
    "collapsed": false,
    "ExecuteTime": {
     "start_time": "2023-04-09T19:02:48.193903Z",
     "end_time": "2023-04-09T19:02:48.313513Z"
    }
   }
  },
  {
   "cell_type": "code",
   "execution_count": 15,
   "outputs": [
    {
     "data": {
      "text/plain": "2    168410\n0    147945\n1     25893\nName: sentiment, dtype: int64"
     },
     "execution_count": 15,
     "metadata": {},
     "output_type": "execute_result"
    }
   ],
   "source": [
    "data[\"sentiment\"].value_counts()"
   ],
   "metadata": {
    "collapsed": false,
    "ExecuteTime": {
     "start_time": "2023-04-09T19:02:48.303513Z",
     "end_time": "2023-04-09T19:02:48.334513Z"
    }
   }
  },
  {
   "cell_type": "code",
   "execution_count": 16,
   "outputs": [
    {
     "data": {
      "text/plain": "                                                text  sentiment\n0                           склоняться присед блеать          2\n1             снаступающимтвиттерский единорог новый          0\n2                     шикарный пижама доходить месяц          2\n3  хотеть сделать снеговик везти снег лепиться за...          2\n4  футболка понравиться сожаление оказываться мал...          2",
      "text/html": "<div>\n<style scoped>\n    .dataframe tbody tr th:only-of-type {\n        vertical-align: middle;\n    }\n\n    .dataframe tbody tr th {\n        vertical-align: top;\n    }\n\n    .dataframe thead th {\n        text-align: right;\n    }\n</style>\n<table border=\"1\" class=\"dataframe\">\n  <thead>\n    <tr style=\"text-align: right;\">\n      <th></th>\n      <th>text</th>\n      <th>sentiment</th>\n    </tr>\n  </thead>\n  <tbody>\n    <tr>\n      <th>0</th>\n      <td>склоняться присед блеать</td>\n      <td>2</td>\n    </tr>\n    <tr>\n      <th>1</th>\n      <td>снаступающимтвиттерский единорог новый</td>\n      <td>0</td>\n    </tr>\n    <tr>\n      <th>2</th>\n      <td>шикарный пижама доходить месяц</td>\n      <td>2</td>\n    </tr>\n    <tr>\n      <th>3</th>\n      <td>хотеть сделать снеговик везти снег лепиться за...</td>\n      <td>2</td>\n    </tr>\n    <tr>\n      <th>4</th>\n      <td>футболка понравиться сожаление оказываться мал...</td>\n      <td>2</td>\n    </tr>\n  </tbody>\n</table>\n</div>"
     },
     "execution_count": 16,
     "metadata": {},
     "output_type": "execute_result"
    }
   ],
   "source": [
    "data.head()"
   ],
   "metadata": {
    "collapsed": false,
    "ExecuteTime": {
     "start_time": "2023-04-09T19:02:48.856669Z",
     "end_time": "2023-04-09T19:02:48.868665Z"
    }
   }
  },
  {
   "cell_type": "code",
   "execution_count": 17,
   "outputs": [],
   "source": [
    "if N_SAMPLES:\n",
    "    data = data.sample(N_SAMPLES)"
   ],
   "metadata": {
    "collapsed": false,
    "ExecuteTime": {
     "start_time": "2023-04-09T19:02:49.605118Z",
     "end_time": "2023-04-09T19:02:49.654814Z"
    }
   }
  },
  {
   "cell_type": "code",
   "execution_count": 18,
   "outputs": [],
   "source": [
    "train_df, test_df = train_test_split(data, test_size=0.2)\n",
    "train_df, valid_df = train_test_split(train_df, test_size=0.2)"
   ],
   "metadata": {
    "collapsed": false,
    "ExecuteTime": {
     "start_time": "2023-04-09T19:02:50.097787Z",
     "end_time": "2023-04-09T19:02:50.142855Z"
    }
   }
  },
  {
   "cell_type": "code",
   "execution_count": 19,
   "outputs": [
    {
     "name": "stderr",
     "output_type": "stream",
     "text": [
      "  0%|          | 0/64000 [00:00<?, ?it/s]C:\\Users\\Dmitry\\anaconda3\\envs\\vkr\\lib\\site-packages\\transformers\\tokenization_utils_base.py:2339: FutureWarning: The `pad_to_max_length` argument is deprecated and will be removed in a future version, use `padding=True` or `padding='longest'` to pad to the longest sequence in the batch, or use `padding='max_length'` to pad to a max length. In this case, you can give a specific length with `max_length` (e.g. `max_length=45`) or leave max_length to None to pad to the maximal input size of the model (e.g. 512 for Bert).\n",
      "  warnings.warn(\n",
      "100%|██████████| 64000/64000 [01:09<00:00, 927.20it/s] \n"
     ]
    }
   ],
   "source": [
    "train_input_ids, train_attention_masks = transform_sentences(train_df[\"text\"].to_list())\n",
    "train_labels = F.one_hot(torch.tensor(train_df[\"sentiment\"].to_list()).to(torch.int64)).to(torch.float64)"
   ],
   "metadata": {
    "collapsed": false,
    "ExecuteTime": {
     "start_time": "2023-04-09T19:02:50.600893Z",
     "end_time": "2023-04-09T19:03:59.942118Z"
    }
   }
  },
  {
   "cell_type": "code",
   "execution_count": 20,
   "outputs": [
    {
     "name": "stderr",
     "output_type": "stream",
     "text": [
      "100%|██████████| 16000/16000 [00:16<00:00, 961.70it/s] \n"
     ]
    }
   ],
   "source": [
    "valid_input_ids, valid_attention_masks = transform_sentences(valid_df[\"text\"].to_list())\n",
    "valid_labels = F.one_hot(torch.tensor(valid_df[\"sentiment\"].to_list()).to(torch.int64)).to(torch.float64)"
   ],
   "metadata": {
    "collapsed": false,
    "ExecuteTime": {
     "start_time": "2023-04-09T19:03:59.946121Z",
     "end_time": "2023-04-09T19:04:16.667366Z"
    }
   }
  },
  {
   "cell_type": "code",
   "execution_count": 21,
   "outputs": [
    {
     "name": "stderr",
     "output_type": "stream",
     "text": [
      "100%|██████████| 20000/20000 [00:20<00:00, 980.74it/s] \n"
     ]
    }
   ],
   "source": [
    "test_input_ids, test_attention_masks = transform_sentences(test_df[\"text\"].to_list())\n",
    "test_labels = F.one_hot(torch.tensor(test_df[\"sentiment\"].to_list()).to(torch.int64)).to(torch.float64)"
   ],
   "metadata": {
    "collapsed": false,
    "ExecuteTime": {
     "start_time": "2023-04-09T19:04:16.664367Z",
     "end_time": "2023-04-09T19:04:37.156181Z"
    }
   }
  },
  {
   "cell_type": "code",
   "execution_count": 22,
   "outputs": [],
   "source": [
    "train_dataset = TensorDataset(train_input_ids, train_attention_masks, train_labels)\n",
    "valid_dataset = TensorDataset(valid_input_ids, valid_attention_masks, valid_labels)\n",
    "test_dataset = TensorDataset(test_input_ids, test_attention_masks, test_labels)"
   ],
   "metadata": {
    "collapsed": false,
    "ExecuteTime": {
     "start_time": "2023-04-09T19:04:37.156181Z",
     "end_time": "2023-04-09T19:04:37.169181Z"
    }
   }
  },
  {
   "cell_type": "code",
   "execution_count": 23,
   "outputs": [],
   "source": [
    "train_dataloader = DataLoader(\n",
    "    train_dataset,\n",
    "    batch_size=BATCH_SIZE,\n",
    "    sampler=RandomSampler(train_dataset),\n",
    ")\n",
    "valid_dataloader = DataLoader(\n",
    "    valid_dataset,\n",
    "    batch_size=BATCH_SIZE,\n",
    "    sampler=SequentialSampler(valid_dataset),\n",
    ")\n",
    "test_dataloader = DataLoader(test_dataset)"
   ],
   "metadata": {
    "collapsed": false,
    "ExecuteTime": {
     "start_time": "2023-04-09T19:04:37.171180Z",
     "end_time": "2023-04-09T19:04:37.190180Z"
    }
   }
  },
  {
   "cell_type": "code",
   "execution_count": 24,
   "outputs": [],
   "source": [
    "def f1_weighted_score(preds: torch.Tensor, labels: torch.Tensor):\n",
    "    pred_numpy = preds.cpu().detach().numpy()\n",
    "    labels_numpy = labels.cpu().detach().numpy()\n",
    "    pred_flatten = np.argmax(pred_numpy, axis=1).flatten()\n",
    "    labels_flatten = np.argmax(labels_numpy, axis=1).flatten()\n",
    "    return f1_score(labels_flatten.astype(np.int32), pred_flatten.astype(np.int32), average=\"weighted\")"
   ],
   "metadata": {
    "collapsed": false,
    "ExecuteTime": {
     "start_time": "2023-04-09T19:04:37.188178Z",
     "end_time": "2023-04-09T19:04:37.201180Z"
    }
   }
  },
  {
   "cell_type": "code",
   "execution_count": 25,
   "outputs": [
    {
     "name": "stderr",
     "output_type": "stream",
     "text": [
      "Some weights of the model checkpoint at DeepPavlov/rubert-base-cased were not used when initializing BertForSequenceClassification: ['cls.predictions.decoder.weight', 'cls.predictions.transform.LayerNorm.bias', 'cls.seq_relationship.bias', 'cls.predictions.transform.dense.bias', 'cls.predictions.transform.LayerNorm.weight', 'cls.predictions.decoder.bias', 'cls.seq_relationship.weight', 'cls.predictions.bias', 'cls.predictions.transform.dense.weight']\n",
      "- This IS expected if you are initializing BertForSequenceClassification from the checkpoint of a model trained on another task or with another architecture (e.g. initializing a BertForSequenceClassification model from a BertForPreTraining model).\n",
      "- This IS NOT expected if you are initializing BertForSequenceClassification from the checkpoint of a model that you expect to be exactly identical (initializing a BertForSequenceClassification model from a BertForSequenceClassification model).\n",
      "Some weights of BertForSequenceClassification were not initialized from the model checkpoint at DeepPavlov/rubert-base-cased and are newly initialized: ['classifier.weight', 'classifier.bias']\n",
      "You should probably TRAIN this model on a down-stream task to be able to use it for predictions and inference.\n"
     ]
    }
   ],
   "source": [
    "bert_model = BertForSequenceClassification.from_pretrained(\n",
    "    BERT_MODEL,\n",
    "    num_labels=BERT_OUTPUT,\n",
    "    output_attentions=False,\n",
    "    output_hidden_states=False,\n",
    ")"
   ],
   "metadata": {
    "collapsed": false,
    "ExecuteTime": {
     "start_time": "2023-04-09T19:04:37.203181Z",
     "end_time": "2023-04-09T19:04:39.539647Z"
    }
   }
  },
  {
   "cell_type": "code",
   "execution_count": 26,
   "outputs": [],
   "source": [
    "class TextSentimentModel(torch.nn.Module):\n",
    "\n",
    "    def __init__(self, num_classes: int, language_model, language_model_dim: int):\n",
    "        super().__init__()\n",
    "        self.language_model = language_model\n",
    "        self.classifier = torch.nn.Linear(\n",
    "            in_features=language_model_dim,\n",
    "            out_features=num_classes,\n",
    "        )\n",
    "        self.softmax = torch.nn.Softmax(dim=1)\n",
    "\n",
    "    def forward(self, input_ids: torch.Tensor, attention_mask: torch.Tensor):\n",
    "        language_output = self.language_model(\n",
    "            input_ids,\n",
    "            token_type_ids=None,\n",
    "            attention_mask=attention_mask,\n",
    "        ).logits\n",
    "        logits = self.softmax(self.classifier(language_output))\n",
    "        return logits"
   ],
   "metadata": {
    "collapsed": false,
    "ExecuteTime": {
     "start_time": "2023-04-09T19:04:39.542647Z",
     "end_time": "2023-04-09T19:04:39.553648Z"
    }
   }
  },
  {
   "cell_type": "code",
   "execution_count": 27,
   "outputs": [
    {
     "data": {
      "text/plain": "TextSentimentModel(\n  (language_model): BertForSequenceClassification(\n    (bert): BertModel(\n      (embeddings): BertEmbeddings(\n        (word_embeddings): Embedding(119547, 768, padding_idx=0)\n        (position_embeddings): Embedding(512, 768)\n        (token_type_embeddings): Embedding(2, 768)\n        (LayerNorm): LayerNorm((768,), eps=1e-12, elementwise_affine=True)\n        (dropout): Dropout(p=0.1, inplace=False)\n      )\n      (encoder): BertEncoder(\n        (layer): ModuleList(\n          (0): BertLayer(\n            (attention): BertAttention(\n              (self): BertSelfAttention(\n                (query): Linear(in_features=768, out_features=768, bias=True)\n                (key): Linear(in_features=768, out_features=768, bias=True)\n                (value): Linear(in_features=768, out_features=768, bias=True)\n                (dropout): Dropout(p=0.1, inplace=False)\n              )\n              (output): BertSelfOutput(\n                (dense): Linear(in_features=768, out_features=768, bias=True)\n                (LayerNorm): LayerNorm((768,), eps=1e-12, elementwise_affine=True)\n                (dropout): Dropout(p=0.1, inplace=False)\n              )\n            )\n            (intermediate): BertIntermediate(\n              (dense): Linear(in_features=768, out_features=3072, bias=True)\n              (intermediate_act_fn): GELUActivation()\n            )\n            (output): BertOutput(\n              (dense): Linear(in_features=3072, out_features=768, bias=True)\n              (LayerNorm): LayerNorm((768,), eps=1e-12, elementwise_affine=True)\n              (dropout): Dropout(p=0.1, inplace=False)\n            )\n          )\n          (1): BertLayer(\n            (attention): BertAttention(\n              (self): BertSelfAttention(\n                (query): Linear(in_features=768, out_features=768, bias=True)\n                (key): Linear(in_features=768, out_features=768, bias=True)\n                (value): Linear(in_features=768, out_features=768, bias=True)\n                (dropout): Dropout(p=0.1, inplace=False)\n              )\n              (output): BertSelfOutput(\n                (dense): Linear(in_features=768, out_features=768, bias=True)\n                (LayerNorm): LayerNorm((768,), eps=1e-12, elementwise_affine=True)\n                (dropout): Dropout(p=0.1, inplace=False)\n              )\n            )\n            (intermediate): BertIntermediate(\n              (dense): Linear(in_features=768, out_features=3072, bias=True)\n              (intermediate_act_fn): GELUActivation()\n            )\n            (output): BertOutput(\n              (dense): Linear(in_features=3072, out_features=768, bias=True)\n              (LayerNorm): LayerNorm((768,), eps=1e-12, elementwise_affine=True)\n              (dropout): Dropout(p=0.1, inplace=False)\n            )\n          )\n          (2): BertLayer(\n            (attention): BertAttention(\n              (self): BertSelfAttention(\n                (query): Linear(in_features=768, out_features=768, bias=True)\n                (key): Linear(in_features=768, out_features=768, bias=True)\n                (value): Linear(in_features=768, out_features=768, bias=True)\n                (dropout): Dropout(p=0.1, inplace=False)\n              )\n              (output): BertSelfOutput(\n                (dense): Linear(in_features=768, out_features=768, bias=True)\n                (LayerNorm): LayerNorm((768,), eps=1e-12, elementwise_affine=True)\n                (dropout): Dropout(p=0.1, inplace=False)\n              )\n            )\n            (intermediate): BertIntermediate(\n              (dense): Linear(in_features=768, out_features=3072, bias=True)\n              (intermediate_act_fn): GELUActivation()\n            )\n            (output): BertOutput(\n              (dense): Linear(in_features=3072, out_features=768, bias=True)\n              (LayerNorm): LayerNorm((768,), eps=1e-12, elementwise_affine=True)\n              (dropout): Dropout(p=0.1, inplace=False)\n            )\n          )\n          (3): BertLayer(\n            (attention): BertAttention(\n              (self): BertSelfAttention(\n                (query): Linear(in_features=768, out_features=768, bias=True)\n                (key): Linear(in_features=768, out_features=768, bias=True)\n                (value): Linear(in_features=768, out_features=768, bias=True)\n                (dropout): Dropout(p=0.1, inplace=False)\n              )\n              (output): BertSelfOutput(\n                (dense): Linear(in_features=768, out_features=768, bias=True)\n                (LayerNorm): LayerNorm((768,), eps=1e-12, elementwise_affine=True)\n                (dropout): Dropout(p=0.1, inplace=False)\n              )\n            )\n            (intermediate): BertIntermediate(\n              (dense): Linear(in_features=768, out_features=3072, bias=True)\n              (intermediate_act_fn): GELUActivation()\n            )\n            (output): BertOutput(\n              (dense): Linear(in_features=3072, out_features=768, bias=True)\n              (LayerNorm): LayerNorm((768,), eps=1e-12, elementwise_affine=True)\n              (dropout): Dropout(p=0.1, inplace=False)\n            )\n          )\n          (4): BertLayer(\n            (attention): BertAttention(\n              (self): BertSelfAttention(\n                (query): Linear(in_features=768, out_features=768, bias=True)\n                (key): Linear(in_features=768, out_features=768, bias=True)\n                (value): Linear(in_features=768, out_features=768, bias=True)\n                (dropout): Dropout(p=0.1, inplace=False)\n              )\n              (output): BertSelfOutput(\n                (dense): Linear(in_features=768, out_features=768, bias=True)\n                (LayerNorm): LayerNorm((768,), eps=1e-12, elementwise_affine=True)\n                (dropout): Dropout(p=0.1, inplace=False)\n              )\n            )\n            (intermediate): BertIntermediate(\n              (dense): Linear(in_features=768, out_features=3072, bias=True)\n              (intermediate_act_fn): GELUActivation()\n            )\n            (output): BertOutput(\n              (dense): Linear(in_features=3072, out_features=768, bias=True)\n              (LayerNorm): LayerNorm((768,), eps=1e-12, elementwise_affine=True)\n              (dropout): Dropout(p=0.1, inplace=False)\n            )\n          )\n          (5): BertLayer(\n            (attention): BertAttention(\n              (self): BertSelfAttention(\n                (query): Linear(in_features=768, out_features=768, bias=True)\n                (key): Linear(in_features=768, out_features=768, bias=True)\n                (value): Linear(in_features=768, out_features=768, bias=True)\n                (dropout): Dropout(p=0.1, inplace=False)\n              )\n              (output): BertSelfOutput(\n                (dense): Linear(in_features=768, out_features=768, bias=True)\n                (LayerNorm): LayerNorm((768,), eps=1e-12, elementwise_affine=True)\n                (dropout): Dropout(p=0.1, inplace=False)\n              )\n            )\n            (intermediate): BertIntermediate(\n              (dense): Linear(in_features=768, out_features=3072, bias=True)\n              (intermediate_act_fn): GELUActivation()\n            )\n            (output): BertOutput(\n              (dense): Linear(in_features=3072, out_features=768, bias=True)\n              (LayerNorm): LayerNorm((768,), eps=1e-12, elementwise_affine=True)\n              (dropout): Dropout(p=0.1, inplace=False)\n            )\n          )\n          (6): BertLayer(\n            (attention): BertAttention(\n              (self): BertSelfAttention(\n                (query): Linear(in_features=768, out_features=768, bias=True)\n                (key): Linear(in_features=768, out_features=768, bias=True)\n                (value): Linear(in_features=768, out_features=768, bias=True)\n                (dropout): Dropout(p=0.1, inplace=False)\n              )\n              (output): BertSelfOutput(\n                (dense): Linear(in_features=768, out_features=768, bias=True)\n                (LayerNorm): LayerNorm((768,), eps=1e-12, elementwise_affine=True)\n                (dropout): Dropout(p=0.1, inplace=False)\n              )\n            )\n            (intermediate): BertIntermediate(\n              (dense): Linear(in_features=768, out_features=3072, bias=True)\n              (intermediate_act_fn): GELUActivation()\n            )\n            (output): BertOutput(\n              (dense): Linear(in_features=3072, out_features=768, bias=True)\n              (LayerNorm): LayerNorm((768,), eps=1e-12, elementwise_affine=True)\n              (dropout): Dropout(p=0.1, inplace=False)\n            )\n          )\n          (7): BertLayer(\n            (attention): BertAttention(\n              (self): BertSelfAttention(\n                (query): Linear(in_features=768, out_features=768, bias=True)\n                (key): Linear(in_features=768, out_features=768, bias=True)\n                (value): Linear(in_features=768, out_features=768, bias=True)\n                (dropout): Dropout(p=0.1, inplace=False)\n              )\n              (output): BertSelfOutput(\n                (dense): Linear(in_features=768, out_features=768, bias=True)\n                (LayerNorm): LayerNorm((768,), eps=1e-12, elementwise_affine=True)\n                (dropout): Dropout(p=0.1, inplace=False)\n              )\n            )\n            (intermediate): BertIntermediate(\n              (dense): Linear(in_features=768, out_features=3072, bias=True)\n              (intermediate_act_fn): GELUActivation()\n            )\n            (output): BertOutput(\n              (dense): Linear(in_features=3072, out_features=768, bias=True)\n              (LayerNorm): LayerNorm((768,), eps=1e-12, elementwise_affine=True)\n              (dropout): Dropout(p=0.1, inplace=False)\n            )\n          )\n          (8): BertLayer(\n            (attention): BertAttention(\n              (self): BertSelfAttention(\n                (query): Linear(in_features=768, out_features=768, bias=True)\n                (key): Linear(in_features=768, out_features=768, bias=True)\n                (value): Linear(in_features=768, out_features=768, bias=True)\n                (dropout): Dropout(p=0.1, inplace=False)\n              )\n              (output): BertSelfOutput(\n                (dense): Linear(in_features=768, out_features=768, bias=True)\n                (LayerNorm): LayerNorm((768,), eps=1e-12, elementwise_affine=True)\n                (dropout): Dropout(p=0.1, inplace=False)\n              )\n            )\n            (intermediate): BertIntermediate(\n              (dense): Linear(in_features=768, out_features=3072, bias=True)\n              (intermediate_act_fn): GELUActivation()\n            )\n            (output): BertOutput(\n              (dense): Linear(in_features=3072, out_features=768, bias=True)\n              (LayerNorm): LayerNorm((768,), eps=1e-12, elementwise_affine=True)\n              (dropout): Dropout(p=0.1, inplace=False)\n            )\n          )\n          (9): BertLayer(\n            (attention): BertAttention(\n              (self): BertSelfAttention(\n                (query): Linear(in_features=768, out_features=768, bias=True)\n                (key): Linear(in_features=768, out_features=768, bias=True)\n                (value): Linear(in_features=768, out_features=768, bias=True)\n                (dropout): Dropout(p=0.1, inplace=False)\n              )\n              (output): BertSelfOutput(\n                (dense): Linear(in_features=768, out_features=768, bias=True)\n                (LayerNorm): LayerNorm((768,), eps=1e-12, elementwise_affine=True)\n                (dropout): Dropout(p=0.1, inplace=False)\n              )\n            )\n            (intermediate): BertIntermediate(\n              (dense): Linear(in_features=768, out_features=3072, bias=True)\n              (intermediate_act_fn): GELUActivation()\n            )\n            (output): BertOutput(\n              (dense): Linear(in_features=3072, out_features=768, bias=True)\n              (LayerNorm): LayerNorm((768,), eps=1e-12, elementwise_affine=True)\n              (dropout): Dropout(p=0.1, inplace=False)\n            )\n          )\n          (10): BertLayer(\n            (attention): BertAttention(\n              (self): BertSelfAttention(\n                (query): Linear(in_features=768, out_features=768, bias=True)\n                (key): Linear(in_features=768, out_features=768, bias=True)\n                (value): Linear(in_features=768, out_features=768, bias=True)\n                (dropout): Dropout(p=0.1, inplace=False)\n              )\n              (output): BertSelfOutput(\n                (dense): Linear(in_features=768, out_features=768, bias=True)\n                (LayerNorm): LayerNorm((768,), eps=1e-12, elementwise_affine=True)\n                (dropout): Dropout(p=0.1, inplace=False)\n              )\n            )\n            (intermediate): BertIntermediate(\n              (dense): Linear(in_features=768, out_features=3072, bias=True)\n              (intermediate_act_fn): GELUActivation()\n            )\n            (output): BertOutput(\n              (dense): Linear(in_features=3072, out_features=768, bias=True)\n              (LayerNorm): LayerNorm((768,), eps=1e-12, elementwise_affine=True)\n              (dropout): Dropout(p=0.1, inplace=False)\n            )\n          )\n          (11): BertLayer(\n            (attention): BertAttention(\n              (self): BertSelfAttention(\n                (query): Linear(in_features=768, out_features=768, bias=True)\n                (key): Linear(in_features=768, out_features=768, bias=True)\n                (value): Linear(in_features=768, out_features=768, bias=True)\n                (dropout): Dropout(p=0.1, inplace=False)\n              )\n              (output): BertSelfOutput(\n                (dense): Linear(in_features=768, out_features=768, bias=True)\n                (LayerNorm): LayerNorm((768,), eps=1e-12, elementwise_affine=True)\n                (dropout): Dropout(p=0.1, inplace=False)\n              )\n            )\n            (intermediate): BertIntermediate(\n              (dense): Linear(in_features=768, out_features=3072, bias=True)\n              (intermediate_act_fn): GELUActivation()\n            )\n            (output): BertOutput(\n              (dense): Linear(in_features=3072, out_features=768, bias=True)\n              (LayerNorm): LayerNorm((768,), eps=1e-12, elementwise_affine=True)\n              (dropout): Dropout(p=0.1, inplace=False)\n            )\n          )\n        )\n      )\n      (pooler): BertPooler(\n        (dense): Linear(in_features=768, out_features=768, bias=True)\n        (activation): Tanh()\n      )\n    )\n    (dropout): Dropout(p=0.1, inplace=False)\n    (classifier): Linear(in_features=768, out_features=32, bias=True)\n  )\n  (classifier): Linear(in_features=32, out_features=3, bias=True)\n  (softmax): Softmax(dim=1)\n)"
     },
     "execution_count": 27,
     "metadata": {},
     "output_type": "execute_result"
    }
   ],
   "source": [
    "text_sentiment_model = TextSentimentModel(\n",
    "    num_classes=NUM_CLASSES,\n",
    "    language_model=bert_model,\n",
    "    language_model_dim=BERT_OUTPUT,\n",
    ")\n",
    "text_sentiment_model.to(device)"
   ],
   "metadata": {
    "collapsed": false,
    "ExecuteTime": {
     "start_time": "2023-04-09T19:04:39.556649Z",
     "end_time": "2023-04-09T19:04:40.196639Z"
    }
   }
  },
  {
   "cell_type": "code",
   "execution_count": 28,
   "outputs": [],
   "source": [
    "LEARNING_RATE = 2e-6\n",
    "EPS = 1e-8\n",
    "NUM_EPOCHS = 10\n",
    "\n",
    "NUM_WARMUP_STEPS = 0\n",
    "NUM_TRAINING_STEPS = len(train_dataloader) * NUM_EPOCHS\n"
   ],
   "metadata": {
    "collapsed": false,
    "ExecuteTime": {
     "start_time": "2023-04-09T19:04:40.199641Z",
     "end_time": "2023-04-09T19:04:40.220637Z"
    }
   }
  },
  {
   "cell_type": "code",
   "execution_count": 29,
   "outputs": [],
   "source": [
    "optimizer = torch.optim.AdamW(text_sentiment_model.parameters(), lr=LEARNING_RATE, eps=EPS)\n",
    "loss_function = torch.nn.CrossEntropyLoss().to(device)\n",
    "scheduler = get_linear_schedule_with_warmup(\n",
    "    optimizer,\n",
    "    num_warmup_steps=NUM_WARMUP_STEPS,\n",
    "    num_training_steps=NUM_TRAINING_STEPS,\n",
    ")"
   ],
   "metadata": {
    "collapsed": false,
    "ExecuteTime": {
     "start_time": "2023-04-09T19:04:40.214638Z",
     "end_time": "2023-04-09T19:04:40.230640Z"
    }
   }
  },
  {
   "cell_type": "code",
   "execution_count": 30,
   "outputs": [],
   "source": [
    "def plot_history(history: dict) -> None:\n",
    "    train = history.get(\"train\")\n",
    "    valid = history.get(\"valid\")\n",
    "    plt.title(\"Loss\")\n",
    "    plt.plot(train.get(\"loss\"), label=\"train\")\n",
    "    plt.plot(valid.get(\"loss\"), label=\"valid\")\n",
    "    plt.legend()\n",
    "    plt.show()\n",
    "    plt.title(\"Accuracy\")\n",
    "    plt.plot(train.get(\"accuracy\"), label=\"train\")\n",
    "    plt.plot(valid.get(\"accuracy\"), label=\"valid\")\n",
    "    plt.legend()\n",
    "    plt.show()"
   ],
   "metadata": {
    "collapsed": false,
    "ExecuteTime": {
     "start_time": "2023-04-09T19:04:40.232641Z",
     "end_time": "2023-04-09T19:04:40.247094Z"
    }
   }
  },
  {
   "cell_type": "code",
   "execution_count": 31,
   "outputs": [],
   "source": [
    "def train(\n",
    "        model: torch.nn.Module,\n",
    "        dataloader: DataLoader,\n",
    "        optim: optim.Optimizer,\n",
    "        loss_func: torch.nn.Module,\n",
    "        warmup_scheduler=None,\n",
    ") -> Tuple[float, float]:\n",
    "    loss = 0\n",
    "    accuracy = 0\n",
    "    model.train()\n",
    "    for input_ids, attention_mask, sentiment in dataloader:\n",
    "        optim.zero_grad()\n",
    "\n",
    "        input_ids = input_ids.to(device)\n",
    "        attention_mask = attention_mask.to(device)\n",
    "\n",
    "        sentiment = sentiment.to(device)\n",
    "\n",
    "        logits = model(input_ids, attention_mask)\n",
    "\n",
    "        loss_current = loss_func(logits.to(device), sentiment)\n",
    "\n",
    "        accuracy_curr = f1_weighted_score(logits, sentiment)\n",
    "\n",
    "        loss_current.backward()\n",
    "        optim.step()\n",
    "        if warmup_scheduler:\n",
    "            warmup_scheduler.step()\n",
    "\n",
    "        loss += loss_current.item()\n",
    "        accuracy += accuracy_curr.item()\n",
    "    return loss / len(dataloader), accuracy / len(dataloader)"
   ],
   "metadata": {
    "collapsed": false,
    "ExecuteTime": {
     "start_time": "2023-04-09T19:04:40.248099Z",
     "end_time": "2023-04-09T19:04:40.260095Z"
    }
   }
  },
  {
   "cell_type": "code",
   "execution_count": 32,
   "outputs": [],
   "source": [
    "def validate(\n",
    "        model: torch.nn.Module,\n",
    "        dataloader: DataLoader,\n",
    "        loss_func: torch.nn.Module,\n",
    ") -> Tuple[float, float]:\n",
    "    loss = 0\n",
    "    accuracy = 0\n",
    "    model.eval()\n",
    "    with torch.no_grad():\n",
    "        for input_ids, attention_mask, sentiment in dataloader:\n",
    "            input_ids = input_ids.to(device)\n",
    "            attention_mask = attention_mask.to(device)\n",
    "\n",
    "            sentiment = sentiment.to(device)\n",
    "\n",
    "            logits = model(input_ids, attention_mask)\n",
    "\n",
    "            loss_current = loss_func(logits.to(device), sentiment)\n",
    "\n",
    "            accuracy_current = f1_weighted_score(logits, sentiment)\n",
    "\n",
    "            loss += loss_current.item()\n",
    "            accuracy += accuracy_current.item()\n",
    "    return loss / len(dataloader), accuracy / len(dataloader)"
   ],
   "metadata": {
    "collapsed": false,
    "ExecuteTime": {
     "start_time": "2023-04-09T19:04:40.263095Z",
     "end_time": "2023-04-09T19:04:40.279623Z"
    }
   }
  },
  {
   "cell_type": "code",
   "execution_count": 33,
   "outputs": [],
   "source": [
    "def training(\n",
    "        model: torch.nn.Module,\n",
    "        train_data: DataLoader,\n",
    "        validate_data: DataLoader,\n",
    "        optim: optim.Optimizer,\n",
    "        loss_func: torch.nn.Module,\n",
    "        num_epochs: int = 10,\n",
    "        warmup_scheduler=None,\n",
    ") -> Dict[str, Any]:\n",
    "    best_loss = float('inf')\n",
    "    history = {\n",
    "        \"train\": {\n",
    "            \"loss\": [],\n",
    "            \"accuracy\": [],\n",
    "        },\n",
    "        \"valid\": {\n",
    "            \"loss\": [],\n",
    "            \"accuracy\": [],\n",
    "        }\n",
    "    }\n",
    "    for epoch in range(num_epochs):\n",
    "        print(f\"{'=' * 15} Epoch: {epoch + 1} {'=' * 15}\")\n",
    "        time_start = time.time()\n",
    "        train_loss, train_accuracy = train(model, train_data, optim, loss_func, warmup_scheduler)\n",
    "        print(f\"Train: loss={train_loss:.3f}, accuracy={train_accuracy:.3f}\")\n",
    "        validation_loss, validation_accuracy = validate(model, validate_data, loss_func)\n",
    "        print(f\"Validation: loss={validation_loss:.3f}, accuracy={validation_accuracy:.3f}\")\n",
    "        time_end = time.time()\n",
    "        time_delta = time_end - time_start\n",
    "        if validation_loss < best_loss:\n",
    "            best_loss = validation_loss\n",
    "        history[\"train\"][\"accuracy\"].append(train_accuracy)\n",
    "        history[\"train\"][\"loss\"].append(train_loss)\n",
    "        history[\"valid\"][\"accuracy\"].append(validation_accuracy)\n",
    "        history[\"valid\"][\"loss\"].append(validation_loss)\n",
    "        print(f\"Time elapsed: {time_delta:.2f} s\\n{'=' * 40}\")\n",
    "    return history"
   ],
   "metadata": {
    "collapsed": false,
    "ExecuteTime": {
     "start_time": "2023-04-09T19:04:40.281625Z",
     "end_time": "2023-04-09T19:04:40.291624Z"
    }
   }
  },
  {
   "cell_type": "code",
   "execution_count": 35,
   "outputs": [
    {
     "name": "stderr",
     "output_type": "stream",
     "text": [
      "\r\n",
      "(process:13880): Pango-WARNING **: 19:07:24.374: couldn't load font \"Linux libertine Not-Rotated 10\", falling back to \"Sans Not-Rotated 10\", expect ugly output.\r\n",
      "\n",
      "(process:16196): Pango-WARNING **: 19:07:24.951: couldn't load font \"Linux libertine Not-Rotated 10\", falling back to \"Sans Not-Rotated 10\", expect ugly output.\n"
     ]
    },
    {
     "data": {
      "image/svg+xml": "<?xml version=\"1.0\" encoding=\"UTF-8\" standalone=\"no\"?>\n<!DOCTYPE svg PUBLIC \"-//W3C//DTD SVG 1.1//EN\"\n \"http://www.w3.org/Graphics/SVG/1.1/DTD/svg11.dtd\">\n<!-- Generated by graphviz version 2.50.0 (0)\n -->\n<!-- Title: model Pages: 1 -->\n<svg width=\"504pt\" height=\"864pt\"\n viewBox=\"0.00 0.00 504.00 864.00\" xmlns=\"http://www.w3.org/2000/svg\" xmlns:xlink=\"http://www.w3.org/1999/xlink\">\n<g id=\"graph0\" class=\"graph\" transform=\"scale(0.94 0.94) rotate(0) translate(4 914)\">\n<title>model</title>\n<polygon fill=\"white\" stroke=\"transparent\" points=\"-4,4 -4,-914 531.5,-914 531.5,4 -4,4\"/>\n<g id=\"clust1\" class=\"cluster\">\n<title>cluster_2</title>\n<polygon fill=\"none\" stroke=\"black\" stroke-dasharray=\"5,2\" points=\"115.5,-216 115.5,-870 519.5,-870 519.5,-216 115.5,-216\"/>\n<text text-anchor=\"middle\" x=\"197\" y=\"-856.4\" font-family=\"Times New Roman,serif\" font-size=\"12.00\">BertForSequenceClassification</text>\n</g>\n<g id=\"clust2\" class=\"cluster\">\n<title>cluster_3</title>\n<polygon fill=\"none\" stroke=\"black\" stroke-dasharray=\"5,2\" points=\"123.5,-372 123.5,-841 511.5,-841 511.5,-372 123.5,-372\"/>\n<text text-anchor=\"middle\" x=\"157.5\" y=\"-827.4\" font-family=\"Times New Roman,serif\" font-size=\"12.00\">BertModel</text>\n</g>\n<!-- 0 -->\n<g id=\"node1\" class=\"node\">\n<title>0</title>\n<polygon fill=\"lightyellow\" stroke=\"transparent\" points=\"107,-651 0,-651 0,-619 107,-619 107,-651\"/>\n<polygon fill=\"none\" stroke=\"black\" points=\"0.5,-619 0.5,-651 62.5,-651 62.5,-619 0.5,-619\"/>\n<text text-anchor=\"start\" x=\"5.5\" y=\"-638\" font-family=\"Linux libertine\" font-size=\"10.00\">input&#45;tensor</text>\n<text text-anchor=\"start\" x=\"14.5\" y=\"-627\" font-family=\"Linux libertine\" font-size=\"10.00\">depth:0</text>\n<polygon fill=\"none\" stroke=\"black\" points=\"62.5,-619 62.5,-651 107.5,-651 107.5,-619 62.5,-619\"/>\n<text text-anchor=\"start\" x=\"67.5\" y=\"-632.5\" font-family=\"Linux libertine\" font-size=\"10.00\">(1, 128)</text>\n</g>\n<!-- 6 -->\n<g id=\"node7\" class=\"node\">\n<title>6</title>\n<polygon fill=\"#c1ffc1\" stroke=\"transparent\" points=\"325.5,-578 131.5,-578 131.5,-536 325.5,-536 325.5,-578\"/>\n<polygon fill=\"none\" stroke=\"black\" points=\"131.5,-536 131.5,-578 211.5,-578 211.5,-536 131.5,-536\"/>\n<text text-anchor=\"start\" x=\"136.5\" y=\"-560\" font-family=\"Linux libertine\" font-size=\"10.00\">BertEmbeddings</text>\n<text text-anchor=\"start\" x=\"154.5\" y=\"-549\" font-family=\"Linux libertine\" font-size=\"10.00\">depth:3</text>\n<polygon fill=\"none\" stroke=\"black\" points=\"211.5,-557 211.5,-578 255.5,-578 255.5,-557 211.5,-557\"/>\n<text text-anchor=\"start\" x=\"221\" y=\"-565\" font-family=\"Linux libertine\" font-size=\"10.00\">input:</text>\n<polygon fill=\"none\" stroke=\"black\" points=\"255.5,-557 255.5,-578 325.5,-578 325.5,-557 255.5,-557\"/>\n<text text-anchor=\"start\" x=\"271.5\" y=\"-565\" font-family=\"Linux libertine\" font-size=\"10.00\">(1, 128) </text>\n<polygon fill=\"none\" stroke=\"black\" points=\"211.5,-536 211.5,-557 255.5,-557 255.5,-536 211.5,-536\"/>\n<text text-anchor=\"start\" x=\"216.5\" y=\"-544\" font-family=\"Linux libertine\" font-size=\"10.00\">output: </text>\n<polygon fill=\"none\" stroke=\"black\" points=\"255.5,-536 255.5,-557 325.5,-557 325.5,-536 255.5,-536\"/>\n<text text-anchor=\"start\" x=\"260.5\" y=\"-544\" font-family=\"Linux libertine\" font-size=\"10.00\">(1, 128, 768) </text>\n</g>\n<!-- 0&#45;&gt;6 -->\n<g id=\"edge1\" class=\"edge\">\n<title>0&#45;&gt;6</title>\n<path fill=\"none\" stroke=\"black\" d=\"M88.07,-618.98C112.33,-608.45 145.27,-594.15 173.15,-582.04\"/>\n<polygon fill=\"black\" stroke=\"black\" points=\"174.62,-585.22 182.39,-578.02 171.83,-578.8 174.62,-585.22\"/>\n</g>\n<!-- 1 -->\n<g id=\"node2\" class=\"node\">\n<title>1</title>\n<polygon fill=\"lightyellow\" stroke=\"transparent\" points=\"467,-910 360,-910 360,-878 467,-878 467,-910\"/>\n<polygon fill=\"none\" stroke=\"black\" points=\"360.5,-878 360.5,-910 422.5,-910 422.5,-878 360.5,-878\"/>\n<text text-anchor=\"start\" x=\"365.5\" y=\"-897\" font-family=\"Linux libertine\" font-size=\"10.00\">input&#45;tensor</text>\n<text text-anchor=\"start\" x=\"374.5\" y=\"-886\" font-family=\"Linux libertine\" font-size=\"10.00\">depth:0</text>\n<polygon fill=\"none\" stroke=\"black\" points=\"422.5,-878 422.5,-910 467.5,-910 467.5,-878 422.5,-878\"/>\n<text text-anchor=\"start\" x=\"427.5\" y=\"-891.5\" font-family=\"Linux libertine\" font-size=\"10.00\">(1, 128)</text>\n</g>\n<!-- 2 -->\n<g id=\"node3\" class=\"node\">\n<title>2</title>\n<polygon fill=\"aliceblue\" stroke=\"transparent\" points=\"503,-812 324,-812 324,-770 503,-770 503,-812\"/>\n<polygon fill=\"none\" stroke=\"black\" points=\"324.5,-770 324.5,-812 388.5,-812 388.5,-770 324.5,-770\"/>\n<text text-anchor=\"start\" x=\"329.5\" y=\"-794\" font-family=\"Linux libertine\" font-size=\"10.00\">__getitem__</text>\n<text text-anchor=\"start\" x=\"339.5\" y=\"-783\" font-family=\"Linux libertine\" font-size=\"10.00\">depth:3</text>\n<polygon fill=\"none\" stroke=\"black\" points=\"388.5,-791 388.5,-812 432.5,-812 432.5,-791 388.5,-791\"/>\n<text text-anchor=\"start\" x=\"398\" y=\"-799\" font-family=\"Linux libertine\" font-size=\"10.00\">input:</text>\n<polygon fill=\"none\" stroke=\"black\" points=\"432.5,-791 432.5,-812 503.5,-812 503.5,-791 432.5,-791\"/>\n<text text-anchor=\"start\" x=\"449\" y=\"-799\" font-family=\"Linux libertine\" font-size=\"10.00\">(1, 128) </text>\n<polygon fill=\"none\" stroke=\"black\" points=\"388.5,-770 388.5,-791 432.5,-791 432.5,-770 388.5,-770\"/>\n<text text-anchor=\"start\" x=\"393.5\" y=\"-778\" font-family=\"Linux libertine\" font-size=\"10.00\">output: </text>\n<polygon fill=\"none\" stroke=\"black\" points=\"432.5,-770 432.5,-791 503.5,-791 503.5,-770 432.5,-770\"/>\n<text text-anchor=\"start\" x=\"437.5\" y=\"-778\" font-family=\"Linux libertine\" font-size=\"10.00\">(1, 1, 1, 128) </text>\n</g>\n<!-- 1&#45;&gt;2 -->\n<g id=\"edge2\" class=\"edge\">\n<title>1&#45;&gt;2</title>\n<path fill=\"none\" stroke=\"black\" d=\"M413.5,-877.66C413.5,-862.99 413.5,-840.46 413.5,-822.19\"/>\n<polygon fill=\"black\" stroke=\"black\" points=\"417,-822.02 413.5,-812.02 410,-822.02 417,-822.02\"/>\n</g>\n<!-- 3 -->\n<g id=\"node4\" class=\"node\">\n<title>3</title>\n<polygon fill=\"aliceblue\" stroke=\"transparent\" points=\"495,-734 336,-734 336,-692 495,-692 495,-734\"/>\n<polygon fill=\"none\" stroke=\"black\" points=\"336.5,-692 336.5,-734 380.5,-734 380.5,-692 336.5,-692\"/>\n<text text-anchor=\"start\" x=\"354\" y=\"-716\" font-family=\"Linux libertine\" font-size=\"10.00\">to</text>\n<text text-anchor=\"start\" x=\"341.5\" y=\"-705\" font-family=\"Linux libertine\" font-size=\"10.00\">depth:3</text>\n<polygon fill=\"none\" stroke=\"black\" points=\"380.5,-713 380.5,-734 424.5,-734 424.5,-713 380.5,-713\"/>\n<text text-anchor=\"start\" x=\"390\" y=\"-721\" font-family=\"Linux libertine\" font-size=\"10.00\">input:</text>\n<polygon fill=\"none\" stroke=\"black\" points=\"424.5,-713 424.5,-734 495.5,-734 495.5,-713 424.5,-713\"/>\n<text text-anchor=\"start\" x=\"429.5\" y=\"-721\" font-family=\"Linux libertine\" font-size=\"10.00\">(1, 1, 1, 128) </text>\n<polygon fill=\"none\" stroke=\"black\" points=\"380.5,-692 380.5,-713 424.5,-713 424.5,-692 380.5,-692\"/>\n<text text-anchor=\"start\" x=\"385.5\" y=\"-700\" font-family=\"Linux libertine\" font-size=\"10.00\">output: </text>\n<polygon fill=\"none\" stroke=\"black\" points=\"424.5,-692 424.5,-713 495.5,-713 495.5,-692 424.5,-692\"/>\n<text text-anchor=\"start\" x=\"429.5\" y=\"-700\" font-family=\"Linux libertine\" font-size=\"10.00\">(1, 1, 1, 128) </text>\n</g>\n<!-- 2&#45;&gt;3 -->\n<g id=\"edge3\" class=\"edge\">\n<title>2&#45;&gt;3</title>\n<path fill=\"none\" stroke=\"black\" d=\"M414.04,-769.63C414.24,-761.82 414.48,-752.73 414.71,-744.18\"/>\n<polygon fill=\"black\" stroke=\"black\" points=\"418.21,-744.25 414.97,-734.16 411.21,-744.06 418.21,-744.25\"/>\n</g>\n<!-- 4 -->\n<g id=\"node5\" class=\"node\">\n<title>4</title>\n<polygon fill=\"aliceblue\" stroke=\"transparent\" points=\"501,-656 336,-656 336,-614 501,-614 501,-656\"/>\n<polygon fill=\"none\" stroke=\"black\" points=\"336.5,-614 336.5,-656 386.5,-656 386.5,-614 336.5,-614\"/>\n<text text-anchor=\"start\" x=\"341.5\" y=\"-638\" font-family=\"Linux libertine\" font-size=\"10.00\">__rsub__</text>\n<text text-anchor=\"start\" x=\"344.5\" y=\"-627\" font-family=\"Linux libertine\" font-size=\"10.00\">depth:3</text>\n<polygon fill=\"none\" stroke=\"black\" points=\"386.5,-635 386.5,-656 430.5,-656 430.5,-635 386.5,-635\"/>\n<text text-anchor=\"start\" x=\"396\" y=\"-643\" font-family=\"Linux libertine\" font-size=\"10.00\">input:</text>\n<polygon fill=\"none\" stroke=\"black\" points=\"430.5,-635 430.5,-656 501.5,-656 501.5,-635 430.5,-635\"/>\n<text text-anchor=\"start\" x=\"435.5\" y=\"-643\" font-family=\"Linux libertine\" font-size=\"10.00\">(1, 1, 1, 128) </text>\n<polygon fill=\"none\" stroke=\"black\" points=\"386.5,-614 386.5,-635 430.5,-635 430.5,-614 386.5,-614\"/>\n<text text-anchor=\"start\" x=\"391.5\" y=\"-622\" font-family=\"Linux libertine\" font-size=\"10.00\">output: </text>\n<polygon fill=\"none\" stroke=\"black\" points=\"430.5,-614 430.5,-635 501.5,-635 501.5,-614 430.5,-614\"/>\n<text text-anchor=\"start\" x=\"435.5\" y=\"-622\" font-family=\"Linux libertine\" font-size=\"10.00\">(1, 1, 1, 128) </text>\n</g>\n<!-- 3&#45;&gt;4 -->\n<g id=\"edge4\" class=\"edge\">\n<title>3&#45;&gt;4</title>\n<path fill=\"none\" stroke=\"black\" d=\"M416.3,-691.63C416.61,-683.82 416.97,-674.73 417.31,-666.18\"/>\n<polygon fill=\"black\" stroke=\"black\" points=\"420.81,-666.29 417.7,-656.16 413.81,-666.01 420.81,-666.29\"/>\n</g>\n<!-- 5 -->\n<g id=\"node6\" class=\"node\">\n<title>5</title>\n<polygon fill=\"aliceblue\" stroke=\"transparent\" points=\"503,-578 344,-578 344,-536 503,-536 503,-578\"/>\n<polygon fill=\"none\" stroke=\"black\" points=\"344.5,-536 344.5,-578 388.5,-578 388.5,-536 344.5,-536\"/>\n<text text-anchor=\"start\" x=\"358.5\" y=\"-560\" font-family=\"Linux libertine\" font-size=\"10.00\">mul</text>\n<text text-anchor=\"start\" x=\"349.5\" y=\"-549\" font-family=\"Linux libertine\" font-size=\"10.00\">depth:3</text>\n<polygon fill=\"none\" stroke=\"black\" points=\"388.5,-557 388.5,-578 432.5,-578 432.5,-557 388.5,-557\"/>\n<text text-anchor=\"start\" x=\"398\" y=\"-565\" font-family=\"Linux libertine\" font-size=\"10.00\">input:</text>\n<polygon fill=\"none\" stroke=\"black\" points=\"432.5,-557 432.5,-578 503.5,-578 503.5,-557 432.5,-557\"/>\n<text text-anchor=\"start\" x=\"437.5\" y=\"-565\" font-family=\"Linux libertine\" font-size=\"10.00\">(1, 1, 1, 128) </text>\n<polygon fill=\"none\" stroke=\"black\" points=\"388.5,-536 388.5,-557 432.5,-557 432.5,-536 388.5,-536\"/>\n<text text-anchor=\"start\" x=\"393.5\" y=\"-544\" font-family=\"Linux libertine\" font-size=\"10.00\">output: </text>\n<polygon fill=\"none\" stroke=\"black\" points=\"432.5,-536 432.5,-557 503.5,-557 503.5,-536 432.5,-536\"/>\n<text text-anchor=\"start\" x=\"437.5\" y=\"-544\" font-family=\"Linux libertine\" font-size=\"10.00\">(1, 1, 1, 128) </text>\n</g>\n<!-- 4&#45;&gt;5 -->\n<g id=\"edge5\" class=\"edge\">\n<title>4&#45;&gt;5</title>\n<path fill=\"none\" stroke=\"black\" d=\"M419.84,-613.63C420.35,-605.82 420.95,-596.73 421.51,-588.18\"/>\n<polygon fill=\"black\" stroke=\"black\" points=\"425.01,-588.37 422.17,-578.16 418.02,-587.91 425.01,-588.37\"/>\n</g>\n<!-- 7 -->\n<g id=\"node8\" class=\"node\">\n<title>7</title>\n<polygon fill=\"#c1ffc1\" stroke=\"transparent\" points=\"437.5,-500 197.5,-500 197.5,-458 437.5,-458 437.5,-500\"/>\n<polygon fill=\"none\" stroke=\"black\" points=\"197.5,-458 197.5,-500 260.5,-500 260.5,-458 197.5,-458\"/>\n<text text-anchor=\"start\" x=\"202.5\" y=\"-482\" font-family=\"Linux libertine\" font-size=\"10.00\">BertEncoder</text>\n<text text-anchor=\"start\" x=\"212\" y=\"-471\" font-family=\"Linux libertine\" font-size=\"10.00\">depth:3</text>\n<polygon fill=\"none\" stroke=\"black\" points=\"260.5,-479 260.5,-500 304.5,-500 304.5,-479 260.5,-479\"/>\n<text text-anchor=\"start\" x=\"270\" y=\"-487\" font-family=\"Linux libertine\" font-size=\"10.00\">input:</text>\n<polygon fill=\"none\" stroke=\"black\" points=\"304.5,-479 304.5,-500 437.5,-500 437.5,-479 304.5,-479\"/>\n<text text-anchor=\"start\" x=\"309.5\" y=\"-487\" font-family=\"Linux libertine\" font-size=\"10.00\">(1, 128, 768), (1, 1, 1, 128) </text>\n<polygon fill=\"none\" stroke=\"black\" points=\"260.5,-458 260.5,-479 304.5,-479 304.5,-458 260.5,-458\"/>\n<text text-anchor=\"start\" x=\"265.5\" y=\"-466\" font-family=\"Linux libertine\" font-size=\"10.00\">output: </text>\n<polygon fill=\"none\" stroke=\"black\" points=\"304.5,-458 304.5,-479 437.5,-479 437.5,-458 304.5,-458\"/>\n<text text-anchor=\"start\" x=\"341\" y=\"-466\" font-family=\"Linux libertine\" font-size=\"10.00\">(1, 128, 768) </text>\n</g>\n<!-- 5&#45;&gt;7 -->\n<g id=\"edge6\" class=\"edge\">\n<title>5&#45;&gt;7</title>\n<path fill=\"none\" stroke=\"black\" d=\"M395.37,-535.83C382.67,-526.73 367.51,-515.86 353.96,-506.14\"/>\n<polygon fill=\"black\" stroke=\"black\" points=\"355.93,-503.24 345.76,-500.26 351.85,-508.93 355.93,-503.24\"/>\n</g>\n<!-- 6&#45;&gt;7 -->\n<g id=\"edge7\" class=\"edge\">\n<title>6&#45;&gt;7</title>\n<path fill=\"none\" stroke=\"black\" d=\"M252.35,-535.63C262.71,-526.79 274.99,-516.3 286.07,-506.84\"/>\n<polygon fill=\"black\" stroke=\"black\" points=\"288.56,-509.31 293.89,-500.16 284.01,-503.99 288.56,-509.31\"/>\n</g>\n<!-- 8 -->\n<g id=\"node9\" class=\"node\">\n<title>8</title>\n<polygon fill=\"#c1ffc1\" stroke=\"transparent\" points=\"402.5,-422 232.5,-422 232.5,-380 402.5,-380 402.5,-422\"/>\n<polygon fill=\"none\" stroke=\"black\" points=\"232.5,-380 232.5,-422 288.5,-422 288.5,-380 232.5,-380\"/>\n<text text-anchor=\"start\" x=\"237.5\" y=\"-404\" font-family=\"Linux libertine\" font-size=\"10.00\">BertPooler</text>\n<text text-anchor=\"start\" x=\"243.5\" y=\"-393\" font-family=\"Linux libertine\" font-size=\"10.00\">depth:3</text>\n<polygon fill=\"none\" stroke=\"black\" points=\"288.5,-401 288.5,-422 332.5,-422 332.5,-401 288.5,-401\"/>\n<text text-anchor=\"start\" x=\"298\" y=\"-409\" font-family=\"Linux libertine\" font-size=\"10.00\">input:</text>\n<polygon fill=\"none\" stroke=\"black\" points=\"332.5,-401 332.5,-422 402.5,-422 402.5,-401 332.5,-401\"/>\n<text text-anchor=\"start\" x=\"337.5\" y=\"-409\" font-family=\"Linux libertine\" font-size=\"10.00\">(1, 128, 768) </text>\n<polygon fill=\"none\" stroke=\"black\" points=\"288.5,-380 288.5,-401 332.5,-401 332.5,-380 288.5,-380\"/>\n<text text-anchor=\"start\" x=\"293.5\" y=\"-388\" font-family=\"Linux libertine\" font-size=\"10.00\">output: </text>\n<polygon fill=\"none\" stroke=\"black\" points=\"332.5,-380 332.5,-401 402.5,-401 402.5,-380 332.5,-380\"/>\n<text text-anchor=\"start\" x=\"348.5\" y=\"-388\" font-family=\"Linux libertine\" font-size=\"10.00\">(1, 768) </text>\n</g>\n<!-- 7&#45;&gt;8 -->\n<g id=\"edge8\" class=\"edge\">\n<title>7&#45;&gt;8</title>\n<path fill=\"none\" stroke=\"black\" d=\"M317.5,-457.63C317.5,-449.82 317.5,-440.73 317.5,-432.18\"/>\n<polygon fill=\"black\" stroke=\"black\" points=\"321,-432.16 317.5,-422.16 314,-432.16 321,-432.16\"/>\n</g>\n<!-- 9 -->\n<g id=\"node10\" class=\"node\">\n<title>9</title>\n<polygon fill=\"#c1ffc1\" stroke=\"transparent\" points=\"386,-344 249,-344 249,-302 386,-302 386,-344\"/>\n<polygon fill=\"none\" stroke=\"black\" points=\"249.5,-302 249.5,-344 294.5,-344 294.5,-302 249.5,-302\"/>\n<text text-anchor=\"start\" x=\"254.5\" y=\"-326\" font-family=\"Linux libertine\" font-size=\"10.00\">Dropout</text>\n<text text-anchor=\"start\" x=\"255\" y=\"-315\" font-family=\"Linux libertine\" font-size=\"10.00\">depth:2</text>\n<polygon fill=\"none\" stroke=\"black\" points=\"294.5,-323 294.5,-344 338.5,-344 338.5,-323 294.5,-323\"/>\n<text text-anchor=\"start\" x=\"304\" y=\"-331\" font-family=\"Linux libertine\" font-size=\"10.00\">input:</text>\n<polygon fill=\"none\" stroke=\"black\" points=\"338.5,-323 338.5,-344 386.5,-344 386.5,-323 338.5,-323\"/>\n<text text-anchor=\"start\" x=\"343.5\" y=\"-331\" font-family=\"Linux libertine\" font-size=\"10.00\">(1, 768) </text>\n<polygon fill=\"none\" stroke=\"black\" points=\"294.5,-302 294.5,-323 338.5,-323 338.5,-302 294.5,-302\"/>\n<text text-anchor=\"start\" x=\"299.5\" y=\"-310\" font-family=\"Linux libertine\" font-size=\"10.00\">output: </text>\n<polygon fill=\"none\" stroke=\"black\" points=\"338.5,-302 338.5,-323 386.5,-323 386.5,-302 338.5,-302\"/>\n<text text-anchor=\"start\" x=\"343.5\" y=\"-310\" font-family=\"Linux libertine\" font-size=\"10.00\">(1, 768) </text>\n</g>\n<!-- 8&#45;&gt;9 -->\n<g id=\"edge9\" class=\"edge\">\n<title>8&#45;&gt;9</title>\n<path fill=\"none\" stroke=\"black\" d=\"M317.5,-379.63C317.5,-371.82 317.5,-362.73 317.5,-354.18\"/>\n<polygon fill=\"black\" stroke=\"black\" points=\"321,-354.16 317.5,-344.16 314,-354.16 321,-354.16\"/>\n</g>\n<!-- 10 -->\n<g id=\"node11\" class=\"node\">\n<title>10</title>\n<polygon fill=\"#c1ffc1\" stroke=\"transparent\" points=\"385.5,-266 249.5,-266 249.5,-224 385.5,-224 385.5,-266\"/>\n<polygon fill=\"none\" stroke=\"black\" points=\"249.5,-224 249.5,-266 293.5,-266 293.5,-224 249.5,-224\"/>\n<text text-anchor=\"start\" x=\"257.5\" y=\"-248\" font-family=\"Linux libertine\" font-size=\"10.00\">Linear</text>\n<text text-anchor=\"start\" x=\"254.5\" y=\"-237\" font-family=\"Linux libertine\" font-size=\"10.00\">depth:2</text>\n<polygon fill=\"none\" stroke=\"black\" points=\"293.5,-245 293.5,-266 337.5,-266 337.5,-245 293.5,-245\"/>\n<text text-anchor=\"start\" x=\"303\" y=\"-253\" font-family=\"Linux libertine\" font-size=\"10.00\">input:</text>\n<polygon fill=\"none\" stroke=\"black\" points=\"337.5,-245 337.5,-266 385.5,-266 385.5,-245 337.5,-245\"/>\n<text text-anchor=\"start\" x=\"342.5\" y=\"-253\" font-family=\"Linux libertine\" font-size=\"10.00\">(1, 768) </text>\n<polygon fill=\"none\" stroke=\"black\" points=\"293.5,-224 293.5,-245 337.5,-245 337.5,-224 293.5,-224\"/>\n<text text-anchor=\"start\" x=\"298.5\" y=\"-232\" font-family=\"Linux libertine\" font-size=\"10.00\">output: </text>\n<polygon fill=\"none\" stroke=\"black\" points=\"337.5,-224 337.5,-245 385.5,-245 385.5,-224 337.5,-224\"/>\n<text text-anchor=\"start\" x=\"345\" y=\"-232\" font-family=\"Linux libertine\" font-size=\"10.00\">(1, 32) </text>\n</g>\n<!-- 9&#45;&gt;10 -->\n<g id=\"edge10\" class=\"edge\">\n<title>9&#45;&gt;10</title>\n<path fill=\"none\" stroke=\"black\" d=\"M317.5,-301.63C317.5,-293.82 317.5,-284.73 317.5,-276.18\"/>\n<polygon fill=\"black\" stroke=\"black\" points=\"321,-276.16 317.5,-266.16 314,-276.16 321,-276.16\"/>\n</g>\n<!-- 11 -->\n<g id=\"node12\" class=\"node\">\n<title>11</title>\n<polygon fill=\"#c1ffc1\" stroke=\"transparent\" points=\"383,-188 252,-188 252,-146 383,-146 383,-188\"/>\n<polygon fill=\"none\" stroke=\"black\" points=\"252.5,-146 252.5,-188 296.5,-188 296.5,-146 252.5,-146\"/>\n<text text-anchor=\"start\" x=\"260.5\" y=\"-170\" font-family=\"Linux libertine\" font-size=\"10.00\">Linear</text>\n<text text-anchor=\"start\" x=\"257.5\" y=\"-159\" font-family=\"Linux libertine\" font-size=\"10.00\">depth:1</text>\n<polygon fill=\"none\" stroke=\"black\" points=\"296.5,-167 296.5,-188 340.5,-188 340.5,-167 296.5,-167\"/>\n<text text-anchor=\"start\" x=\"306\" y=\"-175\" font-family=\"Linux libertine\" font-size=\"10.00\">input:</text>\n<polygon fill=\"none\" stroke=\"black\" points=\"340.5,-167 340.5,-188 383.5,-188 383.5,-167 340.5,-167\"/>\n<text text-anchor=\"start\" x=\"345.5\" y=\"-175\" font-family=\"Linux libertine\" font-size=\"10.00\">(1, 32) </text>\n<polygon fill=\"none\" stroke=\"black\" points=\"296.5,-146 296.5,-167 340.5,-167 340.5,-146 296.5,-146\"/>\n<text text-anchor=\"start\" x=\"301.5\" y=\"-154\" font-family=\"Linux libertine\" font-size=\"10.00\">output: </text>\n<polygon fill=\"none\" stroke=\"black\" points=\"340.5,-146 340.5,-167 383.5,-167 383.5,-146 340.5,-146\"/>\n<text text-anchor=\"start\" x=\"348\" y=\"-154\" font-family=\"Linux libertine\" font-size=\"10.00\">(1, 3) </text>\n</g>\n<!-- 10&#45;&gt;11 -->\n<g id=\"edge11\" class=\"edge\">\n<title>10&#45;&gt;11</title>\n<path fill=\"none\" stroke=\"black\" d=\"M317.5,-223.63C317.5,-215.82 317.5,-206.73 317.5,-198.18\"/>\n<polygon fill=\"black\" stroke=\"black\" points=\"321,-198.16 317.5,-188.16 314,-198.16 321,-198.16\"/>\n</g>\n<!-- 12 -->\n<g id=\"node13\" class=\"node\">\n<title>12</title>\n<polygon fill=\"#c1ffc1\" stroke=\"transparent\" points=\"381.5,-110 253.5,-110 253.5,-68 381.5,-68 381.5,-110\"/>\n<polygon fill=\"none\" stroke=\"black\" points=\"253.5,-68 253.5,-110 299.5,-110 299.5,-68 253.5,-68\"/>\n<text text-anchor=\"start\" x=\"258.5\" y=\"-92\" font-family=\"Linux libertine\" font-size=\"10.00\">Softmax</text>\n<text text-anchor=\"start\" x=\"259.5\" y=\"-81\" font-family=\"Linux libertine\" font-size=\"10.00\">depth:1</text>\n<polygon fill=\"none\" stroke=\"black\" points=\"299.5,-89 299.5,-110 343.5,-110 343.5,-89 299.5,-89\"/>\n<text text-anchor=\"start\" x=\"309\" y=\"-97\" font-family=\"Linux libertine\" font-size=\"10.00\">input:</text>\n<polygon fill=\"none\" stroke=\"black\" points=\"343.5,-89 343.5,-110 381.5,-110 381.5,-89 343.5,-89\"/>\n<text text-anchor=\"start\" x=\"348.5\" y=\"-97\" font-family=\"Linux libertine\" font-size=\"10.00\">(1, 3) </text>\n<polygon fill=\"none\" stroke=\"black\" points=\"299.5,-68 299.5,-89 343.5,-89 343.5,-68 299.5,-68\"/>\n<text text-anchor=\"start\" x=\"304.5\" y=\"-76\" font-family=\"Linux libertine\" font-size=\"10.00\">output: </text>\n<polygon fill=\"none\" stroke=\"black\" points=\"343.5,-68 343.5,-89 381.5,-89 381.5,-68 343.5,-68\"/>\n<text text-anchor=\"start\" x=\"348.5\" y=\"-76\" font-family=\"Linux libertine\" font-size=\"10.00\">(1, 3) </text>\n</g>\n<!-- 11&#45;&gt;12 -->\n<g id=\"edge12\" class=\"edge\">\n<title>11&#45;&gt;12</title>\n<path fill=\"none\" stroke=\"black\" d=\"M317.5,-145.63C317.5,-137.82 317.5,-128.73 317.5,-120.18\"/>\n<polygon fill=\"black\" stroke=\"black\" points=\"321,-120.16 317.5,-110.16 314,-120.16 321,-120.16\"/>\n</g>\n<!-- 13 -->\n<g id=\"node14\" class=\"node\">\n<title>13</title>\n<polygon fill=\"lightyellow\" stroke=\"transparent\" points=\"369,-32 266,-32 266,0 369,0 369,-32\"/>\n<polygon fill=\"none\" stroke=\"black\" points=\"266.5,0 266.5,-32 334.5,-32 334.5,0 266.5,0\"/>\n<text text-anchor=\"start\" x=\"271.5\" y=\"-19\" font-family=\"Linux libertine\" font-size=\"10.00\">output&#45;tensor</text>\n<text text-anchor=\"start\" x=\"283.5\" y=\"-8\" font-family=\"Linux libertine\" font-size=\"10.00\">depth:0</text>\n<polygon fill=\"none\" stroke=\"black\" points=\"334.5,0 334.5,-32 369.5,-32 369.5,0 334.5,0\"/>\n<text text-anchor=\"start\" x=\"339.5\" y=\"-13.5\" font-family=\"Linux libertine\" font-size=\"10.00\">(1, 3)</text>\n</g>\n<!-- 12&#45;&gt;13 -->\n<g id=\"edge13\" class=\"edge\">\n<title>12&#45;&gt;13</title>\n<path fill=\"none\" stroke=\"black\" d=\"M317.5,-67.84C317.5,-59.89 317.5,-50.66 317.5,-42.26\"/>\n<polygon fill=\"black\" stroke=\"black\" points=\"321,-42.24 317.5,-32.24 314,-42.24 321,-42.24\"/>\n</g>\n</g>\n</svg>\n",
      "text/plain": "<graphviz.graphs.Digraph at 0x19e58e08b50>"
     },
     "execution_count": 35,
     "metadata": {},
     "output_type": "execute_result"
    }
   ],
   "source": [
    "from torchview import draw_graph\n",
    "\n",
    "model_graph = draw_graph(\n",
    "    text_sentiment_model,\n",
    "    input_data=(test_input_ids[:1], test_attention_masks[:1]),\n",
    "    expand_nested=True,\n",
    "    save_graph=True,\n",
    "    filename=\"text_sentiment_model\",\n",
    ")\n",
    "model_graph.visual_graph"
   ],
   "metadata": {
    "collapsed": false,
    "ExecuteTime": {
     "start_time": "2023-04-09T19:07:24.161115Z",
     "end_time": "2023-04-09T19:07:24.991116Z"
    }
   }
  },
  {
   "cell_type": "code",
   "execution_count": 32,
   "outputs": [
    {
     "name": "stdout",
     "output_type": "stream",
     "text": [
      "=============== Epoch: 1 ===============\n",
      "Train: loss=0.903, accuracy=0.627\n",
      "Validation: loss=0.858, accuracy=0.682\n",
      "Time elapsed: 765.43 s\n",
      "========================================\n",
      "=============== Epoch: 2 ===============\n",
      "Train: loss=0.845, accuracy=0.694\n",
      "Validation: loss=0.848, accuracy=0.691\n",
      "Time elapsed: 757.55 s\n",
      "========================================\n",
      "=============== Epoch: 3 ===============\n",
      "Train: loss=0.827, accuracy=0.714\n",
      "Validation: loss=0.841, accuracy=0.700\n",
      "Time elapsed: 756.64 s\n",
      "========================================\n",
      "=============== Epoch: 4 ===============\n",
      "Train: loss=0.814, accuracy=0.728\n",
      "Validation: loss=0.839, accuracy=0.701\n",
      "Time elapsed: 754.80 s\n",
      "========================================\n",
      "=============== Epoch: 5 ===============\n",
      "Train: loss=0.804, accuracy=0.740\n",
      "Validation: loss=0.836, accuracy=0.706\n",
      "Time elapsed: 746.09 s\n",
      "========================================\n",
      "=============== Epoch: 6 ===============\n",
      "Train: loss=0.792, accuracy=0.754\n",
      "Validation: loss=0.839, accuracy=0.703\n",
      "Time elapsed: 745.77 s\n",
      "========================================\n",
      "=============== Epoch: 7 ===============\n",
      "Train: loss=0.782, accuracy=0.764\n",
      "Validation: loss=0.837, accuracy=0.705\n",
      "Time elapsed: 741.28 s\n",
      "========================================\n",
      "=============== Epoch: 8 ===============\n",
      "Train: loss=0.773, accuracy=0.774\n",
      "Validation: loss=0.835, accuracy=0.707\n",
      "Time elapsed: 741.66 s\n",
      "========================================\n",
      "=============== Epoch: 9 ===============\n",
      "Train: loss=0.765, accuracy=0.783\n",
      "Validation: loss=0.837, accuracy=0.706\n",
      "Time elapsed: 741.47 s\n",
      "========================================\n",
      "=============== Epoch: 10 ===============\n",
      "Train: loss=0.759, accuracy=0.788\n",
      "Validation: loss=0.839, accuracy=0.707\n",
      "Time elapsed: 743.25 s\n",
      "========================================\n"
     ]
    }
   ],
   "source": [
    "language_model_history = training(\n",
    "    text_sentiment_model,\n",
    "    train_dataloader,\n",
    "    test_dataloader,\n",
    "    optimizer,\n",
    "    loss_function,\n",
    "    num_epochs=NUM_EPOCHS,\n",
    ")"
   ],
   "metadata": {
    "collapsed": false
   }
  },
  {
   "cell_type": "code",
   "execution_count": 33,
   "outputs": [
    {
     "data": {
      "text/plain": "<Figure size 640x480 with 1 Axes>",
      "image/png": "[encoded data removed]"
     },
     "metadata": {},
     "output_type": "display_data"
    },
    {
     "data": {
      "text/plain": "<Figure size 640x480 with 1 Axes>",
      "image/png": "[encoded data removed]"
     },
     "metadata": {},
     "output_type": "display_data"
    }
   ],
   "source": [
    "plot_history(language_model_history)"
   ],
   "metadata": {
    "collapsed": false
   }
  },
  {
   "cell_type": "code",
   "execution_count": 34,
   "outputs": [],
   "source": [
    "def get_predictions(model: torch.nn.Module, dataloader: DataLoader) -> Tuple[np.ndarray, np.ndarray]:\n",
    "    model.eval()\n",
    "    predictions = []\n",
    "    true_labels = []\n",
    "    with torch.no_grad():\n",
    "        for input_ids, attention_mask, sentiment in dataloader:\n",
    "            input_ids = input_ids.to(device)\n",
    "            attention_mask = attention_mask.to(device)\n",
    "\n",
    "            preds = model(input_ids, attention_mask)\n",
    "\n",
    "            preds = preds.cpu().detach().numpy()\n",
    "            sentiment = sentiment.cpu().detach().numpy()\n",
    "\n",
    "            preds = np.argmax(preds, axis=1).flatten().tolist()\n",
    "            sentiment = np.argmax(sentiment, axis=1).flatten().tolist()\n",
    "\n",
    "            predictions.extend(preds)\n",
    "            true_labels.extend(sentiment)\n",
    "\n",
    "    return np.array(predictions), np.array(true_labels)"
   ],
   "metadata": {
    "collapsed": false
   }
  },
  {
   "cell_type": "code",
   "execution_count": 35,
   "outputs": [],
   "source": [
    "y_pred, y_true = get_predictions(text_sentiment_model, test_dataloader)"
   ],
   "metadata": {
    "collapsed": false
   }
  },
  {
   "cell_type": "code",
   "execution_count": 36,
   "outputs": [],
   "source": [
    "def get_classification_report(y_true, y_pred, labels):\n",
    "    print(classification_report(y_true, y_pred, target_names=labels))\n",
    "    ConfusionMatrixDisplay(confusion_matrix(y_true, y_pred, normalize=\"true\"), display_labels=labels).plot()"
   ],
   "metadata": {
    "collapsed": false
   }
  },
  {
   "cell_type": "code",
   "execution_count": 37,
   "outputs": [
    {
     "name": "stdout",
     "output_type": "stream",
     "text": [
      "              precision    recall  f1-score   support\n",
      "\n",
      "    negative       0.67      0.74      0.70      8744\n",
      "     neutral       0.63      0.59      0.61      1506\n",
      "    positive       0.76      0.70      0.73      9750\n",
      "\n",
      "    accuracy                           0.71     20000\n",
      "   macro avg       0.69      0.68      0.68     20000\n",
      "weighted avg       0.71      0.71      0.71     20000\n",
      "\n"
     ]
    },
    {
     "data": {
      "text/plain": "<Figure size 640x480 with 2 Axes>",
      "image/png": "[encoded data removed]"
     },
     "metadata": {},
     "output_type": "display_data"
    }
   ],
   "source": [
    "get_classification_report(y_true, y_pred, label_encoder.classes_)"
   ],
   "metadata": {
    "collapsed": false
   }
  },
  {
   "cell_type": "code",
   "execution_count": 37,
   "outputs": [],
   "source": [],
   "metadata": {
    "collapsed": false
   }
  }
 ],
 "metadata": {
  "kernelspec": {
   "display_name": "Python 3",
   "language": "python",
   "name": "python3"
  },
  "language_info": {
   "codemirror_mode": {
    "name": "ipython",
    "version": 2
   },
   "file_extension": ".py",
   "mimetype": "text/x-python",
   "name": "python",
   "nbconvert_exporter": "python",
   "pygments_lexer": "ipython2",
   "version": "2.7.6"
  }
 },
 "nbformat": 4,
 "nbformat_minor": 0
}
