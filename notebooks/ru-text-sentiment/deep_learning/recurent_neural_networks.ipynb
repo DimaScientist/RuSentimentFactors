{
 "cells": [
  {
   "cell_type": "code",
   "execution_count": 1,
   "metadata": {
    "collapsed": true
   },
   "outputs": [],
   "source": [
    "import warnings\n",
    "from typing import Any, Dict, Tuple\n",
    "\n",
    "import time\n",
    "\n",
    "import pandas as pd\n",
    "import numpy as np\n",
    "\n",
    "from nltk import casual_tokenize\n",
    "\n",
    "import torch\n",
    "from torch.utils.data import DataLoader, TensorDataset\n",
    "from torch import optim\n",
    "from torch.nn import functional as F\n",
    "\n",
    "from sklearn.metrics import f1_score\n",
    "from sklearn.preprocessing import LabelEncoder\n",
    "from sklearn.feature_extraction.text import CountVectorizer\n",
    "\n",
    "import matplotlib.pyplot as plt\n",
    "\n",
    "warnings.filterwarnings(\"ignore\")\n",
    "np.random.seed(42)\n",
    "torch.manual_seed(42)\n",
    "torch.cuda.manual_seed_all(42)"
   ]
  },
  {
   "cell_type": "code",
   "execution_count": 2,
   "outputs": [],
   "source": [
    "DATASET_PATH = \"../data/stemming_post_texts.csv\"\n",
    "N_SAMPLES = 10000"
   ],
   "metadata": {
    "collapsed": false
   }
  },
  {
   "cell_type": "code",
   "execution_count": 3,
   "outputs": [
    {
     "name": "stdout",
     "output_type": "stream",
     "text": [
      "cuda\n"
     ]
    }
   ],
   "source": [
    "if torch.cuda.is_available():\n",
    "    device = \"cuda\"\n",
    "else:\n",
    "    device = \"cpu\"\n",
    "print(device)"
   ],
   "metadata": {
    "collapsed": false
   }
  },
  {
   "cell_type": "code",
   "execution_count": 4,
   "outputs": [
    {
     "data": {
      "text/plain": "                                                text sentiment\n0  украин эт част рус искусствен отделен котор ру...  negative\n1  говор относительн небольш коррупц образован ст...  negative\n2  сво поляк сдела русск понятн литовск поляк так...   neutral\n3  фильм зрител люб диковин соседк пят месяц узна...   neutral\n4  государств плат посмотр денежн поток пенсион ф...  negative",
      "text/html": "<div>\n<style scoped>\n    .dataframe tbody tr th:only-of-type {\n        vertical-align: middle;\n    }\n\n    .dataframe tbody tr th {\n        vertical-align: top;\n    }\n\n    .dataframe thead th {\n        text-align: right;\n    }\n</style>\n<table border=\"1\" class=\"dataframe\">\n  <thead>\n    <tr style=\"text-align: right;\">\n      <th></th>\n      <th>text</th>\n      <th>sentiment</th>\n    </tr>\n  </thead>\n  <tbody>\n    <tr>\n      <th>0</th>\n      <td>украин эт част рус искусствен отделен котор ру...</td>\n      <td>negative</td>\n    </tr>\n    <tr>\n      <th>1</th>\n      <td>говор относительн небольш коррупц образован ст...</td>\n      <td>negative</td>\n    </tr>\n    <tr>\n      <th>2</th>\n      <td>сво поляк сдела русск понятн литовск поляк так...</td>\n      <td>neutral</td>\n    </tr>\n    <tr>\n      <th>3</th>\n      <td>фильм зрител люб диковин соседк пят месяц узна...</td>\n      <td>neutral</td>\n    </tr>\n    <tr>\n      <th>4</th>\n      <td>государств плат посмотр денежн поток пенсион ф...</td>\n      <td>negative</td>\n    </tr>\n  </tbody>\n</table>\n</div>"
     },
     "execution_count": 4,
     "metadata": {},
     "output_type": "execute_result"
    }
   ],
   "source": [
    "dataset = pd.read_csv(DATASET_PATH)\n",
    "dataset.head()"
   ],
   "metadata": {
    "collapsed": false
   }
  },
  {
   "cell_type": "code",
   "execution_count": 5,
   "outputs": [],
   "source": [
    "if N_SAMPLES > 0:\n",
    "    dataset = dataset.sample(N_SAMPLES)"
   ],
   "metadata": {
    "collapsed": false
   }
  },
  {
   "cell_type": "code",
   "execution_count": 6,
   "outputs": [],
   "source": [
    "label_encoder = LabelEncoder()\n",
    "y = label_encoder.fit_transform(dataset.sentiment)"
   ],
   "metadata": {
    "collapsed": false
   }
  },
  {
   "cell_type": "code",
   "execution_count": 80,
   "outputs": [],
   "source": [
    "count_vectorizer = CountVectorizer(tokenizer=casual_tokenize, max_features=512)\n",
    "X = count_vectorizer.fit_transform(dataset.text)"
   ],
   "metadata": {
    "collapsed": false
   }
  },
  {
   "cell_type": "code",
   "execution_count": 81,
   "outputs": [
    {
     "name": "stdout",
     "output_type": "stream",
     "text": [
      "Shape: X=(10000, 512), y=(10000,)\n"
     ]
    }
   ],
   "source": [
    "X = np.array(X.toarray())\n",
    "y = np.array(y).astype(np.int64)\n",
    "print(f\"Shape: X={X.shape}, y={y.shape}\")"
   ],
   "metadata": {
    "collapsed": false
   }
  },
  {
   "cell_type": "code",
   "execution_count": 82,
   "outputs": [
    {
     "name": "stdout",
     "output_type": "stream",
     "text": [
      "Train shape: X=(6000, 512), y=(6000,)\n",
      "Validation shape: X=(1500, 512), y=(1500,)\n",
      "Test shape: X=(2000, 512), y=(2000,)\n"
     ]
    }
   ],
   "source": [
    "X_train = X[: int(0.8 * len(X))]\n",
    "y_train = y[: int(0.8 * len(y))]\n",
    "X_test = X[int(0.8 * len(X)):]\n",
    "y_test = y[int(0.8 * len(y)):]\n",
    "\n",
    "X_train = X_train[: int(0.75 * len(X_train))]\n",
    "y_train = y_train[: int(0.75 * len(y_train))]\n",
    "X_val = X_train[int(0.75 * len(X_train)):]\n",
    "y_val = y_train[int(0.75 * len(y_train)):]\n",
    "\n",
    "print(f\"Train shape: X={X_train.shape}, y={y_train.shape}\")\n",
    "print(f\"Validation shape: X={X_val.shape}, y={y_val.shape}\")\n",
    "print(f\"Test shape: X={X_test.shape}, y={y_test.shape}\")"
   ],
   "metadata": {
    "collapsed": false
   }
  },
  {
   "cell_type": "code",
   "execution_count": 83,
   "outputs": [],
   "source": [
    "train_dataset = TensorDataset(\n",
    "    torch.from_numpy(X_train).to(device),\n",
    "    F.one_hot(torch.from_numpy(y_train).to(torch.int64)).to(torch.float64).to(device),\n",
    ")\n",
    "val_dataset = TensorDataset(\n",
    "    torch.from_numpy(X_val).to(device),\n",
    "    F.one_hot(torch.from_numpy(y_val).to(torch.int64)).to(torch.float64).to(device),\n",
    ")\n",
    "test_dataset = TensorDataset(\n",
    "    torch.from_numpy(X_test).to(device),\n",
    "    F.one_hot(torch.from_numpy(y_test).to(torch.int64)).to(torch.float64).to(device),\n",
    ")"
   ],
   "metadata": {
    "collapsed": false
   }
  },
  {
   "cell_type": "code",
   "execution_count": 84,
   "outputs": [],
   "source": [
    "batch_size = 32\n",
    "train_dataloader = DataLoader(train_dataset, batch_size=batch_size, shuffle=True)\n",
    "val_dataloader = DataLoader(val_dataset, batch_size=batch_size, shuffle=True)\n",
    "test_dataloader = DataLoader(test_dataset)"
   ],
   "metadata": {
    "collapsed": false
   }
  },
  {
   "cell_type": "code",
   "execution_count": 85,
   "outputs": [],
   "source": [
    "INPUT_DIM = len(count_vectorizer.vocabulary_) + 1\n",
    "EMBEDDING_DIM = 128\n",
    "HIDDEN_DIM = 32\n",
    "OUTPUT_DIM = len(label_encoder.classes_)\n",
    "DROPOUT = 0.2"
   ],
   "metadata": {
    "collapsed": false
   }
  },
  {
   "cell_type": "code",
   "execution_count": 86,
   "outputs": [],
   "source": [
    "def f1_weighted_score(preds: torch.Tensor, labels: torch.Tensor):\n",
    "    pred_numpy = preds.cpu().detach().numpy()\n",
    "    labels_numpy = labels.cpu().detach().numpy()\n",
    "    pred_flatten = np.argmax(pred_numpy, axis=1).flatten()\n",
    "    labels_flatten = np.argmax(labels_numpy, axis=1).flatten()\n",
    "    return f1_score(labels_flatten.astype(np.int32), pred_flatten.astype(np.int32), average=\"weighted\")"
   ],
   "metadata": {
    "collapsed": false
   }
  },
  {
   "cell_type": "code",
   "execution_count": 87,
   "outputs": [],
   "source": [
    "def train(\n",
    "        model: torch.nn.Module,\n",
    "        dataloader: DataLoader,\n",
    "        optim: optim.Optimizer,\n",
    "        loss_func: torch.nn.Module,\n",
    ") -> Tuple[float, float]:\n",
    "    loss = 0\n",
    "    accuracy = 0\n",
    "    model.train()\n",
    "    for sequence, sentiment in dataloader:\n",
    "        optim.zero_grad()\n",
    "        preds = model(sequence.T).squeeze()\n",
    "        loss_current = loss_func(preds, sentiment)\n",
    "        accuracy_curr = f1_weighted_score(preds, sentiment)\n",
    "        loss_current.backward()\n",
    "        optim.step()\n",
    "        loss += loss_current.item()\n",
    "        accuracy += accuracy_curr.item()\n",
    "    return loss / len(dataloader), accuracy / len(dataloader)"
   ],
   "metadata": {
    "collapsed": false
   }
  },
  {
   "cell_type": "code",
   "execution_count": 88,
   "outputs": [],
   "source": [
    "def validate(\n",
    "        model: torch.nn.Module,\n",
    "        dataloader: DataLoader,\n",
    "        loss_func: torch.nn.Module,\n",
    ") -> Tuple[float, float]:\n",
    "    loss = 0\n",
    "    accuracy = 0\n",
    "    model.eval()\n",
    "    with torch.no_grad():\n",
    "        for sequence, sentiment in dataloader:\n",
    "            preds = model(sequence.T).squeeze()\n",
    "            loss_current = loss_func(preds, sentiment)\n",
    "            accuracy_current = f1_weighted_score(preds, sentiment)\n",
    "            loss += loss_current.item()\n",
    "            accuracy += accuracy_current.item()\n",
    "    return loss / len(dataloader), accuracy / len(dataloader)"
   ],
   "metadata": {
    "collapsed": false
   }
  },
  {
   "cell_type": "code",
   "execution_count": 89,
   "outputs": [],
   "source": [
    "def training(\n",
    "        model: torch.nn.Module,\n",
    "        train_data: DataLoader,\n",
    "        validate_data: DataLoader,\n",
    "        optim: optim.Optimizer,\n",
    "        loss_func: torch.nn.Module,\n",
    "        num_epochs: int = 10,\n",
    ") -> Dict[str, Any]:\n",
    "    best_loss = float('inf')\n",
    "    history = {\n",
    "        \"train\": {\n",
    "            \"loss\": [],\n",
    "            \"accuracy\": [],\n",
    "        },\n",
    "        \"valid\": {\n",
    "            \"loss\": [],\n",
    "            \"accuracy\": [],\n",
    "        }\n",
    "    }\n",
    "    for epoch in range(num_epochs):\n",
    "        print(f\"{'=' * 15} Epoch: {epoch + 1} {'=' * 15}\")\n",
    "        time_start = time.time()\n",
    "        train_loss, train_accuracy = train(model, train_data, optim, loss_func)\n",
    "        print(f\"Train: loss={train_loss:.3f}, accuracy={train_accuracy:.3f}\")\n",
    "        validation_loss, validation_accuracy = validate(model, validate_data, loss_func)\n",
    "        print(f\"Validation: loss={validation_loss:.3f}, accuracy={validation_accuracy:.3f}\")\n",
    "        time_end = time.time()\n",
    "        time_delta = time_end - time_start\n",
    "        if validation_loss < best_loss:\n",
    "            best_loss = validation_loss\n",
    "        history[\"train\"][\"accuracy\"].append(train_accuracy)\n",
    "        history[\"train\"][\"loss\"].append(train_accuracy)\n",
    "        history[\"valid\"][\"accuracy\"].append(validation_accuracy)\n",
    "        history[\"valid\"][\"loss\"].append(validation_loss)\n",
    "        print(f\"Time elapsed: {time_delta:.2f} s\\n{'=' * 40}\")\n",
    "    return history"
   ],
   "metadata": {
    "collapsed": false
   }
  },
  {
   "cell_type": "code",
   "execution_count": 90,
   "outputs": [],
   "source": [
    "def plot_history(history: dict) -> None:\n",
    "    train = history.get(\"train\")\n",
    "    valid = history.get(\"valid\")\n",
    "    plt.title(\"Loss\")\n",
    "    plt.plot(train.get(\"loss\"), label=\"train\")\n",
    "    plt.plot(valid.get(\"loss\"), label=\"valid\")\n",
    "    plt.legend()\n",
    "    plt.show()\n",
    "    plt.title(\"Accuracy\")\n",
    "    plt.plot(train.get(\"accuracy\"), label=\"train\")\n",
    "    plt.plot(valid.get(\"accuracy\"), label=\"valid\")\n",
    "    plt.legend()\n",
    "    plt.show()"
   ],
   "metadata": {
    "collapsed": false
   }
  },
  {
   "cell_type": "code",
   "execution_count": 91,
   "outputs": [],
   "source": [
    "torch.cuda.empty_cache()"
   ],
   "metadata": {
    "collapsed": false
   }
  },
  {
   "cell_type": "markdown",
   "source": [
    "## RNN"
   ],
   "metadata": {
    "collapsed": false
   }
  },
  {
   "cell_type": "code",
   "execution_count": 92,
   "outputs": [],
   "source": [
    "class RNNModel(torch.nn.Module):\n",
    "\n",
    "    def __init__(\n",
    "            self,\n",
    "            input_dim: int,\n",
    "            embedding_dim: int,\n",
    "            hidden_dim: int,\n",
    "            output_dim: int,\n",
    "            dropout: float,\n",
    "    ):\n",
    "        super().__init__()\n",
    "        self.embeddings = torch.nn.Embedding(input_dim, embedding_dim)\n",
    "        self.rnn_layer = torch.nn.RNN(embedding_dim, hidden_dim, dropout=dropout)\n",
    "        self.fully_connected = torch.nn.Linear(hidden_dim, output_dim)\n",
    "        self.sigmoid = torch.nn.Sigmoid()\n",
    "\n",
    "    def forward(self, sequence):\n",
    "        embedded = self.embeddings(sequence)\n",
    "        output, hidden = self.rnn_layer(embedded)\n",
    "        hidden_state = hidden[-1, :, :].squeeze(0)\n",
    "        result = self.fully_connected(hidden_state)\n",
    "        return self.sigmoid(result)"
   ],
   "metadata": {
    "collapsed": false
   }
  },
  {
   "cell_type": "code",
   "execution_count": 93,
   "outputs": [
    {
     "data": {
      "text/plain": "RNNModel(\n  (embeddings): Embedding(513, 128)\n  (rnn_layer): RNN(128, 32, dropout=0.2)\n  (fully_connected): Linear(in_features=32, out_features=3, bias=True)\n  (sigmoid): Sigmoid()\n)"
     },
     "execution_count": 93,
     "metadata": {},
     "output_type": "execute_result"
    }
   ],
   "source": [
    "simple_rnn = RNNModel(\n",
    "    input_dim=INPUT_DIM,\n",
    "    embedding_dim=EMBEDDING_DIM,\n",
    "    hidden_dim=HIDDEN_DIM,\n",
    "    output_dim=OUTPUT_DIM,\n",
    "    dropout=DROPOUT,\n",
    ")\n",
    "simple_rnn = simple_rnn.to(device)\n",
    "simple_rnn"
   ],
   "metadata": {
    "collapsed": false
   }
  },
  {
   "cell_type": "code",
   "execution_count": 94,
   "outputs": [
    {
     "name": "stdout",
     "output_type": "stream",
     "text": [
      "=============== Epoch: 1 ===============\n",
      "Train: loss=0.699, accuracy=0.311\n",
      "Validation: loss=0.694, accuracy=0.354\n",
      "Time elapsed: 1.62 s\n",
      "========================================\n",
      "=============== Epoch: 2 ===============\n",
      "Train: loss=0.694, accuracy=0.337\n",
      "Validation: loss=0.693, accuracy=0.351\n",
      "Time elapsed: 1.36 s\n",
      "========================================\n",
      "=============== Epoch: 3 ===============\n",
      "Train: loss=0.693, accuracy=0.336\n",
      "Validation: loss=0.693, accuracy=0.352\n",
      "Time elapsed: 1.39 s\n",
      "========================================\n",
      "=============== Epoch: 4 ===============\n",
      "Train: loss=0.693, accuracy=0.338\n",
      "Validation: loss=0.693, accuracy=0.354\n",
      "Time elapsed: 1.42 s\n",
      "========================================\n",
      "=============== Epoch: 5 ===============\n",
      "Train: loss=0.693, accuracy=0.337\n",
      "Validation: loss=0.693, accuracy=0.351\n",
      "Time elapsed: 1.36 s\n",
      "========================================\n",
      "=============== Epoch: 6 ===============\n",
      "Train: loss=0.693, accuracy=0.337\n",
      "Validation: loss=0.693, accuracy=0.352\n",
      "Time elapsed: 1.47 s\n",
      "========================================\n",
      "=============== Epoch: 7 ===============\n",
      "Train: loss=0.693, accuracy=0.337\n",
      "Validation: loss=0.693, accuracy=0.352\n",
      "Time elapsed: 1.48 s\n",
      "========================================\n",
      "=============== Epoch: 8 ===============\n",
      "Train: loss=0.693, accuracy=0.337\n",
      "Validation: loss=0.693, accuracy=0.351\n",
      "Time elapsed: 1.37 s\n",
      "========================================\n",
      "=============== Epoch: 9 ===============\n",
      "Train: loss=0.693, accuracy=0.337\n",
      "Validation: loss=0.693, accuracy=0.353\n",
      "Time elapsed: 1.41 s\n",
      "========================================\n",
      "=============== Epoch: 10 ===============\n",
      "Train: loss=0.693, accuracy=0.338\n",
      "Validation: loss=0.693, accuracy=0.352\n",
      "Time elapsed: 1.36 s\n",
      "========================================\n"
     ]
    }
   ],
   "source": [
    "optimizer = optim.RMSprop(simple_rnn.parameters(), lr=1e-3)\n",
    "loss_function = torch.nn.BCEWithLogitsLoss().to(device)\n",
    "\n",
    "simple_rnn_history = training(\n",
    "    simple_rnn,\n",
    "    train_dataloader,\n",
    "    val_dataloader,\n",
    "    optimizer,\n",
    "    loss_function,\n",
    ")"
   ],
   "metadata": {
    "collapsed": false
   }
  },
  {
   "cell_type": "code",
   "execution_count": 95,
   "outputs": [
    {
     "data": {
      "text/plain": "<Figure size 640x480 with 1 Axes>",
      "image/png": "[encoded data removed]"
     },
     "metadata": {},
     "output_type": "display_data"
    },
    {
     "data": {
      "text/plain": "<Figure size 640x480 with 1 Axes>",
      "image/png": "[encoded data removed]"
     },
     "metadata": {},
     "output_type": "display_data"
    }
   ],
   "source": [
    "plot_history(simple_rnn_history)"
   ],
   "metadata": {
    "collapsed": false
   }
  },
  {
   "cell_type": "markdown",
   "source": [
    "## LSTM"
   ],
   "metadata": {
    "collapsed": false
   }
  },
  {
   "cell_type": "code",
   "execution_count": 190,
   "outputs": [],
   "source": [
    "class LSTMModel(torch.nn.Module):\n",
    "\n",
    "    def __init__(\n",
    "            self,\n",
    "            input_dim: int,\n",
    "            embedding_dim: int,\n",
    "            hidden_dim: int,\n",
    "            output_dim: int,\n",
    "            dropout: float,\n",
    "            num_lstm_layers: int = 2,\n",
    "    ):\n",
    "        super().__init__()\n",
    "        self.input_dim = input_dim\n",
    "        self.embedding_dim = embedding_dim\n",
    "        self.hidden_dim = hidden_dim\n",
    "        self.output_dim = output_dim\n",
    "\n",
    "        self.embeddings = torch.nn.Embedding(input_dim, embedding_dim)\n",
    "        self.rnn_layer = torch.nn.LSTM(\n",
    "            embedding_dim,\n",
    "            hidden_dim,\n",
    "            dropout=dropout,\n",
    "            num_layers=num_lstm_layers,\n",
    "            bidirectional=True,\n",
    "        )\n",
    "        fc_input = 2 * hidden_dim\n",
    "        self.fully_connected = torch.nn.Linear(fc_input, output_dim)\n",
    "        self.sigmoid = torch.nn.Sigmoid()\n",
    "\n",
    "    def forward(self, sequence):\n",
    "        embedded = self.embeddings(sequence)\n",
    "        packed_output, (hidden_state, cell_state) = self.rnn_layer(embedded)\n",
    "        lstm_out = torch.cat((hidden_state[-2, :, :], hidden_state[-1, :, :]), dim=1)\n",
    "        fc_out = self.fully_connected(lstm_out)\n",
    "        sigmoid_out = self.sigmoid(fc_out)\n",
    "        return sigmoid_out\n"
   ],
   "metadata": {
    "collapsed": false
   }
  },
  {
   "cell_type": "code",
   "execution_count": 191,
   "outputs": [
    {
     "data": {
      "text/plain": "LSTMModel(\n  (embeddings): Embedding(513, 128)\n  (rnn_layer): LSTM(128, 32, num_layers=2, dropout=0.2, bidirectional=True)\n  (fully_connected): Linear(in_features=64, out_features=3, bias=True)\n  (sigmoid): Sigmoid()\n)"
     },
     "execution_count": 191,
     "metadata": {},
     "output_type": "execute_result"
    }
   ],
   "source": [
    "lstm_model = LSTMModel(\n",
    "    input_dim=INPUT_DIM,\n",
    "    embedding_dim=EMBEDDING_DIM,\n",
    "    hidden_dim=HIDDEN_DIM,\n",
    "    output_dim=OUTPUT_DIM,\n",
    "    dropout=DROPOUT,\n",
    ")\n",
    "lstm_model = lstm_model.to(device)\n",
    "lstm_model"
   ],
   "metadata": {
    "collapsed": false
   }
  },
  {
   "cell_type": "code",
   "execution_count": 192,
   "outputs": [
    {
     "name": "stdout",
     "output_type": "stream",
     "text": [
      "=============== Epoch: 1 ===============\n",
      "Train: loss=0.695, accuracy=0.334\n",
      "Validation: loss=0.693, accuracy=0.351\n",
      "Time elapsed: 3.49 s\n",
      "========================================\n",
      "=============== Epoch: 2 ===============\n",
      "Train: loss=0.693, accuracy=0.338\n",
      "Validation: loss=0.693, accuracy=0.350\n",
      "Time elapsed: 3.40 s\n",
      "========================================\n",
      "=============== Epoch: 3 ===============\n",
      "Train: loss=0.693, accuracy=0.336\n",
      "Validation: loss=0.693, accuracy=0.350\n",
      "Time elapsed: 2.98 s\n",
      "========================================\n",
      "=============== Epoch: 4 ===============\n",
      "Train: loss=0.693, accuracy=0.337\n",
      "Validation: loss=0.693, accuracy=0.350\n",
      "Time elapsed: 3.07 s\n",
      "========================================\n",
      "=============== Epoch: 5 ===============\n",
      "Train: loss=0.693, accuracy=0.336\n",
      "Validation: loss=0.693, accuracy=0.350\n",
      "Time elapsed: 3.02 s\n",
      "========================================\n",
      "=============== Epoch: 6 ===============\n",
      "Train: loss=0.693, accuracy=0.336\n",
      "Validation: loss=0.693, accuracy=0.350\n",
      "Time elapsed: 3.03 s\n",
      "========================================\n",
      "=============== Epoch: 7 ===============\n",
      "Train: loss=0.693, accuracy=0.337\n",
      "Validation: loss=0.693, accuracy=0.351\n",
      "Time elapsed: 3.12 s\n",
      "========================================\n",
      "=============== Epoch: 8 ===============\n",
      "Train: loss=0.693, accuracy=0.337\n",
      "Validation: loss=0.693, accuracy=0.350\n",
      "Time elapsed: 3.03 s\n",
      "========================================\n",
      "=============== Epoch: 9 ===============\n",
      "Train: loss=0.693, accuracy=0.337\n",
      "Validation: loss=0.693, accuracy=0.351\n",
      "Time elapsed: 3.19 s\n",
      "========================================\n",
      "=============== Epoch: 10 ===============\n",
      "Train: loss=0.693, accuracy=0.337\n",
      "Validation: loss=0.692, accuracy=0.349\n",
      "Time elapsed: 3.05 s\n",
      "========================================\n"
     ]
    }
   ],
   "source": [
    "optimizer = optim.RMSprop(lstm_model.parameters(), lr=1e-3)\n",
    "loss_function = torch.nn.BCEWithLogitsLoss().to(device)\n",
    "\n",
    "lstm_history = training(\n",
    "    lstm_model,\n",
    "    train_dataloader,\n",
    "    val_dataloader,\n",
    "    optimizer,\n",
    "    loss_function,\n",
    ")"
   ],
   "metadata": {
    "collapsed": false
   }
  },
  {
   "cell_type": "code",
   "execution_count": 193,
   "outputs": [
    {
     "data": {
      "text/plain": "<Figure size 640x480 with 1 Axes>",
      "image/png": "[encoded data removed]"
     },
     "metadata": {},
     "output_type": "display_data"
    },
    {
     "data": {
      "text/plain": "<Figure size 640x480 with 1 Axes>",
      "image/png": "[encoded data removed]"
     },
     "metadata": {},
     "output_type": "display_data"
    }
   ],
   "source": [
    "plot_history(lstm_history)"
   ],
   "metadata": {
    "collapsed": false
   }
  },
  {
   "cell_type": "markdown",
   "source": [
    "## GRU"
   ],
   "metadata": {
    "collapsed": false
   }
  },
  {
   "cell_type": "code",
   "execution_count": 199,
   "outputs": [],
   "source": [
    "class GRUModel(torch.nn.Module):\n",
    "\n",
    "    def __init__(\n",
    "            self,\n",
    "            input_dim: int,\n",
    "            embedding_dim: int,\n",
    "            hidden_dim: int,\n",
    "            output_dim: int,\n",
    "            dropout: float,\n",
    "            num_lstm_layers: int = 2,\n",
    "    ):\n",
    "        super().__init__()\n",
    "        self.input_dim = input_dim\n",
    "        self.embedding_dim = embedding_dim\n",
    "        self.hidden_dim = hidden_dim\n",
    "        self.output_dim = output_dim\n",
    "\n",
    "        self.embeddings = torch.nn.Embedding(input_dim, embedding_dim)\n",
    "        self.rnn_layer = torch.nn.GRU(\n",
    "            embedding_dim,\n",
    "            hidden_dim,\n",
    "            dropout=dropout,\n",
    "            num_layers=num_lstm_layers,\n",
    "            bidirectional=True,\n",
    "        )\n",
    "        fc_input = 2 * hidden_dim\n",
    "        self.fully_connected = torch.nn.Linear(fc_input, output_dim)\n",
    "        self.sigmoid = torch.nn.Sigmoid()\n",
    "\n",
    "    def forward(self, sequence):\n",
    "        embedded = self.embeddings(sequence)\n",
    "        packed_output, hidden_state = self.rnn_layer(embedded)\n",
    "        lstm_out = torch.cat((hidden_state[-2, :, :], hidden_state[-1, :, :]), dim=1)\n",
    "        fc_out = self.fully_connected(lstm_out)\n",
    "        sigmoid_out = self.sigmoid(fc_out)\n",
    "        return sigmoid_out"
   ],
   "metadata": {
    "collapsed": false
   }
  },
  {
   "cell_type": "code",
   "execution_count": 200,
   "outputs": [
    {
     "data": {
      "text/plain": "GRUModel(\n  (embeddings): Embedding(513, 128)\n  (rnn_layer): GRU(128, 32, num_layers=2, dropout=0.2, bidirectional=True)\n  (fully_connected): Linear(in_features=64, out_features=3, bias=True)\n  (sigmoid): Sigmoid()\n)"
     },
     "execution_count": 200,
     "metadata": {},
     "output_type": "execute_result"
    }
   ],
   "source": [
    "gru_model = GRUModel(\n",
    "    input_dim=INPUT_DIM,\n",
    "    embedding_dim=EMBEDDING_DIM,\n",
    "    hidden_dim=HIDDEN_DIM,\n",
    "    output_dim=OUTPUT_DIM,\n",
    "    dropout=DROPOUT,\n",
    ")\n",
    "gru_model = gru_model.to(device)\n",
    "gru_model"
   ],
   "metadata": {
    "collapsed": false
   }
  },
  {
   "cell_type": "code",
   "execution_count": 201,
   "outputs": [
    {
     "name": "stdout",
     "output_type": "stream",
     "text": [
      "=============== Epoch: 1 ===============\n",
      "Train: loss=0.696, accuracy=0.336\n",
      "Validation: loss=0.693, accuracy=0.349\n",
      "Time elapsed: 2.68 s\n",
      "========================================\n",
      "=============== Epoch: 2 ===============\n",
      "Train: loss=0.693, accuracy=0.337\n",
      "Validation: loss=0.693, accuracy=0.351\n",
      "Time elapsed: 2.22 s\n",
      "========================================\n",
      "=============== Epoch: 3 ===============\n",
      "Train: loss=0.693, accuracy=0.336\n",
      "Validation: loss=0.693, accuracy=0.351\n",
      "Time elapsed: 2.31 s\n",
      "========================================\n",
      "=============== Epoch: 4 ===============\n",
      "Train: loss=0.693, accuracy=0.337\n",
      "Validation: loss=0.693, accuracy=0.351\n",
      "Time elapsed: 2.55 s\n",
      "========================================\n",
      "=============== Epoch: 5 ===============\n",
      "Train: loss=0.693, accuracy=0.336\n",
      "Validation: loss=0.693, accuracy=0.351\n",
      "Time elapsed: 2.30 s\n",
      "========================================\n",
      "=============== Epoch: 6 ===============\n",
      "Train: loss=0.693, accuracy=0.337\n",
      "Validation: loss=0.692, accuracy=0.351\n",
      "Time elapsed: 2.29 s\n",
      "========================================\n",
      "=============== Epoch: 7 ===============\n",
      "Train: loss=0.693, accuracy=0.337\n",
      "Validation: loss=0.692, accuracy=0.351\n",
      "Time elapsed: 2.41 s\n",
      "========================================\n",
      "=============== Epoch: 8 ===============\n",
      "Train: loss=0.692, accuracy=0.337\n",
      "Validation: loss=0.692, accuracy=0.349\n",
      "Time elapsed: 2.27 s\n",
      "========================================\n",
      "=============== Epoch: 9 ===============\n",
      "Train: loss=0.692, accuracy=0.336\n",
      "Validation: loss=0.692, accuracy=0.351\n",
      "Time elapsed: 2.29 s\n",
      "========================================\n",
      "=============== Epoch: 10 ===============\n",
      "Train: loss=0.692, accuracy=0.337\n",
      "Validation: loss=0.692, accuracy=0.349\n",
      "Time elapsed: 2.37 s\n",
      "========================================\n"
     ]
    }
   ],
   "source": [
    "optimizer = optim.RMSprop(gru_model.parameters(), lr=1e-3)\n",
    "loss_function = torch.nn.BCEWithLogitsLoss().to(device)\n",
    "\n",
    "lstm_history = training(\n",
    "    gru_model,\n",
    "    train_dataloader,\n",
    "    val_dataloader,\n",
    "    optimizer,\n",
    "    loss_function,\n",
    ")"
   ],
   "metadata": {
    "collapsed": false
   }
  },
  {
   "cell_type": "code",
   "execution_count": 202,
   "outputs": [
    {
     "data": {
      "text/plain": "<Figure size 640x480 with 1 Axes>",
      "image/png": "[encoded data removed]"
     },
     "metadata": {},
     "output_type": "display_data"
    },
    {
     "data": {
      "text/plain": "<Figure size 640x480 with 1 Axes>",
      "image/png": "[encoded data removed]"
     },
     "metadata": {},
     "output_type": "display_data"
    }
   ],
   "source": [
    "plot_history(lstm_history)"
   ],
   "metadata": {
    "collapsed": false
   }
  },
  {
   "cell_type": "code",
   "execution_count": null,
   "outputs": [],
   "source": [],
   "metadata": {
    "collapsed": false
   }
  }
 ],
 "metadata": {
  "kernelspec": {
   "display_name": "Python 3",
   "language": "python",
   "name": "python3"
  },
  "language_info": {
   "codemirror_mode": {
    "name": "ipython",
    "version": 2
   },
   "file_extension": ".py",
   "mimetype": "text/x-python",
   "name": "python",
   "nbconvert_exporter": "python",
   "pygments_lexer": "ipython2",
   "version": "2.7.6"
  }
 },
 "nbformat": 4,
 "nbformat_minor": 0
}
