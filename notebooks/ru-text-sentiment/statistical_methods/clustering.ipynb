{
 "cells": [
  {
   "cell_type": "code",
   "execution_count": 13,
   "metadata": {
    "collapsed": true
   },
   "outputs": [],
   "source": [
    "import warnings\n",
    "\n",
    "from tqdm.notebook import tqdm_notebook\n",
    "\n",
    "tqdm_notebook.pandas()\n",
    "warnings.filterwarnings('ignore')\n",
    "\n",
    "import pandas as pd\n",
    "from nltk.tokenize.casual import casual_tokenize\n",
    "\n",
    "from sklearn.cluster import KMeans\n",
    "from sklearn.feature_extraction.text import TfidfVectorizer\n",
    "from sklearn.metrics import (\n",
    "    adjusted_rand_score,\n",
    "    adjusted_mutual_info_score,\n",
    "    homogeneity_score,\n",
    "    completeness_score,\n",
    "    v_measure_score,\n",
    "    silhouette_score,\n",
    ")\n",
    "from sklearn.preprocessing import LabelEncoder\n",
    "\n",
    "\n",
    "NGRAM_RANGE = (1,1)\n",
    "N_SAMPLES = 40000\n",
    "DATASET_PATH = \"../data/stemming_post_texts.csv\""
   ]
  },
  {
   "cell_type": "code",
   "execution_count": 14,
   "outputs": [
    {
     "data": {
      "text/plain": "                                                text sentiment\n0  украин эт част рус искусствен отделен котор ру...  negative\n1  говор относительн небольш коррупц образован ст...  negative\n2  сво поляк сдела русск понятн литовск поляк так...   neutral\n3  фильм зрител люб диковин соседк пят месяц узна...   neutral\n4  государств плат посмотр денежн поток пенсион ф...  negative",
      "text/html": "<div>\n<style scoped>\n    .dataframe tbody tr th:only-of-type {\n        vertical-align: middle;\n    }\n\n    .dataframe tbody tr th {\n        vertical-align: top;\n    }\n\n    .dataframe thead th {\n        text-align: right;\n    }\n</style>\n<table border=\"1\" class=\"dataframe\">\n  <thead>\n    <tr style=\"text-align: right;\">\n      <th></th>\n      <th>text</th>\n      <th>sentiment</th>\n    </tr>\n  </thead>\n  <tbody>\n    <tr>\n      <th>0</th>\n      <td>украин эт част рус искусствен отделен котор ру...</td>\n      <td>negative</td>\n    </tr>\n    <tr>\n      <th>1</th>\n      <td>говор относительн небольш коррупц образован ст...</td>\n      <td>negative</td>\n    </tr>\n    <tr>\n      <th>2</th>\n      <td>сво поляк сдела русск понятн литовск поляк так...</td>\n      <td>neutral</td>\n    </tr>\n    <tr>\n      <th>3</th>\n      <td>фильм зрител люб диковин соседк пят месяц узна...</td>\n      <td>neutral</td>\n    </tr>\n    <tr>\n      <th>4</th>\n      <td>государств плат посмотр денежн поток пенсион ф...</td>\n      <td>negative</td>\n    </tr>\n  </tbody>\n</table>\n</div>"
     },
     "execution_count": 14,
     "metadata": {},
     "output_type": "execute_result"
    }
   ],
   "source": [
    "corpus_df = pd.read_csv(DATASET_PATH)\n",
    "corpus_df.head()"
   ],
   "metadata": {
    "collapsed": false
   }
  },
  {
   "cell_type": "code",
   "execution_count": 15,
   "outputs": [],
   "source": [
    "if N_SAMPLES:\n",
    "    corpus_df = corpus_df.sample(N_SAMPLES)\n",
    "train_corpus_df = corpus_df.dropna(subset=[\"text\"]).sample(frac=1).reset_index(drop=True)\n",
    "text_documents_list = train_corpus_df.text.to_list()"
   ],
   "metadata": {
    "collapsed": false
   }
  },
  {
   "cell_type": "code",
   "execution_count": 16,
   "outputs": [],
   "source": [
    "label_encoder = LabelEncoder()"
   ],
   "metadata": {
    "collapsed": false
   }
  },
  {
   "cell_type": "code",
   "execution_count": 17,
   "outputs": [],
   "source": [
    "tf_idf_vectorizer = TfidfVectorizer(tokenizer=casual_tokenize, ngram_range=NGRAM_RANGE, max_features=1000)"
   ],
   "metadata": {
    "collapsed": false
   }
  },
  {
   "cell_type": "code",
   "execution_count": 18,
   "outputs": [
    {
     "name": "stdout",
     "output_type": "stream",
     "text": [
      "CPU times: total: 6.23 s\n",
      "Wall time: 6.24 s\n"
     ]
    },
    {
     "data": {
      "text/plain": "TfidfVectorizer(max_features=1000,\n                tokenizer=<function casual_tokenize at 0x000001D36E4F4CA0>)",
      "text/html": "<style>#sk-container-id-2 {color: black;background-color: white;}#sk-container-id-2 pre{padding: 0;}#sk-container-id-2 div.sk-toggleable {background-color: white;}#sk-container-id-2 label.sk-toggleable__label {cursor: pointer;display: block;width: 100%;margin-bottom: 0;padding: 0.3em;box-sizing: border-box;text-align: center;}#sk-container-id-2 label.sk-toggleable__label-arrow:before {content: \"▸\";float: left;margin-right: 0.25em;color: #696969;}#sk-container-id-2 label.sk-toggleable__label-arrow:hover:before {color: black;}#sk-container-id-2 div.sk-estimator:hover label.sk-toggleable__label-arrow:before {color: black;}#sk-container-id-2 div.sk-toggleable__content {max-height: 0;max-width: 0;overflow: hidden;text-align: left;background-color: #f0f8ff;}#sk-container-id-2 div.sk-toggleable__content pre {margin: 0.2em;color: black;border-radius: 0.25em;background-color: #f0f8ff;}#sk-container-id-2 input.sk-toggleable__control:checked~div.sk-toggleable__content {max-height: 200px;max-width: 100%;overflow: auto;}#sk-container-id-2 input.sk-toggleable__control:checked~label.sk-toggleable__label-arrow:before {content: \"▾\";}#sk-container-id-2 div.sk-estimator input.sk-toggleable__control:checked~label.sk-toggleable__label {background-color: #d4ebff;}#sk-container-id-2 div.sk-label input.sk-toggleable__control:checked~label.sk-toggleable__label {background-color: #d4ebff;}#sk-container-id-2 input.sk-hidden--visually {border: 0;clip: rect(1px 1px 1px 1px);clip: rect(1px, 1px, 1px, 1px);height: 1px;margin: -1px;overflow: hidden;padding: 0;position: absolute;width: 1px;}#sk-container-id-2 div.sk-estimator {font-family: monospace;background-color: #f0f8ff;border: 1px dotted black;border-radius: 0.25em;box-sizing: border-box;margin-bottom: 0.5em;}#sk-container-id-2 div.sk-estimator:hover {background-color: #d4ebff;}#sk-container-id-2 div.sk-parallel-item::after {content: \"\";width: 100%;border-bottom: 1px solid gray;flex-grow: 1;}#sk-container-id-2 div.sk-label:hover label.sk-toggleable__label {background-color: #d4ebff;}#sk-container-id-2 div.sk-serial::before {content: \"\";position: absolute;border-left: 1px solid gray;box-sizing: border-box;top: 0;bottom: 0;left: 50%;z-index: 0;}#sk-container-id-2 div.sk-serial {display: flex;flex-direction: column;align-items: center;background-color: white;padding-right: 0.2em;padding-left: 0.2em;position: relative;}#sk-container-id-2 div.sk-item {position: relative;z-index: 1;}#sk-container-id-2 div.sk-parallel {display: flex;align-items: stretch;justify-content: center;background-color: white;position: relative;}#sk-container-id-2 div.sk-item::before, #sk-container-id-2 div.sk-parallel-item::before {content: \"\";position: absolute;border-left: 1px solid gray;box-sizing: border-box;top: 0;bottom: 0;left: 50%;z-index: -1;}#sk-container-id-2 div.sk-parallel-item {display: flex;flex-direction: column;z-index: 1;position: relative;background-color: white;}#sk-container-id-2 div.sk-parallel-item:first-child::after {align-self: flex-end;width: 50%;}#sk-container-id-2 div.sk-parallel-item:last-child::after {align-self: flex-start;width: 50%;}#sk-container-id-2 div.sk-parallel-item:only-child::after {width: 0;}#sk-container-id-2 div.sk-dashed-wrapped {border: 1px dashed gray;margin: 0 0.4em 0.5em 0.4em;box-sizing: border-box;padding-bottom: 0.4em;background-color: white;}#sk-container-id-2 div.sk-label label {font-family: monospace;font-weight: bold;display: inline-block;line-height: 1.2em;}#sk-container-id-2 div.sk-label-container {text-align: center;}#sk-container-id-2 div.sk-container {/* jupyter's `normalize.less` sets `[hidden] { display: none; }` but bootstrap.min.css set `[hidden] { display: none !important; }` so we also need the `!important` here to be able to override the default hidden behavior on the sphinx rendered scikit-learn.org. See: https://github.com/scikit-learn/scikit-learn/issues/21755 */display: inline-block !important;position: relative;}#sk-container-id-2 div.sk-text-repr-fallback {display: none;}</style><div id=\"sk-container-id-2\" class=\"sk-top-container\"><div class=\"sk-text-repr-fallback\"><pre>TfidfVectorizer(max_features=1000,\n                tokenizer=&lt;function casual_tokenize at 0x000001D36E4F4CA0&gt;)</pre><b>In a Jupyter environment, please rerun this cell to show the HTML representation or trust the notebook. <br />On GitHub, the HTML representation is unable to render, please try loading this page with nbviewer.org.</b></div><div class=\"sk-container\" hidden><div class=\"sk-item\"><div class=\"sk-estimator sk-toggleable\"><input class=\"sk-toggleable__control sk-hidden--visually\" id=\"sk-estimator-id-2\" type=\"checkbox\" checked><label for=\"sk-estimator-id-2\" class=\"sk-toggleable__label sk-toggleable__label-arrow\">TfidfVectorizer</label><div class=\"sk-toggleable__content\"><pre>TfidfVectorizer(max_features=1000,\n                tokenizer=&lt;function casual_tokenize at 0x000001D36E4F4CA0&gt;)</pre></div></div></div></div></div>"
     },
     "execution_count": 18,
     "metadata": {},
     "output_type": "execute_result"
    }
   ],
   "source": [
    "%%time\n",
    "tf_idf_vectorizer.fit(text_documents_list)"
   ],
   "metadata": {
    "collapsed": false
   }
  },
  {
   "cell_type": "code",
   "execution_count": 19,
   "outputs": [
    {
     "name": "stdout",
     "output_type": "stream",
     "text": [
      "CPU times: total: 5.92 s\n",
      "Wall time: 5.97 s\n"
     ]
    }
   ],
   "source": [
    "%%time\n",
    "X = tf_idf_vectorizer.transform(train_corpus_df[\"text\"])\n",
    "y = label_encoder.fit_transform(train_corpus_df[\"sentiment\"])"
   ],
   "metadata": {
    "collapsed": false
   }
  },
  {
   "cell_type": "code",
   "execution_count": 20,
   "outputs": [],
   "source": [
    "def clustering_report(data, labels, clusters) -> str:\n",
    "    result = f\"ARI: {adjusted_rand_score(labels, clusters)}\\n\" \\\n",
    "             f\"AMI: {adjusted_mutual_info_score(labels, clusters)}\\n\" \\\n",
    "             f\"Homogeneity: {homogeneity_score(labels, clusters)}\\n\" \\\n",
    "             f\"Completeness: {completeness_score(labels, clusters)}\\n\" \\\n",
    "             f\"V-measure: {v_measure_score(labels, clusters)}\\n\" \\\n",
    "             f\"Silhouette: {silhouette_score(data, clusters)}\"\n",
    "    return result"
   ],
   "metadata": {
    "collapsed": false
   }
  },
  {
   "cell_type": "code",
   "execution_count": 21,
   "outputs": [
    {
     "name": "stdout",
     "output_type": "stream",
     "text": [
      "==========  K-means with 2 clusters  ==========\n",
      "ARI: -0.022758470751570645\n",
      "AMI: 0.030658251245385116\n",
      "Homogeneity: 0.023841760950679157\n",
      "Completeness: 0.04306864779320971\n",
      "V-measure: 0.030692755415232312\n",
      "Silhouette: 0.022898281940452892\n",
      "========================================\n",
      "==========  K-means with 12 clusters  ==========\n",
      "ARI: -0.025173828075731743\n",
      "AMI: 0.041987274823754056\n",
      "Homogeneity: 0.05759218514139013\n",
      "Completeness: 0.03330140913771758\n",
      "V-measure: 0.04220101396011028\n",
      "Silhouette: 0.036530729002088716\n",
      "========================================\n",
      "==========  K-means with 22 clusters  ==========\n",
      "ARI: 0.046189709604146596\n",
      "AMI: 0.07912967750085043\n",
      "Homogeneity: 0.12761213561042692\n",
      "Completeness: 0.05769511990425903\n",
      "V-measure: 0.0794636717794209\n",
      "Silhouette: 0.04321017479761457\n",
      "========================================\n",
      "==========  K-means with 32 clusters  ==========\n",
      "ARI: 0.03921064875703462\n",
      "AMI: 0.08526994076704082\n",
      "Homogeneity: 0.15251506877858795\n",
      "Completeness: 0.05960390421703733\n",
      "V-measure: 0.08571127252554914\n",
      "Silhouette: 0.04532980285231323\n",
      "========================================\n",
      "==========  K-means with 42 clusters  ==========\n",
      "ARI: 0.03112571154432301\n",
      "AMI: 0.07792500479651125\n",
      "Homogeneity: 0.1482499708088825\n",
      "Completeness: 0.053366332205210726\n",
      "V-measure: 0.07848132391403476\n",
      "Silhouette: 0.053867029223855285\n",
      "========================================\n",
      "==========  K-means with 52 clusters  ==========\n",
      "ARI: 0.02084914131940044\n",
      "AMI: 0.06923151726407614\n",
      "Homogeneity: 0.14766395911398048\n",
      "Completeness: 0.04574781845746033\n",
      "V-measure: 0.06985411208230075\n",
      "Silhouette: 0.05441226121303114\n",
      "========================================\n",
      "==========  K-means with 62 clusters  ==========\n",
      "ARI: 0.019919654185087846\n",
      "AMI: 0.07149052754262523\n",
      "Homogeneity: 0.16084052599349183\n",
      "Completeness: 0.046545289436402494\n",
      "V-measure: 0.07219750126064936\n",
      "Silhouette: 0.062267157312084626\n",
      "========================================\n",
      "==========  K-means with 72 clusters  ==========\n",
      "ARI: 0.016583221265355202\n",
      "AMI: 0.06942505315105091\n",
      "Homogeneity: 0.1616216150227201\n",
      "Completeness: 0.04485766180676738\n",
      "V-measure: 0.07022465264966832\n",
      "Silhouette: 0.0661157956548192\n",
      "========================================\n",
      "==========  K-means with 82 clusters  ==========\n",
      "ARI: 0.01494263863666992\n",
      "AMI: 0.0678377281873588\n",
      "Homogeneity: 0.16487351703141528\n",
      "Completeness: 0.043399072410905876\n",
      "V-measure: 0.06871146821045036\n",
      "Silhouette: 0.06541195941314407\n",
      "========================================\n",
      "==========  K-means with 92 clusters  ==========\n",
      "ARI: 0.014653057092497873\n",
      "AMI: 0.06533112854673662\n",
      "Homogeneity: 0.1665003545367677\n",
      "Completeness: 0.04137140892686055\n",
      "V-measure: 0.06627503552413118\n",
      "Silhouette: 0.0702847633875887\n",
      "========================================\n",
      "==========  K-means with 102 clusters  ==========\n",
      "ARI: 0.009668511079075782\n",
      "AMI: 0.06362810374113191\n",
      "Homogeneity: 0.16649000263821223\n",
      "Completeness: 0.040114818997417576\n",
      "V-measure: 0.06465208573389546\n",
      "Silhouette: 0.07144628260331896\n",
      "========================================\n",
      "==========  K-means with 112 clusters  ==========\n",
      "ARI: 0.0077654692393091095\n",
      "AMI: 0.0621555518080549\n",
      "Homogeneity: 0.16703582325955116\n",
      "Completeness: 0.03901345021193079\n",
      "V-measure: 0.06325325651048509\n",
      "Silhouette: 0.07307528697145287\n",
      "========================================\n",
      "==========  K-means with 122 clusters  ==========\n",
      "ARI: 0.008109340091475393\n",
      "AMI: 0.06034876705096817\n",
      "Homogeneity: 0.16616089972337778\n",
      "Completeness: 0.03774918628922142\n",
      "V-measure: 0.061521613572904546\n",
      "Silhouette: 0.06787752817761455\n",
      "========================================\n",
      "==========  K-means with 132 clusters  ==========\n",
      "ARI: 0.006198866757151236\n",
      "AMI: 0.05954459861172596\n",
      "Homogeneity: 0.16925116016628433\n",
      "Completeness: 0.037038866047436676\n",
      "V-measure: 0.060777257774717305\n",
      "Silhouette: 0.0757869514016051\n",
      "========================================\n"
     ]
    }
   ],
   "source": [
    "evaluations = []\n",
    "for n_cluster in range(2, 141, 10):\n",
    "    print(\"=\"*10, f\" K-means with {n_cluster} clusters \", \"=\"*10)\n",
    "    result = {\"clusters\": n_cluster}\n",
    "    k_means_model = KMeans(n_clusters=n_cluster)\n",
    "    k_means_model.fit(X)\n",
    "    result[\"silhouette_score\"] = silhouette_score(X, k_means_model.labels_)\n",
    "    evaluations.append(result)\n",
    "    print(clustering_report(X, y, k_means_model.labels_))\n",
    "    print(\"=\"*40)"
   ],
   "metadata": {
    "collapsed": false
   }
  },
  {
   "cell_type": "code",
   "execution_count": 22,
   "outputs": [],
   "source": [
    "evaluations_df = pd.DataFrame(data=evaluations)"
   ],
   "metadata": {
    "collapsed": false
   }
  },
  {
   "cell_type": "code",
   "execution_count": 23,
   "outputs": [
    {
     "data": {
      "text/plain": "<AxesSubplot: xlabel='clusters'>"
     },
     "execution_count": 23,
     "metadata": {},
     "output_type": "execute_result"
    },
    {
     "data": {
      "text/plain": "<Figure size 700x500 with 1 Axes>",
      "image/png": "[encoded data removed]"
     },
     "metadata": {},
     "output_type": "display_data"
    }
   ],
   "source": [
    "evaluations_df.plot(x=\"clusters\", y=\"silhouette_score\", figsize=(7, 5))"
   ],
   "metadata": {
    "collapsed": false
   }
  },
  {
   "cell_type": "code",
   "execution_count": null,
   "outputs": [],
   "source": [],
   "metadata": {
    "collapsed": false
   }
  }
 ],
 "metadata": {
  "kernelspec": {
   "display_name": "Python 3",
   "language": "python",
   "name": "python3"
  },
  "language_info": {
   "codemirror_mode": {
    "name": "ipython",
    "version": 2
   },
   "file_extension": ".py",
   "mimetype": "text/x-python",
   "name": "python",
   "nbconvert_exporter": "python",
   "pygments_lexer": "ipython2",
   "version": "2.7.6"
  }
 },
 "nbformat": 4,
 "nbformat_minor": 0
}
