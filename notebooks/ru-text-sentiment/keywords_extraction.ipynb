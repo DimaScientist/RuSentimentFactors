{
 "cells": [
  {
   "cell_type": "markdown",
   "source": [
    "# Keywords extractor"
   ],
   "metadata": {
    "collapsed": false
   }
  },
  {
   "cell_type": "code",
   "execution_count": 1,
   "outputs": [],
   "source": [
    "import pandas as pd"
   ],
   "metadata": {
    "collapsed": false,
    "ExecuteTime": {
     "start_time": "2023-04-16T19:04:36.660448Z",
     "end_time": "2023-04-16T19:04:37.480451Z"
    }
   }
  },
  {
   "cell_type": "code",
   "execution_count": 2,
   "outputs": [
    {
     "data": {
      "text/plain": "                                                text sentiment\n0  украина это часть русь искусственно отделять к...  negative\n1  говорить относительно небольшой коррупция обра...  negative\n2  свой поляк сделать русский понятно литовский п...   neutral\n3  фильм зритель любить диковинный соседка пятый ...   neutral\n4  государство платить посмотреть денежный поток ...  negative",
      "text/html": "<div>\n<style scoped>\n    .dataframe tbody tr th:only-of-type {\n        vertical-align: middle;\n    }\n\n    .dataframe tbody tr th {\n        vertical-align: top;\n    }\n\n    .dataframe thead th {\n        text-align: right;\n    }\n</style>\n<table border=\"1\" class=\"dataframe\">\n  <thead>\n    <tr style=\"text-align: right;\">\n      <th></th>\n      <th>text</th>\n      <th>sentiment</th>\n    </tr>\n  </thead>\n  <tbody>\n    <tr>\n      <th>0</th>\n      <td>украина это часть русь искусственно отделять к...</td>\n      <td>negative</td>\n    </tr>\n    <tr>\n      <th>1</th>\n      <td>говорить относительно небольшой коррупция обра...</td>\n      <td>negative</td>\n    </tr>\n    <tr>\n      <th>2</th>\n      <td>свой поляк сделать русский понятно литовский п...</td>\n      <td>neutral</td>\n    </tr>\n    <tr>\n      <th>3</th>\n      <td>фильм зритель любить диковинный соседка пятый ...</td>\n      <td>neutral</td>\n    </tr>\n    <tr>\n      <th>4</th>\n      <td>государство платить посмотреть денежный поток ...</td>\n      <td>negative</td>\n    </tr>\n  </tbody>\n</table>\n</div>"
     },
     "execution_count": 2,
     "metadata": {},
     "output_type": "execute_result"
    }
   ],
   "source": [
    "post_df = pd.read_csv(\"./data/lemmatize_labeled_rusentiment_text_mystem.csv\")\n",
    "post_df.head()"
   ],
   "metadata": {
    "collapsed": false,
    "ExecuteTime": {
     "start_time": "2023-04-16T19:04:37.468448Z",
     "end_time": "2023-04-16T19:04:40.103548Z"
    }
   }
  },
  {
   "cell_type": "code",
   "execution_count": 6,
   "outputs": [],
   "source": [
    "post_df = post_df.dropna(subset=[\"text\"]).sample(frac=1).reset_index(drop=True)"
   ],
   "metadata": {
    "collapsed": false,
    "ExecuteTime": {
     "start_time": "2023-04-16T19:10:59.556892Z",
     "end_time": "2023-04-16T19:10:59.729893Z"
    }
   }
  },
  {
   "cell_type": "code",
   "execution_count": 7,
   "outputs": [],
   "source": [
    "positive_corpus = post_df[post_df[\"sentiment\"] == \"positive\"][\"text\"].tolist()[:10000]\n",
    "positive_corpus = \". \".join(positive_corpus)"
   ],
   "metadata": {
    "collapsed": false,
    "ExecuteTime": {
     "start_time": "2023-04-16T19:11:00.594166Z",
     "end_time": "2023-04-16T19:11:00.632167Z"
    }
   }
  },
  {
   "cell_type": "markdown",
   "source": [
    "## Rake"
   ],
   "metadata": {
    "collapsed": false
   }
  },
  {
   "cell_type": "code",
   "execution_count": 18,
   "outputs": [
    {
     "name": "stderr",
     "output_type": "stream",
     "text": [
      "[nltk_data] Downloading package stopwords to\n",
      "[nltk_data]     C:\\Users\\Dmitry\\AppData\\Roaming\\nltk_data...\n",
      "[nltk_data]   Package stopwords is already up-to-date!\n"
     ]
    }
   ],
   "source": [
    "from nlp_rake import Rake\n",
    "import nltk\n",
    "from nltk.corpus import stopwords\n",
    "\n",
    "nltk.download(\"stopwords\")\n",
    "stops = list(set(stopwords.words(\"russian\")))"
   ],
   "metadata": {
    "collapsed": false,
    "ExecuteTime": {
     "start_time": "2023-04-16T19:18:03.578788Z",
     "end_time": "2023-04-16T19:18:07.798924Z"
    }
   }
  },
  {
   "cell_type": "code",
   "execution_count": 19,
   "outputs": [],
   "source": [
    "rake = Rake(stopwords=stops, max_words=3)"
   ],
   "metadata": {
    "collapsed": false,
    "ExecuteTime": {
     "start_time": "2023-04-16T19:18:11.101948Z",
     "end_time": "2023-04-16T19:18:11.118469Z"
    }
   }
  },
  {
   "cell_type": "code",
   "execution_count": 20,
   "outputs": [
    {
     "data": {
      "text/plain": "[('носок расходиться шов', 9.0),\n ('издеваться хдддд старый', 9.0),\n ('оказываться германия президент', 9.0),\n ('опасный арза спокойный', 9.0),\n ('относиться вспомнить посмеяться', 9.0),\n ('взаимно весело романтичный', 9.0),\n ('бессоница начинаться каникулы', 9.0),\n ('женский логика предложение', 9.0),\n ('побег вроде писать', 9.0),\n ('бывший вспоминать улыбка', 9.0)]"
     },
     "execution_count": 20,
     "metadata": {},
     "output_type": "execute_result"
    }
   ],
   "source": [
    "rake.apply(positive_corpus)[:10]"
   ],
   "metadata": {
    "collapsed": false,
    "ExecuteTime": {
     "start_time": "2023-04-16T19:18:21.126200Z",
     "end_time": "2023-04-16T19:18:21.595210Z"
    }
   }
  },
  {
   "cell_type": "markdown",
   "source": [
    "## Yake"
   ],
   "metadata": {
    "collapsed": false
   }
  },
  {
   "cell_type": "code",
   "execution_count": 21,
   "outputs": [],
   "source": [
    "import yake"
   ],
   "metadata": {
    "collapsed": false,
    "ExecuteTime": {
     "start_time": "2023-04-16T19:18:26.058210Z",
     "end_time": "2023-04-16T19:18:26.325930Z"
    }
   }
  },
  {
   "cell_type": "code",
   "execution_count": 24,
   "outputs": [],
   "source": [
    "extractor = yake.KeywordExtractor(\n",
    "    lan=\"ru\",\n",
    "    n=3,\n",
    "    dedupLim=0.9,\n",
    "    top=10,\n",
    ")"
   ],
   "metadata": {
    "collapsed": false,
    "ExecuteTime": {
     "start_time": "2023-04-16T19:18:47.876239Z",
     "end_time": "2023-04-16T19:18:47.895250Z"
    }
   }
  },
  {
   "cell_type": "code",
   "execution_count": 25,
   "outputs": [
    {
     "data": {
      "text/plain": "[('размер', 0.000102895758618097),\n ('размер подходить', 0.000189205165164366),\n ('хороший', 0.00019133980043983356),\n ('качество', 0.00019167285253150247),\n ('приходить', 0.0002124934927752914),\n ('качество хороший', 0.0002426607891507971),\n ('продавец', 0.0002480000815403851),\n ('заказывать размер', 0.00026863440417239587),\n ('размер заказывать размер', 0.00027965512773646384),\n ('приходить быстро', 0.0002865976350048858)]"
     },
     "execution_count": 25,
     "metadata": {},
     "output_type": "execute_result"
    }
   ],
   "source": [
    "extractor.extract_keywords(positive_corpus)"
   ],
   "metadata": {
    "collapsed": false,
    "ExecuteTime": {
     "start_time": "2023-04-16T19:18:48.454331Z",
     "end_time": "2023-04-16T19:19:01.958279Z"
    }
   }
  },
  {
   "cell_type": "markdown",
   "source": [
    "## TextRank"
   ],
   "metadata": {
    "collapsed": false
   }
  },
  {
   "cell_type": "code",
   "execution_count": 11,
   "outputs": [],
   "source": [
    "from summa import keywords"
   ],
   "metadata": {
    "collapsed": false,
    "ExecuteTime": {
     "start_time": "2023-04-06T22:58:48.647369Z",
     "end_time": "2023-04-06T22:58:48.683371Z"
    }
   }
  },
  {
   "cell_type": "code",
   "execution_count": 17,
   "outputs": [],
   "source": [
    "clean_text_df = pd.read_csv(\"./data/lemmatize_labeled_rusentiment_text_mystem.csv\")"
   ],
   "metadata": {
    "collapsed": false,
    "ExecuteTime": {
     "start_time": "2023-04-06T23:03:19.726415Z",
     "end_time": "2023-04-06T23:03:22.445206Z"
    }
   }
  },
  {
   "cell_type": "code",
   "execution_count": 18,
   "outputs": [],
   "source": [
    "clean_text_df = clean_text_df.dropna(subset=[\"text\"]).sample(frac=1).reset_index(drop=True)"
   ],
   "metadata": {
    "collapsed": false,
    "ExecuteTime": {
     "start_time": "2023-04-06T23:03:22.447208Z",
     "end_time": "2023-04-06T23:03:22.602207Z"
    }
   }
  },
  {
   "cell_type": "code",
   "execution_count": 19,
   "outputs": [],
   "source": [
    "clean_positive_corpus = clean_text_df[clean_text_df[\"sentiment\"] == \"positive\"][\"text\"].tolist()[:1000]"
   ],
   "metadata": {
    "collapsed": false,
    "ExecuteTime": {
     "start_time": "2023-04-06T23:03:22.633207Z",
     "end_time": "2023-04-06T23:03:22.664206Z"
    }
   }
  },
  {
   "cell_type": "code",
   "execution_count": 20,
   "outputs": [],
   "source": [
    "clean_positive_corpus = \". \".join(clean_positive_corpus)"
   ],
   "metadata": {
    "collapsed": false,
    "ExecuteTime": {
     "start_time": "2023-04-06T23:03:23.439119Z",
     "end_time": "2023-04-06T23:03:23.455116Z"
    }
   }
  },
  {
   "cell_type": "code",
   "execution_count": 22,
   "outputs": [
    {
     "data": {
      "text/plain": "['эта',\n 'болеть это',\n 'свое',\n 'приходить',\n 'год выходить',\n 'день',\n 'спасибо',\n 'сентябрь годить',\n 'хороший',\n 'хотеться']"
     },
     "execution_count": 22,
     "metadata": {},
     "output_type": "execute_result"
    }
   ],
   "source": [
    "keywords.keywords(clean_positive_corpus, language=\"russian\").split(\"\\n\")[:10]"
   ],
   "metadata": {
    "collapsed": false,
    "ExecuteTime": {
     "start_time": "2023-04-06T23:09:56.425583Z",
     "end_time": "2023-04-06T23:11:15.815730Z"
    }
   }
  },
  {
   "cell_type": "markdown",
   "source": [
    "## SpaCy"
   ],
   "metadata": {
    "collapsed": false
   }
  },
  {
   "cell_type": "code",
   "execution_count": 14,
   "outputs": [],
   "source": [
    "from tqdm import tqdm\n",
    "\n",
    "import spacy"
   ],
   "metadata": {
    "collapsed": false,
    "ExecuteTime": {
     "start_time": "2023-04-16T19:14:24.855179Z",
     "end_time": "2023-04-16T19:14:24.865184Z"
    }
   }
  },
  {
   "cell_type": "code",
   "execution_count": 5,
   "outputs": [],
   "source": [
    "nlp = spacy.load(\"ru_core_news_lg\")"
   ],
   "metadata": {
    "collapsed": false,
    "ExecuteTime": {
     "start_time": "2023-04-16T19:10:27.009817Z",
     "end_time": "2023-04-16T19:10:29.363844Z"
    }
   }
  },
  {
   "cell_type": "code",
   "execution_count": 9,
   "outputs": [],
   "source": [
    "max_chunk_size = nlp.max_length"
   ],
   "metadata": {
    "collapsed": false,
    "ExecuteTime": {
     "start_time": "2023-04-16T19:13:10.110089Z",
     "end_time": "2023-04-16T19:13:10.124100Z"
    }
   }
  },
  {
   "cell_type": "code",
   "execution_count": 12,
   "outputs": [],
   "source": [
    "document_chunks = [positive_corpus[i : i + max_chunk_size] for i in range(0, len(positive_corpus), max_chunk_size)]"
   ],
   "metadata": {
    "collapsed": false,
    "ExecuteTime": {
     "start_time": "2023-04-16T19:13:58.136815Z",
     "end_time": "2023-04-16T19:13:58.149815Z"
    }
   }
  },
  {
   "cell_type": "code",
   "execution_count": 15,
   "outputs": [
    {
     "name": "stderr",
     "output_type": "stream",
     "text": [
      "100%|██████████| 2/2 [01:15<00:00, 37.85s/it]\n"
     ]
    }
   ],
   "source": [
    "docs = []\n",
    "for document_chunk in tqdm(document_chunks):\n",
    "    doc = nlp(document_chunk)\n",
    "    docs.append(doc)"
   ],
   "metadata": {
    "collapsed": false,
    "ExecuteTime": {
     "start_time": "2023-04-16T19:14:28.359726Z",
     "end_time": "2023-04-16T19:15:44.091162Z"
    }
   }
  },
  {
   "cell_type": "code",
   "execution_count": 17,
   "outputs": [
    {
     "data": {
      "text/plain": "(дн спб,\n казахстан,\n республика казахстан,\n республика казахстан,\n республика казахстан,\n казахстан,\n республика казахстан,\n республика казахстан,\n альберт рау,\n казахстан)"
     },
     "execution_count": 17,
     "metadata": {},
     "output_type": "execute_result"
    }
   ],
   "source": [
    "docs[0].ents[:10]"
   ],
   "metadata": {
    "collapsed": false,
    "ExecuteTime": {
     "start_time": "2023-04-16T19:17:13.561996Z",
     "end_time": "2023-04-16T19:17:13.579153Z"
    }
   }
  },
  {
   "cell_type": "code",
   "execution_count": 26,
   "outputs": [
    {
     "ename": "ModuleNotFoundError",
     "evalue": "No module named 'gensim.summarization'",
     "output_type": "error",
     "traceback": [
      "\u001B[1;31m---------------------------------------------------------------------------\u001B[0m",
      "\u001B[1;31mModuleNotFoundError\u001B[0m                       Traceback (most recent call last)",
      "Cell \u001B[1;32mIn[26], line 1\u001B[0m\n\u001B[1;32m----> 1\u001B[0m \u001B[38;5;28;01mfrom\u001B[39;00m \u001B[38;5;21;01mgensim\u001B[39;00m\u001B[38;5;21;01m.\u001B[39;00m\u001B[38;5;21;01msummarization\u001B[39;00m \u001B[38;5;28;01mimport\u001B[39;00m keywords\n",
      "\u001B[1;31mModuleNotFoundError\u001B[0m: No module named 'gensim.summarization'"
     ]
    }
   ],
   "source": [
    "from gensim.summarization import keywords"
   ],
   "metadata": {
    "collapsed": false
   }
  },
  {
   "cell_type": "code",
   "execution_count": null,
   "outputs": [],
   "source": [],
   "metadata": {
    "collapsed": false
   }
  }
 ],
 "metadata": {
  "kernelspec": {
   "display_name": "Python 3",
   "language": "python",
   "name": "python3"
  },
  "language_info": {
   "codemirror_mode": {
    "name": "ipython",
    "version": 2
   },
   "file_extension": ".py",
   "mimetype": "text/x-python",
   "name": "python",
   "nbconvert_exporter": "python",
   "pygments_lexer": "ipython2",
   "version": "2.7.6"
  }
 },
 "nbformat": 4,
 "nbformat_minor": 0
}
