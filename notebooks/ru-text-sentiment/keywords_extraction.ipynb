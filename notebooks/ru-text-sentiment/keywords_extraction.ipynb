{
 "cells": [
  {
   "cell_type": "markdown",
   "source": [
    "# Keywords extractor"
   ],
   "metadata": {
    "collapsed": false
   }
  },
  {
   "cell_type": "code",
   "execution_count": 1,
   "outputs": [],
   "source": [
    "import pandas as pd"
   ],
   "metadata": {
    "collapsed": false,
    "ExecuteTime": {
     "start_time": "2023-04-06T22:58:31.262638Z",
     "end_time": "2023-04-06T22:58:31.307638Z"
    }
   }
  },
  {
   "cell_type": "code",
   "execution_count": 2,
   "outputs": [
    {
     "data": {
      "text/plain": "                                                text sentiment\n0  украина это часть русь искусственно отделять к...  negative\n1  говорить относительно небольшой коррупция обра...  negative\n2  свой поляк сделать русский понятно литовский п...   neutral\n3  фильм зритель любить диковинный соседка пятый ...   neutral\n4  государство платить посмотреть денежный поток ...  negative",
      "text/html": "<div>\n<style scoped>\n    .dataframe tbody tr th:only-of-type {\n        vertical-align: middle;\n    }\n\n    .dataframe tbody tr th {\n        vertical-align: top;\n    }\n\n    .dataframe thead th {\n        text-align: right;\n    }\n</style>\n<table border=\"1\" class=\"dataframe\">\n  <thead>\n    <tr style=\"text-align: right;\">\n      <th></th>\n      <th>text</th>\n      <th>sentiment</th>\n    </tr>\n  </thead>\n  <tbody>\n    <tr>\n      <th>0</th>\n      <td>украина это часть русь искусственно отделять к...</td>\n      <td>negative</td>\n    </tr>\n    <tr>\n      <th>1</th>\n      <td>говорить относительно небольшой коррупция обра...</td>\n      <td>negative</td>\n    </tr>\n    <tr>\n      <th>2</th>\n      <td>свой поляк сделать русский понятно литовский п...</td>\n      <td>neutral</td>\n    </tr>\n    <tr>\n      <th>3</th>\n      <td>фильм зритель любить диковинный соседка пятый ...</td>\n      <td>neutral</td>\n    </tr>\n    <tr>\n      <th>4</th>\n      <td>государство платить посмотреть денежный поток ...</td>\n      <td>negative</td>\n    </tr>\n  </tbody>\n</table>\n</div>"
     },
     "execution_count": 2,
     "metadata": {},
     "output_type": "execute_result"
    }
   ],
   "source": [
    "post_df = pd.read_csv(\"./data/lemmatize_labeled_rusentiment_text_mystem.csv\")\n",
    "post_df.head()"
   ],
   "metadata": {
    "collapsed": false,
    "ExecuteTime": {
     "start_time": "2023-04-06T22:58:31.280642Z",
     "end_time": "2023-04-06T22:58:33.565253Z"
    }
   }
  },
  {
   "cell_type": "code",
   "execution_count": 3,
   "outputs": [],
   "source": [
    "post_df = post_df.dropna(subset=[\"text\"]).sample(frac=1).reset_index(drop=True)"
   ],
   "metadata": {
    "collapsed": false,
    "ExecuteTime": {
     "start_time": "2023-04-06T22:58:33.565253Z",
     "end_time": "2023-04-06T22:58:33.719250Z"
    }
   }
  },
  {
   "cell_type": "code",
   "execution_count": 4,
   "outputs": [],
   "source": [
    "positive_corpus = post_df[post_df[\"sentiment\"] == \"positive\"][\"text\"].tolist()[:10000]\n",
    "positive_corpus = \". \".join(positive_corpus)"
   ],
   "metadata": {
    "collapsed": false,
    "ExecuteTime": {
     "start_time": "2023-04-06T22:58:33.708253Z",
     "end_time": "2023-04-06T22:58:33.770252Z"
    }
   }
  },
  {
   "cell_type": "markdown",
   "source": [
    "## Rake"
   ],
   "metadata": {
    "collapsed": false
   }
  },
  {
   "cell_type": "code",
   "execution_count": 5,
   "outputs": [
    {
     "name": "stderr",
     "output_type": "stream",
     "text": [
      "[nltk_data] Downloading package stopwords to\n",
      "[nltk_data]     C:\\Users\\Dmitry\\AppData\\Roaming\\nltk_data...\n",
      "[nltk_data]   Package stopwords is already up-to-date!\n"
     ]
    }
   ],
   "source": [
    "from nlp_rake import Rake\n",
    "import nltk\n",
    "from nltk.corpus import stopwords\n",
    "\n",
    "nltk.download(\"stopwords\")\n",
    "stops = list(set(stopwords.words(\"russian\")))"
   ],
   "metadata": {
    "collapsed": false,
    "ExecuteTime": {
     "start_time": "2023-04-06T22:58:33.773253Z",
     "end_time": "2023-04-06T22:58:35.250805Z"
    }
   }
  },
  {
   "cell_type": "code",
   "execution_count": 6,
   "outputs": [],
   "source": [
    "rake = Rake(stopwords=stops, max_words=3)"
   ],
   "metadata": {
    "collapsed": false,
    "ExecuteTime": {
     "start_time": "2023-04-06T22:58:35.249805Z",
     "end_time": "2023-04-06T22:58:35.266805Z"
    }
   }
  },
  {
   "cell_type": "code",
   "execution_count": 7,
   "outputs": [
    {
     "data": {
      "text/plain": "[('чип тюнер задрачивать', 9.0),\n ('облипливать мочь особенно', 9.0),\n ('жее мооооя любимая', 9.0),\n ('мааааам жи взрослый', 9.0),\n ('кататься жениться кататься', 9.0),\n ('выбирать случаться планировать', 9.0),\n ('одинокий температурить поход', 9.0),\n ('вангуй ловатик зеленый', 9.0),\n ('дугаарыга нь гчих', 9.0),\n ('замечательный профессия предлагать', 9.0)]"
     },
     "execution_count": 7,
     "metadata": {},
     "output_type": "execute_result"
    }
   ],
   "source": [
    "rake.apply(positive_corpus)[:10]"
   ],
   "metadata": {
    "collapsed": false,
    "ExecuteTime": {
     "start_time": "2023-04-06T22:58:35.271804Z",
     "end_time": "2023-04-06T22:58:35.701688Z"
    }
   }
  },
  {
   "cell_type": "markdown",
   "source": [
    "## Yake"
   ],
   "metadata": {
    "collapsed": false
   }
  },
  {
   "cell_type": "code",
   "execution_count": 8,
   "outputs": [],
   "source": [
    "import yake"
   ],
   "metadata": {
    "collapsed": false,
    "ExecuteTime": {
     "start_time": "2023-04-06T22:58:35.674808Z",
     "end_time": "2023-04-06T22:58:36.050691Z"
    }
   }
  },
  {
   "cell_type": "code",
   "execution_count": 9,
   "outputs": [],
   "source": [
    "extractor = yake.KeywordExtractor(\n",
    "    lan=\"ru\",\n",
    "    n=3,\n",
    "    dedupLim=0.3,\n",
    "    top=10,\n",
    ")"
   ],
   "metadata": {
    "collapsed": false,
    "ExecuteTime": {
     "start_time": "2023-04-06T22:58:36.051690Z",
     "end_time": "2023-04-06T22:58:36.066691Z"
    }
   }
  },
  {
   "cell_type": "code",
   "execution_count": 10,
   "outputs": [
    {
     "data": {
      "text/plain": "[('размер', 9.760527791958743e-05),\n ('качество хороший', 0.00018670204549712247),\n ('приходить', 0.00021311169844256814),\n ('заказывать', 0.0002463800535873899),\n ('размер подходить качество', 0.00032567728988466545),\n ('доставка', 0.00040676449355744323),\n ('свой', 0.00045572051163252146),\n ('товар', 0.0005696460954690306),\n ('большой', 0.0006096392508756618),\n ('быстро', 0.0006345268009819878)]"
     },
     "execution_count": 10,
     "metadata": {},
     "output_type": "execute_result"
    }
   ],
   "source": [
    "extractor.extract_keywords(positive_corpus)"
   ],
   "metadata": {
    "collapsed": false,
    "ExecuteTime": {
     "start_time": "2023-04-06T22:58:36.067691Z",
     "end_time": "2023-04-06T22:58:48.674369Z"
    }
   }
  },
  {
   "cell_type": "markdown",
   "source": [
    "## TextRank"
   ],
   "metadata": {
    "collapsed": false
   }
  },
  {
   "cell_type": "code",
   "execution_count": 11,
   "outputs": [],
   "source": [
    "from summa import keywords"
   ],
   "metadata": {
    "collapsed": false,
    "ExecuteTime": {
     "start_time": "2023-04-06T22:58:48.647369Z",
     "end_time": "2023-04-06T22:58:48.683371Z"
    }
   }
  },
  {
   "cell_type": "code",
   "execution_count": 17,
   "outputs": [],
   "source": [
    "clean_text_df = pd.read_csv(\"./data/lemmatize_labeled_rusentiment_text_mystem.csv\")"
   ],
   "metadata": {
    "collapsed": false,
    "ExecuteTime": {
     "start_time": "2023-04-06T23:03:19.726415Z",
     "end_time": "2023-04-06T23:03:22.445206Z"
    }
   }
  },
  {
   "cell_type": "code",
   "execution_count": 18,
   "outputs": [],
   "source": [
    "clean_text_df = clean_text_df.dropna(subset=[\"text\"]).sample(frac=1).reset_index(drop=True)"
   ],
   "metadata": {
    "collapsed": false,
    "ExecuteTime": {
     "start_time": "2023-04-06T23:03:22.447208Z",
     "end_time": "2023-04-06T23:03:22.602207Z"
    }
   }
  },
  {
   "cell_type": "code",
   "execution_count": 19,
   "outputs": [],
   "source": [
    "clean_positive_corpus = clean_text_df[clean_text_df[\"sentiment\"] == \"positive\"][\"text\"].tolist()[:1000]"
   ],
   "metadata": {
    "collapsed": false,
    "ExecuteTime": {
     "start_time": "2023-04-06T23:03:22.633207Z",
     "end_time": "2023-04-06T23:03:22.664206Z"
    }
   }
  },
  {
   "cell_type": "code",
   "execution_count": 20,
   "outputs": [],
   "source": [
    "clean_positive_corpus = \". \".join(clean_positive_corpus)"
   ],
   "metadata": {
    "collapsed": false,
    "ExecuteTime": {
     "start_time": "2023-04-06T23:03:23.439119Z",
     "end_time": "2023-04-06T23:03:23.455116Z"
    }
   }
  },
  {
   "cell_type": "code",
   "execution_count": 22,
   "outputs": [
    {
     "data": {
      "text/plain": "['эта',\n 'болеть это',\n 'свое',\n 'приходить',\n 'год выходить',\n 'день',\n 'спасибо',\n 'сентябрь годить',\n 'хороший',\n 'хотеться']"
     },
     "execution_count": 22,
     "metadata": {},
     "output_type": "execute_result"
    }
   ],
   "source": [
    "keywords.keywords(clean_positive_corpus, language=\"russian\").split(\"\\n\")[:10]"
   ],
   "metadata": {
    "collapsed": false,
    "ExecuteTime": {
     "start_time": "2023-04-06T23:09:56.425583Z",
     "end_time": "2023-04-06T23:11:15.815730Z"
    }
   }
  },
  {
   "cell_type": "code",
   "execution_count": null,
   "outputs": [],
   "source": [],
   "metadata": {
    "collapsed": false
   }
  }
 ],
 "metadata": {
  "kernelspec": {
   "display_name": "Python 3",
   "language": "python",
   "name": "python3"
  },
  "language_info": {
   "codemirror_mode": {
    "name": "ipython",
    "version": 2
   },
   "file_extension": ".py",
   "mimetype": "text/x-python",
   "name": "python",
   "nbconvert_exporter": "python",
   "pygments_lexer": "ipython2",
   "version": "2.7.6"
  }
 },
 "nbformat": 4,
 "nbformat_minor": 0
}
